{
 "cells": [
  {
   "cell_type": "markdown",
   "metadata": {},
   "source": [
    "Declaration A\n",
    "\n",
    "Start by importing bbSearch to perform search algorithms"
   ]
  },
  {
   "cell_type": "code",
   "execution_count": 46,
   "metadata": {},
   "outputs": [
    {
     "name": "stdout",
     "output_type": "stream",
     "text": [
      "Installing bbSearch module from web ...\n",
      "creating bbmodcache subfolder\n",
      "downloading bbSearch module\n",
      "  % Total    % Received % Xferd  Average Speed   Time    Time     Time  Current\n",
      "                                 Dload  Upload   Total   Spent    Left  Speed\n",
      "100 18767  100 18767    0     0   315k      0 --:--:-- --:--:-- --:--:--  315k\n"
     ]
    }
   ],
   "source": [
    "!echo Installing bbSearch module from web ...\n",
    "!echo creating bbmodcache subfolder\n",
    "!mkdir -p bbmodcache\n",
    "!echo downloading bbSearch module\n",
    "!curl http://bb-ai.net.s3.amazonaws.com/bb-python-modules/bbSearch.py > bbmodcache/bbSearch.py\n",
    "\n",
    "from bbmodcache.bbSearch import SearchProblem, search"
   ]
  },
  {
   "cell_type": "markdown",
   "metadata": {},
   "source": [
    "Code from Search exercise 7. Creates the grids with their respective blocks and their respective colours"
   ]
  },
  {
   "cell_type": "code",
   "execution_count": 47,
   "metadata": {},
   "outputs": [],
   "source": [
    "import matplotlib.pyplot as plt\n",
    "import matplotlib.patches as patches\n",
    "from copy import deepcopy\n",
    "\n",
    "plt.ioff()  ## Turn off immediate display of plots\n",
    "\n",
    "COLORS = [\"lightgray\", \"red\", \"blue\", \"green\", \"yellow\",\n",
    "          \"orange\", \"purple\", \"pink\", \"brown\"]\n",
    "\n",
    "class BlockState:\n",
    "\n",
    "      # Specify mapping from directions to grid coordinate offsets:\n",
    "      neighbour_offset = {\"left\": (0,-1), \"right\": (0,+1), \"down\":(+1,0), \"up\":(-1,0)}\n",
    "\n",
    "      def __init__( self, blockstate, colors=COLORS ):\n",
    "        self.blockstate = blockstate\n",
    "        self.nrows = len(blockstate)\n",
    "        self.ncols = len(blockstate[0])\n",
    "        self.blocknums = set().union(*[set(row) for row in blockstate])\n",
    "        self.blocknums = self.blocknums - {0}\n",
    "        self.blocknumlist = list(self.blocknums)\n",
    "        self.colors = colors\n",
    "\n",
    "      def __repr__(self):\n",
    "        return( str( self.blockstate ))\n",
    "\n",
    "      # Find the cells occupied by a given number\n",
    "      def blockcells( self, blocknum ):\n",
    "          blockcells = []\n",
    "          for row in range(self.nrows):\n",
    "            for col in range(self.ncols):\n",
    "              if self.blockstate[row][col] == blocknum:\n",
    "                blockcells.append((row,col))\n",
    "          return blockcells\n",
    "\n",
    "      # Test if a cell is free (unblocked) in a given direction\n",
    "      # Free if not blocked by edge of grid or by a cell of different colour\n",
    "      def free_cell( self, direction, cell ):\n",
    "        row, col = cell\n",
    "        offrow, offcol = BlockState.neighbour_offset[direction]\n",
    "        neighrow, neighcol = (row + offrow, col + offcol)\n",
    "        if not (0 <= neighrow < self.nrows): return False #at top or bottom\n",
    "        if not (0 <= neighcol < self.ncols): return False #at left or right\n",
    "        neighval = self.blockstate[neighrow][neighcol]\n",
    "        # Neighboring cell must be empty or part of the same coloured block\n",
    "        return  (neighval==0 or neighval==self.blockstate[row][col])\n",
    "\n",
    "      def free_block( self, direction, blockn ):\n",
    "          blockcells = self.blockcells(blockn)\n",
    "          for cell in blockcells:\n",
    "            if not self.free_cell(direction, cell):\n",
    "              return False\n",
    "          return True\n",
    "\n",
    "      def possible_moves(self):\n",
    "        moves = []\n",
    "        for blocknum in self.blocknumlist:\n",
    "          for direction in [\"left\", \"right\", \"down\", \"up\"]:\n",
    "              if self.free_block(direction, blocknum):\n",
    "                  moves.append((blocknum, direction))\n",
    "        return moves\n",
    "\n",
    "      def next_state(self, move):\n",
    "          next_blockstate = deepcopy(self.blockstate)\n",
    "          blockno, direction = move\n",
    "          cells = self.blockcells(blockno)\n",
    "          ## first clear all cells of the block (set to 0)\n",
    "          for cell in cells:\n",
    "            row, col = cell\n",
    "            next_blockstate[row][col] = 0\n",
    "          rowoff, coloff = BlockState.neighbour_offset[direction]\n",
    "          ## now set all neighbour cells (in move direction) to be\n",
    "          ## cells with the blocknumber\n",
    "          for cell in cells:\n",
    "            row, col = cell\n",
    "            next_blockstate[row+rowoff][col+coloff] = blockno\n",
    "          return BlockState(next_blockstate)\n",
    "\n",
    "      def color_key(self):\n",
    "          return {b:self.colors[b] for b in self.blocknumlist}\n",
    "\n",
    "      def figure(self, scale=0.5):\n",
    "          nrows = self.nrows\n",
    "          ncols = self.ncols\n",
    "          fig, ax = plt.subplots(figsize=(ncols*scale+0.1,nrows*scale+0.1))\n",
    "          plt.close(fig)\n",
    "          ax.set_axis_off() # Don't show border lines and coordinate values\n",
    "\n",
    "          frame = patches.Rectangle((0,0),1,1, linewidth=5, edgecolor='k', facecolor='w')\n",
    "          ax.add_patch(frame)\n",
    "\n",
    "          for row in range(nrows):\n",
    "            for col in range(ncols):\n",
    "                greyrect = patches.Rectangle( (((col*0.9)/ncols)+0.05,\n",
    "                                               (((nrows-row-1)*0.9)/nrows)+0.05 ),\n",
    "                                            0.9/ncols, 0.9/nrows,\n",
    "                                            linewidth=1, edgecolor=\"gray\", facecolor=\"lightgray\")\n",
    "                ax.add_patch(greyrect)\n",
    "\n",
    "          for row in range(nrows):\n",
    "            for col in range(ncols):\n",
    "                cellval = self.blockstate[row][col]\n",
    "                if cellval > 0:\n",
    "                  cellcol = COLORS[cellval]\n",
    "                  rect = patches.Rectangle( (((col*0.9)/ncols)+0.05,\n",
    "                                             (((nrows-row-1)*0.9)/nrows)+0.05 ),\n",
    "                                            0.9/ncols, 0.9/nrows,\n",
    "                                            linewidth=0, edgecolor=cellcol, facecolor=cellcol)\n",
    "                  ax.add_patch(rect)\n",
    "          return fig\n",
    "\n",
    "      def display(self):\n",
    "          display(self.figure())"
   ]
  },
  {
   "cell_type": "code",
   "execution_count": 48,
   "metadata": {},
   "outputs": [],
   "source": [
    "from copy import deepcopy\n",
    "class SlidingBlocksPuzzle( SearchProblem ):\n",
    "\n",
    "    def __init__( self, initial_state, goal, colors=COLORS ):\n",
    "        \"\"\"\n",
    "        The __init__ method must set the initial state for the search.\n",
    "        Arguments could be added to __init__ and used to configure the\n",
    "        initial state and/or other aspects of a problem instance.\n",
    "        \"\"\"\n",
    "        self.initial_state = BlockState(initial_state, colors=colors)\n",
    "        self.colors = colors\n",
    "        self.goal = BlockState(goal)\n",
    "\n",
    "    def info(self):\n",
    "        print(\"Solve the following sliding blocks problem.\")\n",
    "        print(\"Get from this initial state:\")\n",
    "        self.initial_state.display()\n",
    "        print(\"To a state incorporating the following block position(s):\")\n",
    "        self.goal.display()\n",
    "        print(\"You need to slide the red block to cover the bottom right square.\")\n",
    "\n",
    "    def possible_actions(self, state):\n",
    "        return state.possible_moves()\n",
    "\n",
    "    def successor(self, state, action):\n",
    "        \"\"\"\n",
    "        This takes a state and an action and returns the new state resulting\n",
    "        from doing that action in that state. You can assume that the given\n",
    "        action is in the list of 'possible_actions' for that state.\n",
    "        \"\"\"\n",
    "        return state.next_state(action)\n",
    "\n",
    "    def goal_test(self, state):\n",
    "        \"\"\"\n",
    "        For the sliding blocks puzzles, the goal condition is reached when\n",
    "        all block possitions specified in the given goal state are satisfied by\n",
    "        the current state. But empty positions (ie 0s) in the goal are ignored,\n",
    "        so can be occupied by blocks in the current sate.\n",
    "        \"\"\"\n",
    "        for row in range(state.nrows):\n",
    "          for col in range(state.ncols):\n",
    "            goalnum = self.goal.blockstate[row][col]\n",
    "            if goalnum==0:\n",
    "              continue\n",
    "            if goalnum != state.blockstate[row][col]:\n",
    "              return False\n",
    "        return True\n",
    "\n",
    "\n",
    "    def cost(self, path, state):\n",
    "        \"\"\"\n",
    "        This is an optional method that you only need to define if you are using\n",
    "        a cost based algorithm such as \"uniform cost\" or \"A*\". It should return\n",
    "        the cost of reaching a given state via a given path.\n",
    "        If this is not re-defined, it will is assumed that each action costs one unit\n",
    "        of effort to perform, so it returns the length of the path.\n",
    "        \"\"\"\n",
    "        return len(path)\n",
    "\n",
    "    def display_action(self, action):\n",
    "        \"\"\"\n",
    "        You can set the way an action will be displayed in outputs.\n",
    "        \"\"\"\n",
    "        print((self.colors[action[0]], action[1]))\n",
    "\n",
    "    def display_state(self, state):\n",
    "        \"\"\"\n",
    "        You can set the way a state will be displayed in outputs.\n",
    "        \"\"\"\n",
    "        state.display()\n",
    "\n",
    "    def display_state_path( self, actions ):\n",
    "        \"\"\"\n",
    "        This defines output of a solution path when a list of actions\n",
    "        is applied to the initial state. It assumes it is a valid path\n",
    "        with all actions being possible in the preceeding state.\n",
    "        You probably don't need to override this.\n",
    "        \"\"\"\n",
    "        s = self.initial_state\n",
    "        self.display_state(s)\n",
    "        for a in actions:\n",
    "            self.display_action(a)\n",
    "            s = self.successor(s,a)\n",
    "            self.display_state(s)"
   ]
  },
  {
   "cell_type": "markdown",
   "metadata": {},
   "source": [
    "After some experimentation we decided to investigate the following cases of Sliding Block Puzzle. We chose a 4x4 grid for the smaller grid as well as an 7x6 grid for the second, larger grid. We placed the same blocks on both grids and the goal for both is to move the red L chaped block to the bottom left of both grid. "
   ]
  },
  {
   "cell_type": "code",
   "execution_count": 49,
   "metadata": {},
   "outputs": [],
   "source": [
    "small_initial = [[1,0,0,2],\n",
    "         [1,1,0,0],\n",
    "         [0,0,0,4],\n",
    "         [3,3,0,4]]\n",
    "\n",
    "small_goal = [[0,0,0,0],\n",
    "         [0,0,0,0],\n",
    "         [0,0,1,0],\n",
    "         [0,0,1,1]]\n",
    "\n",
    "large_initial = [[1,0,0,0,0,0,2],\n",
    "         [1,1,0,0,0,0,0],\n",
    "         [0,0,0,0,0,0,0],\n",
    "         [0,0,0,0,0,0,0],\n",
    "         [0,0,0,0,0,0,4],\n",
    "         [3,3,0,0,0,0,4]]\n",
    "\n",
    "\n",
    "large_goal = [[0,0,0,0,0,0,0],\n",
    "         [0,0,0,0,0,0,0],\n",
    "         [0,0,0,0,0,0,0],\n",
    "         [0,0,0,0,0,0,0],\n",
    "         [0,0,0,0,0,1,0],\n",
    "         [0,0,0,0,0,1,1]]\n",
    "\n",
    "small_puzzle =  SlidingBlocksPuzzle( small_initial,  small_goal)\n",
    "large_puzzle =  SlidingBlocksPuzzle( large_initial,  large_goal)"
   ]
  },
  {
   "cell_type": "markdown",
   "metadata": {},
   "source": [
    "The first test is to show how the size of the grids may effect the time it takes to complete the search as well as how the different search algorithms effect the time and path length. Originally, the large grid was of size 7x8 and we planned on setting the node limit to 5000 which passed for every small grid test. However, the large grid was too large for this small node limit so we increased the limit by 5000 each time and tested if the algorithm passed or failed. Eventually the programs failed as it approched to 50000 nodes. Therefore we reduced the grid size and set the node limit was 30000 for all the tests"
   ]
  },
  {
   "cell_type": "code",
   "execution_count": 50,
   "metadata": {},
   "outputs": [
    {
     "name": "stdout",
     "output_type": "stream",
     "text": [
      "Solve the following sliding blocks problem.\n",
      "Get from this initial state:\n"
     ]
    },
    {
     "data": {
      "image/png": "[encoded data removed]",
      "text/plain": [
       "<Figure size 210x210 with 1 Axes>"
      ]
     },
     "metadata": {},
     "output_type": "display_data"
    },
    {
     "name": "stdout",
     "output_type": "stream",
     "text": [
      "To a state incorporating the following block position(s):\n"
     ]
    },
    {
     "data": {
      "image/png": "[encoded data removed]",
      "text/plain": [
       "<Figure size 210x210 with 1 Axes>"
      ]
     },
     "metadata": {},
     "output_type": "display_data"
    },
    {
     "name": "stdout",
     "output_type": "stream",
     "text": [
      "You need to slide the red block to cover the bottom right square.\n",
      "\n",
      "** Running Brandon's Search Algorithm **\n",
      "Strategy: mode=BF/FIFO, cost=None, heuristic=None\n",
      "Max search nodes: 30000  (max number added to queue)\n",
      "Searching (will output '.' each 1000 goal_tests)\n",
      "\n",
      ":-)) *SUCCESS* ((-:\n",
      "\n",
      "Path length = 7\n",
      "Goal state is:\n"
     ]
    },
    {
     "data": {
      "image/png": "[encoded data removed]",
      "text/plain": [
       "<Figure size 210x210 with 1 Axes>"
      ]
     },
     "metadata": {},
     "output_type": "display_data"
    },
    {
     "name": "stdout",
     "output_type": "stream",
     "text": [
      "The action path to the solution is:\n",
      "('red', 'right')\n",
      "('red', 'down')\n",
      "('blue', 'left')\n",
      "('yellow', 'up')\n",
      "('yellow', 'up')\n",
      "('red', 'right')\n",
      "('red', 'down')\n",
      "\n",
      "\n",
      "SEARCH SPACE STATS:\n",
      "Total nodes generated          =     2134  (includes start)\n",
      "Nodes discarded by loop_check  =     1641  (493 distinct states added to queue)\n",
      "Nodes tested (by goal_test)    =      356  (355 expanded + 1 goal)\n",
      "Nodes left in queue            =      137\n",
      "\n",
      "Time taken = 0.0982 seconds\n",
      "\n",
      "Solve the following sliding blocks problem.\n",
      "Get from this initial state:\n"
     ]
    },
    {
     "data": {
      "image/png": "[encoded data removed]",
      "text/plain": [
       "<Figure size 360x310 with 1 Axes>"
      ]
     },
     "metadata": {},
     "output_type": "display_data"
    },
    {
     "name": "stdout",
     "output_type": "stream",
     "text": [
      "To a state incorporating the following block position(s):\n"
     ]
    },
    {
     "data": {
      "image/png": "[encoded data removed]",
      "text/plain": [
       "<Figure size 360x310 with 1 Axes>"
      ]
     },
     "metadata": {},
     "output_type": "display_data"
    },
    {
     "name": "stdout",
     "output_type": "stream",
     "text": [
      "You need to slide the red block to cover the bottom right square.\n",
      "\n",
      "** Running Brandon's Search Algorithm **\n",
      "Strategy: mode=BF/FIFO, cost=None, heuristic=None\n",
      "Max search nodes: 30000  (max number added to queue)\n",
      "Searching (will output '.' each 1000 goal_tests)\n",
      "................\n",
      ":-)) *SUCCESS* ((-:\n",
      "\n",
      "Path length = 10\n",
      "Goal state is:\n"
     ]
    },
    {
     "data": {
      "image/png": "[encoded data removed]",
      "text/plain": [
       "<Figure size 360x310 with 1 Axes>"
      ]
     },
     "metadata": {},
     "output_type": "display_data"
    },
    {
     "name": "stdout",
     "output_type": "stream",
     "text": [
      "The action path to the solution is:\n",
      "('red', 'right')\n",
      "('red', 'right')\n",
      "('red', 'right')\n",
      "('red', 'right')\n",
      "('red', 'down')\n",
      "('red', 'down')\n",
      "('red', 'down')\n",
      "('red', 'down')\n",
      "('yellow', 'up')\n",
      "('red', 'right')\n",
      "\n",
      "\n",
      "SEARCH SPACE STATS:\n",
      "Total nodes generated          =   185417  (includes start)\n",
      "Nodes discarded by loop_check  =   158676  (26741 distinct states added to queue)\n",
      "Nodes tested (by goal_test)    =    16547  (16546 expanded + 1 goal)\n",
      "Nodes left in queue            =    10194\n",
      "\n",
      "Time taken = 6.9685 seconds\n",
      "\n"
     ]
    }
   ],
   "source": [
    "small_search = search( small_puzzle, 'BF/FIFO', 30000, loop_check=True, randomise=False, return_info=True)\n",
    "large_search = search( large_puzzle, 'BF/FIFO', 30000, loop_check=True, randomise=False, return_info=True)"
   ]
  },
  {
   "cell_type": "markdown",
   "metadata": {},
   "source": [
    "This test is for Depth first search. The small gird passed successfully however, the larger grid did not so we increased the node limit to 35000 to see at what point it would pass."
   ]
  },
  {
   "cell_type": "code",
   "execution_count": 51,
   "metadata": {},
   "outputs": [
    {
     "name": "stdout",
     "output_type": "stream",
     "text": [
      "Solve the following sliding blocks problem.\n",
      "Get from this initial state:\n"
     ]
    },
    {
     "data": {
      "image/png": "[encoded data removed]",
      "text/plain": [
       "<Figure size 210x210 with 1 Axes>"
      ]
     },
     "metadata": {},
     "output_type": "display_data"
    },
    {
     "name": "stdout",
     "output_type": "stream",
     "text": [
      "To a state incorporating the following block position(s):\n"
     ]
    },
    {
     "data": {
      "image/png": "[encoded data removed]",
      "text/plain": [
       "<Figure size 210x210 with 1 Axes>"
      ]
     },
     "metadata": {},
     "output_type": "display_data"
    },
    {
     "name": "stdout",
     "output_type": "stream",
     "text": [
      "You need to slide the red block to cover the bottom right square.\n",
      "\n",
      "** Running Brandon's Search Algorithm **\n",
      "Strategy: mode=DF/LIFO, cost=None, heuristic=None\n",
      "Max search nodes: 30000  (max number added to queue)\n",
      "Searching (will output '.' each 1000 goal_tests)\n",
      "\n",
      ":-)) *SUCCESS* ((-:\n",
      "\n",
      "Path length = 78\n",
      "Goal state is:\n"
     ]
    },
    {
     "data": {
      "image/png": "[encoded data removed]",
      "text/plain": [
       "<Figure size 210x210 with 1 Axes>"
      ]
     },
     "metadata": {},
     "output_type": "display_data"
    },
    {
     "name": "stdout",
     "output_type": "stream",
     "text": [
      "The action path to the solution is:\n",
      "('yellow', 'up')\n",
      "('yellow', 'left')\n",
      "('yellow', 'up')\n",
      "('green', 'up')\n",
      "('green', 'right')\n",
      "('green', 'right')\n",
      "('green', 'down')\n",
      "('yellow', 'down')\n",
      "('yellow', 'right')\n",
      "('blue', 'left')\n",
      "('yellow', 'up')\n",
      "('green', 'up')\n",
      "('green', 'left')\n",
      "('yellow', 'down')\n",
      "('yellow', 'down')\n",
      "('green', 'down')\n",
      "('blue', 'down')\n",
      "('yellow', 'up')\n",
      "('yellow', 'up')\n",
      "('green', 'left')\n",
      "('green', 'up')\n",
      "('yellow', 'down')\n",
      "('yellow', 'down')\n",
      "('yellow', 'left')\n",
      "('green', 'down')\n",
      "('blue', 'up')\n",
      "('blue', 'left')\n",
      "('yellow', 'up')\n",
      "('yellow', 'up')\n",
      "('yellow', 'right')\n",
      "('green', 'right')\n",
      "('yellow', 'down')\n",
      "('red', 'down')\n",
      "('yellow', 'down')\n",
      "('green', 'left')\n",
      "('blue', 'down')\n",
      "('yellow', 'up')\n",
      "('yellow', 'up')\n",
      "('yellow', 'left')\n",
      "('green', 'right')\n",
      "('yellow', 'down')\n",
      "('green', 'right')\n",
      "('yellow', 'right')\n",
      "('yellow', 'up')\n",
      "('green', 'up')\n",
      "('yellow', 'left')\n",
      "('blue', 'up')\n",
      "('green', 'down')\n",
      "('blue', 'left')\n",
      "('yellow', 'down')\n",
      "('yellow', 'right')\n",
      "('red', 'down')\n",
      "('yellow', 'up')\n",
      "('green', 'up')\n",
      "('yellow', 'left')\n",
      "('yellow', 'left')\n",
      "('yellow', 'down')\n",
      "('green', 'up')\n",
      "('green', 'up')\n",
      "('yellow', 'up')\n",
      "('blue', 'down')\n",
      "('green', 'down')\n",
      "('red', 'right')\n",
      "('green', 'down')\n",
      "('yellow', 'right')\n",
      "('yellow', 'right')\n",
      "('blue', 'down')\n",
      "('blue', 'down')\n",
      "('yellow', 'left')\n",
      "('yellow', 'left')\n",
      "('yellow', 'left')\n",
      "('yellow', 'down')\n",
      "('green', 'up')\n",
      "('green', 'up')\n",
      "('yellow', 'up')\n",
      "('yellow', 'right')\n",
      "('blue', 'up')\n",
      "('red', 'right')\n",
      "\n",
      "\n",
      "SEARCH SPACE STATS:\n",
      "Total nodes generated          =      472  (includes start)\n",
      "Nodes discarded by loop_check  =      198  (274 distinct states added to queue)\n",
      "Nodes tested (by goal_test)    =       82  (81 expanded + 1 goal)\n",
      "Nodes left in queue            =      192\n",
      "\n",
      "Time taken = 0.038 seconds\n",
      "\n",
      "Solve the following sliding blocks problem.\n",
      "Get from this initial state:\n"
     ]
    },
    {
     "data": {
      "image/png": "[encoded data removed]",
      "text/plain": [
       "<Figure size 360x310 with 1 Axes>"
      ]
     },
     "metadata": {},
     "output_type": "display_data"
    },
    {
     "name": "stdout",
     "output_type": "stream",
     "text": [
      "To a state incorporating the following block position(s):\n"
     ]
    },
    {
     "data": {
      "image/png": "[encoded data removed]",
      "text/plain": [
       "<Figure size 360x310 with 1 Axes>"
      ]
     },
     "metadata": {},
     "output_type": "display_data"
    },
    {
     "name": "stdout",
     "output_type": "stream",
     "text": [
      "You need to slide the red block to cover the bottom right square.\n",
      "\n",
      "** Running Brandon's Search Algorithm **\n",
      "Strategy: mode=DF/LIFO, cost=None, heuristic=None\n",
      "Max search nodes: 30000  (max number added to queue)\n",
      "Searching (will output '.' each 1000 goal_tests)\n",
      "...\n",
      "!! Search node limit (30000) reached !!\n",
      "): No solution found :(\n",
      "\n",
      "\n",
      "SEARCH SPACE STATS:\n",
      "Total nodes generated          =    43931  (includes start)\n",
      "Nodes discarded by loop_check  =    13930  (30001 distinct states added to queue)\n",
      "Nodes tested (by goal_test)    =     3982  (all expanded)\n",
      "Nodes left in queue            =    26018\n",
      "\n",
      "Time taken = 3.8207 seconds\n",
      "\n",
      "Solve the following sliding blocks problem.\n",
      "Get from this initial state:\n"
     ]
    },
    {
     "data": {
      "image/png": "[encoded data removed]",
      "text/plain": [
       "<Figure size 360x310 with 1 Axes>"
      ]
     },
     "metadata": {},
     "output_type": "display_data"
    },
    {
     "name": "stdout",
     "output_type": "stream",
     "text": [
      "To a state incorporating the following block position(s):\n"
     ]
    },
    {
     "data": {
      "image/png": "[encoded data removed]",
      "text/plain": [
       "<Figure size 360x310 with 1 Axes>"
      ]
     },
     "metadata": {},
     "output_type": "display_data"
    },
    {
     "name": "stdout",
     "output_type": "stream",
     "text": [
      "You need to slide the red block to cover the bottom right square.\n",
      "\n",
      "** Running Brandon's Search Algorithm **\n",
      "Strategy: mode=DF/LIFO, cost=None, heuristic=None\n",
      "Max search nodes: 35000  (max number added to queue)\n",
      "Searching (will output '.' each 1000 goal_tests)\n",
      "\n",
      ":-)) *SUCCESS* ((-:\n",
      "\n",
      "Path length = 486\n",
      "Goal state is:\n"
     ]
    },
    {
     "data": {
      "image/png": "[encoded data removed]",
      "text/plain": [
       "<Figure size 360x310 with 1 Axes>"
      ]
     },
     "metadata": {},
     "output_type": "display_data"
    },
    {
     "name": "stdout",
     "output_type": "stream",
     "text": [
      "The action path to the solution is:\n",
      "('yellow', 'left')\n",
      "('blue', 'down')\n",
      "('red', 'down')\n",
      "('green', 'right')\n",
      "('green', 'right')\n",
      "('red', 'up')\n",
      "('blue', 'down')\n",
      "('red', 'right')\n",
      "('red', 'down')\n",
      "('blue', 'left')\n",
      "('yellow', 'right')\n",
      "('yellow', 'up')\n",
      "('yellow', 'up')\n",
      "('blue', 'up')\n",
      "('red', 'left')\n",
      "('yellow', 'left')\n",
      "('blue', 'up')\n",
      "('blue', 'left')\n",
      "('green', 'up')\n",
      "('red', 'down')\n",
      "('blue', 'down')\n",
      "('yellow', 'left')\n",
      "('yellow', 'left')\n",
      "('blue', 'right')\n",
      "('green', 'down')\n",
      "('yellow', 'left')\n",
      "('blue', 'up')\n",
      "('green', 'right')\n",
      "('red', 'down')\n",
      "('red', 'right')\n",
      "('yellow', 'right')\n",
      "('blue', 'down')\n",
      "('green', 'up')\n",
      "('blue', 'down')\n",
      "('yellow', 'up')\n",
      "('green', 'down')\n",
      "('green', 'left')\n",
      "('red', 'right')\n",
      "('red', 'up')\n",
      "('blue', 'left')\n",
      "('green', 'up')\n",
      "('green', 'left')\n",
      "('blue', 'right')\n",
      "('yellow', 'up')\n",
      "('red', 'up')\n",
      "('green', 'left')\n",
      "('blue', 'right')\n",
      "('yellow', 'right')\n",
      "('red', 'left')\n",
      "('blue', 'up')\n",
      "('red', 'down')\n",
      "('red', 'left')\n",
      "('yellow', 'left')\n",
      "('red', 'up')\n",
      "('blue', 'up')\n",
      "('red', 'up')\n",
      "('green', 'right')\n",
      "('yellow', 'down')\n",
      "('red', 'right')\n",
      "('green', 'down')\n",
      "('yellow', 'right')\n",
      "('red', 'down')\n",
      "('red', 'right')\n",
      "('green', 'up')\n",
      "('green', 'left')\n",
      "('green', 'up')\n",
      "('red', 'left')\n",
      "('blue', 'left')\n",
      "('yellow', 'down')\n",
      "('red', 'left')\n",
      "('red', 'up')\n",
      "('green', 'right')\n",
      "('green', 'up')\n",
      "('yellow', 'right')\n",
      "('red', 'right')\n",
      "('yellow', 'up')\n",
      "('yellow', 'left')\n",
      "('yellow', 'up')\n",
      "('red', 'right')\n",
      "('blue', 'down')\n",
      "('yellow', 'down')\n",
      "('blue', 'right')\n",
      "('green', 'left')\n",
      "('yellow', 'down')\n",
      "('red', 'down')\n",
      "('yellow', 'right')\n",
      "('blue', 'down')\n",
      "('green', 'up')\n",
      "('red', 'down')\n",
      "('green', 'up')\n",
      "('green', 'right')\n",
      "('yellow', 'left')\n",
      "('green', 'down')\n",
      "('yellow', 'up')\n",
      "('red', 'down')\n",
      "('green', 'up')\n",
      "('yellow', 'up')\n",
      "('blue', 'down')\n",
      "('yellow', 'left')\n",
      "('red', 'left')\n",
      "('blue', 'left')\n",
      "('red', 'left')\n",
      "('blue', 'down')\n",
      "('green', 'down')\n",
      "('green', 'down')\n",
      "('green', 'right')\n",
      "('green', 'right')\n",
      "('yellow', 'left')\n",
      "('green', 'down')\n",
      "('green', 'left')\n",
      "('blue', 'down')\n",
      "('yellow', 'left')\n",
      "('blue', 'left')\n",
      "('yellow', 'down')\n",
      "('red', 'up')\n",
      "('yellow', 'right')\n",
      "('blue', 'right')\n",
      "('red', 'up')\n",
      "('red', 'up')\n",
      "('green', 'right')\n",
      "('blue', 'left')\n",
      "('green', 'down')\n",
      "('green', 'left')\n",
      "('yellow', 'up')\n",
      "('green', 'left')\n",
      "('red', 'down')\n",
      "('yellow', 'right')\n",
      "('blue', 'left')\n",
      "('yellow', 'down')\n",
      "('red', 'right')\n",
      "('blue', 'left')\n",
      "('yellow', 'right')\n",
      "('green', 'up')\n",
      "('red', 'left')\n",
      "('green', 'right')\n",
      "('green', 'right')\n",
      "('red', 'right')\n",
      "('blue', 'right')\n",
      "('red', 'up')\n",
      "('green', 'left')\n",
      "('green', 'down')\n",
      "('red', 'down')\n",
      "('red', 'left')\n",
      "('yellow', 'down')\n",
      "('green', 'right')\n",
      "('yellow', 'right')\n",
      "('yellow', 'down')\n",
      "('yellow', 'down')\n",
      "('blue', 'right')\n",
      "('green', 'up')\n",
      "('green', 'left')\n",
      "('red', 'down')\n",
      "('yellow', 'right')\n",
      "('blue', 'left')\n",
      "('blue', 'left')\n",
      "('blue', 'up')\n",
      "('blue', 'left')\n",
      "('green', 'right')\n",
      "('blue', 'left')\n",
      "('green', 'right')\n",
      "('red', 'up')\n",
      "('red', 'up')\n",
      "('green', 'down')\n",
      "('red', 'right')\n",
      "('blue', 'up')\n",
      "('green', 'left')\n",
      "('red', 'left')\n",
      "('blue', 'right')\n",
      "('green', 'up')\n",
      "('blue', 'right')\n",
      "('blue', 'up')\n",
      "('red', 'down')\n",
      "('green', 'up')\n",
      "('yellow', 'left')\n",
      "('green', 'up')\n",
      "('green', 'right')\n",
      "('green', 'up')\n",
      "('green', 'right')\n",
      "('blue', 'right')\n",
      "('green', 'down')\n",
      "('red', 'right')\n",
      "('red', 'up')\n",
      "('red', 'right')\n",
      "('green', 'down')\n",
      "('red', 'right')\n",
      "('yellow', 'left')\n",
      "('yellow', 'up')\n",
      "('yellow', 'left')\n",
      "('green', 'up')\n",
      "('green', 'up')\n",
      "('green', 'left')\n",
      "('yellow', 'right')\n",
      "('yellow', 'up')\n",
      "('yellow', 'right')\n",
      "('blue', 'left')\n",
      "('blue', 'down')\n",
      "('red', 'left')\n",
      "('red', 'down')\n",
      "('yellow', 'down')\n",
      "('green', 'left')\n",
      "('blue', 'right')\n",
      "('blue', 'right')\n",
      "('red', 'down')\n",
      "('red', 'left')\n",
      "('red', 'left')\n",
      "('yellow', 'up')\n",
      "('green', 'left')\n",
      "('red', 'right')\n",
      "('blue', 'down')\n",
      "('blue', 'left')\n",
      "('yellow', 'right')\n",
      "('blue', 'down')\n",
      "('red', 'right')\n",
      "('red', 'right')\n",
      "('blue', 'up')\n",
      "('blue', 'right')\n",
      "('green', 'left')\n",
      "('yellow', 'left')\n",
      "('green', 'down')\n",
      "('yellow', 'up')\n",
      "('green', 'down')\n",
      "('red', 'up')\n",
      "('blue', 'up')\n",
      "('yellow', 'down')\n",
      "('yellow', 'down')\n",
      "('red', 'right')\n",
      "('yellow', 'down')\n",
      "('blue', 'left')\n",
      "('red', 'left')\n",
      "('yellow', 'right')\n",
      "('green', 'up')\n",
      "('blue', 'right')\n",
      "('red', 'right')\n",
      "('green', 'up')\n",
      "('red', 'right')\n",
      "('yellow', 'left')\n",
      "('green', 'right')\n",
      "('yellow', 'up')\n",
      "('blue', 'up')\n",
      "('red', 'up')\n",
      "('blue', 'left')\n",
      "('yellow', 'up')\n",
      "('yellow', 'right')\n",
      "('green', 'right')\n",
      "('blue', 'down')\n",
      "('blue', 'down')\n",
      "('blue', 'right')\n",
      "('blue', 'down')\n",
      "('green', 'left')\n",
      "('green', 'left')\n",
      "('green', 'left')\n",
      "('blue', 'up')\n",
      "('blue', 'right')\n",
      "('yellow', 'down')\n",
      "('blue', 'up')\n",
      "('red', 'left')\n",
      "('red', 'left')\n",
      "('red', 'down')\n",
      "('red', 'left')\n",
      "('red', 'left')\n",
      "('red', 'left')\n",
      "('blue', 'down')\n",
      "('blue', 'down')\n",
      "('blue', 'left')\n",
      "('yellow', 'up')\n",
      "('red', 'down')\n",
      "('green', 'down')\n",
      "('yellow', 'up')\n",
      "('red', 'right')\n",
      "('blue', 'right')\n",
      "('yellow', 'left')\n",
      "('yellow', 'left')\n",
      "('yellow', 'up')\n",
      "('green', 'up')\n",
      "('red', 'right')\n",
      "('red', 'right')\n",
      "('yellow', 'right')\n",
      "('blue', 'right')\n",
      "('yellow', 'right')\n",
      "('green', 'right')\n",
      "('yellow', 'down')\n",
      "('yellow', 'left')\n",
      "('blue', 'up')\n",
      "('red', 'left')\n",
      "('green', 'down')\n",
      "('green', 'left')\n",
      "('yellow', 'up')\n",
      "('red', 'down')\n",
      "('yellow', 'right')\n",
      "('green', 'down')\n",
      "('blue', 'down')\n",
      "('yellow', 'down')\n",
      "('red', 'right')\n",
      "('red', 'up')\n",
      "('blue', 'up')\n",
      "('blue', 'left')\n",
      "('yellow', 'up')\n",
      "('red', 'up')\n",
      "('green', 'down')\n",
      "('blue', 'right')\n",
      "('yellow', 'left')\n",
      "('red', 'left')\n",
      "('yellow', 'left')\n",
      "('red', 'left')\n",
      "('red', 'left')\n",
      "('yellow', 'down')\n",
      "('blue', 'left')\n",
      "('blue', 'up')\n",
      "('red', 'right')\n",
      "('yellow', 'down')\n",
      "('blue', 'right')\n",
      "('yellow', 'right')\n",
      "('yellow', 'down')\n",
      "('green', 'down')\n",
      "('red', 'right')\n",
      "('green', 'right')\n",
      "('blue', 'down')\n",
      "('green', 'down')\n",
      "('yellow', 'down')\n",
      "('green', 'left')\n",
      "('blue', 'down')\n",
      "('green', 'up')\n",
      "('green', 'up')\n",
      "('blue', 'up')\n",
      "('yellow', 'up')\n",
      "('red', 'up')\n",
      "('red', 'right')\n",
      "('yellow', 'up')\n",
      "('blue', 'left')\n",
      "('yellow', 'up')\n",
      "('green', 'right')\n",
      "('red', 'left')\n",
      "('yellow', 'left')\n",
      "('red', 'down')\n",
      "('yellow', 'down')\n",
      "('blue', 'down')\n",
      "('red', 'up')\n",
      "('yellow', 'left')\n",
      "('blue', 'right')\n",
      "('red', 'left')\n",
      "('yellow', 'down')\n",
      "('green', 'left')\n",
      "('red', 'right')\n",
      "('blue', 'up')\n",
      "('green', 'up')\n",
      "('yellow', 'up')\n",
      "('blue', 'up')\n",
      "('red', 'right')\n",
      "('green', 'down')\n",
      "('blue', 'left')\n",
      "('green', 'down')\n",
      "('green', 'right')\n",
      "('green', 'down')\n",
      "('blue', 'right')\n",
      "('yellow', 'right')\n",
      "('green', 'right')\n",
      "('blue', 'down')\n",
      "('blue', 'left')\n",
      "('green', 'up')\n",
      "('green', 'up')\n",
      "('blue', 'up')\n",
      "('red', 'right')\n",
      "('blue', 'up')\n",
      "('blue', 'right')\n",
      "('red', 'right')\n",
      "('green', 'left')\n",
      "('green', 'left')\n",
      "('red', 'left')\n",
      "('green', 'up')\n",
      "('blue', 'left')\n",
      "('green', 'right')\n",
      "('red', 'right')\n",
      "('yellow', 'down')\n",
      "('blue', 'right')\n",
      "('blue', 'down')\n",
      "('yellow', 'up')\n",
      "('yellow', 'right')\n",
      "('green', 'left')\n",
      "('blue', 'up')\n",
      "('yellow', 'down')\n",
      "('blue', 'left')\n",
      "('green', 'up')\n",
      "('yellow', 'left')\n",
      "('blue', 'down')\n",
      "('green', 'right')\n",
      "('blue', 'down')\n",
      "('green', 'down')\n",
      "('yellow', 'down')\n",
      "('red', 'left')\n",
      "('blue', 'up')\n",
      "('blue', 'left')\n",
      "('green', 'right')\n",
      "('red', 'left')\n",
      "('yellow', 'left')\n",
      "('green', 'down')\n",
      "('yellow', 'left')\n",
      "('blue', 'down')\n",
      "('green', 'left')\n",
      "('blue', 'down')\n",
      "('red', 'left')\n",
      "('yellow', 'right')\n",
      "('blue', 'up')\n",
      "('green', 'right')\n",
      "('green', 'right')\n",
      "('red', 'right')\n",
      "('blue', 'down')\n",
      "('green', 'up')\n",
      "('red', 'left')\n",
      "('red', 'left')\n",
      "('yellow', 'up')\n",
      "('yellow', 'left')\n",
      "('red', 'right')\n",
      "('blue', 'up')\n",
      "('blue', 'left')\n",
      "('green', 'left')\n",
      "('blue', 'up')\n",
      "('blue', 'right')\n",
      "('yellow', 'down')\n",
      "('blue', 'down')\n",
      "('blue', 'right')\n",
      "('blue', 'down')\n",
      "('red', 'right')\n",
      "('yellow', 'left')\n",
      "('green', 'down')\n",
      "('green', 'down')\n",
      "('yellow', 'up')\n",
      "('yellow', 'up')\n",
      "('yellow', 'left')\n",
      "('yellow', 'up')\n",
      "('blue', 'up')\n",
      "('green', 'up')\n",
      "('green', 'left')\n",
      "('red', 'right')\n",
      "('red', 'down')\n",
      "('yellow', 'up')\n",
      "('green', 'right')\n",
      "('green', 'up')\n",
      "('red', 'down')\n",
      "('green', 'up')\n",
      "('blue', 'left')\n",
      "('yellow', 'down')\n",
      "('yellow', 'right')\n",
      "('blue', 'left')\n",
      "('green', 'up')\n",
      "('blue', 'left')\n",
      "('red', 'up')\n",
      "('blue', 'up')\n",
      "('red', 'up')\n",
      "('green', 'down')\n",
      "('yellow', 'up')\n",
      "('red', 'down')\n",
      "('blue', 'down')\n",
      "('red', 'right')\n",
      "('red', 'down')\n",
      "('blue', 'right')\n",
      "('yellow', 'left')\n",
      "('red', 'down')\n",
      "('blue', 'up')\n",
      "('yellow', 'right')\n",
      "('red', 'left')\n",
      "('yellow', 'down')\n",
      "('green', 'right')\n",
      "('red', 'down')\n",
      "('green', 'right')\n",
      "('blue', 'down')\n",
      "('green', 'right')\n",
      "('yellow', 'down')\n",
      "('yellow', 'right')\n",
      "('blue', 'up')\n",
      "('red', 'up')\n",
      "('yellow', 'up')\n",
      "('blue', 'down')\n",
      "('yellow', 'up')\n",
      "('red', 'up')\n",
      "('blue', 'right')\n",
      "('blue', 'right')\n",
      "('yellow', 'down')\n",
      "('red', 'right')\n",
      "('yellow', 'right')\n",
      "('blue', 'left')\n",
      "('red', 'down')\n",
      "('green', 'left')\n",
      "('blue', 'up')\n",
      "('green', 'up')\n",
      "('yellow', 'up')\n",
      "('red', 'down')\n",
      "\n",
      "\n",
      "SEARCH SPACE STATS:\n",
      "Total nodes generated          =     5587  (includes start)\n",
      "Nodes discarded by loop_check  =      996  (4591 distinct states added to queue)\n",
      "Nodes tested (by goal_test)    =      487  (486 expanded + 1 goal)\n",
      "Nodes left in queue            =     4104\n",
      "\n",
      "Time taken = 0.2663 seconds\n",
      "\n"
     ]
    }
   ],
   "source": [
    "small_Df = search( small_puzzle, 'DF/LIFO', 30000, loop_check=True, randomise=False, return_info=True)\n",
    "large_DF = search( large_puzzle, 'DF/LIFO', 30000, loop_check=True, randomise=False, return_info=True)\n",
    "large_DF2 = search( large_puzzle, 'DF/LIFO', 35000, loop_check=True, randomise=True, return_info=True)"
   ]
  },
  {
   "cell_type": "markdown",
   "metadata": {},
   "source": [
    "This is the same as the depth first test but randomise is true"
   ]
  },
  {
   "cell_type": "code",
   "execution_count": 52,
   "metadata": {},
   "outputs": [
    {
     "name": "stdout",
     "output_type": "stream",
     "text": [
      "Solve the following sliding blocks problem.\n",
      "Get from this initial state:\n"
     ]
    },
    {
     "data": {
      "image/png": "[encoded data removed]",
      "text/plain": [
       "<Figure size 210x210 with 1 Axes>"
      ]
     },
     "metadata": {},
     "output_type": "display_data"
    },
    {
     "name": "stdout",
     "output_type": "stream",
     "text": [
      "To a state incorporating the following block position(s):\n"
     ]
    },
    {
     "data": {
      "image/png": "[encoded data removed]",
      "text/plain": [
       "<Figure size 210x210 with 1 Axes>"
      ]
     },
     "metadata": {},
     "output_type": "display_data"
    },
    {
     "name": "stdout",
     "output_type": "stream",
     "text": [
      "You need to slide the red block to cover the bottom right square.\n",
      "\n",
      "** Running Brandon's Search Algorithm **\n",
      "Strategy: mode=DF/LIFO, cost=None, heuristic=None\n",
      "Max search nodes: 30000  (max number added to queue)\n",
      "Searching (will output '.' each 1000 goal_tests)\n",
      "\n",
      ":-)) *SUCCESS* ((-:\n",
      "\n",
      "Path length = 51\n",
      "Goal state is:\n"
     ]
    },
    {
     "data": {
      "image/png": "[encoded data removed]",
      "text/plain": [
       "<Figure size 210x210 with 1 Axes>"
      ]
     },
     "metadata": {},
     "output_type": "display_data"
    },
    {
     "name": "stdout",
     "output_type": "stream",
     "text": [
      "The action path to the solution is:\n",
      "('green', 'right')\n",
      "('red', 'right')\n",
      "('green', 'up')\n",
      "('blue', 'down')\n",
      "('red', 'left')\n",
      "('blue', 'left')\n",
      "('green', 'left')\n",
      "('blue', 'down')\n",
      "('blue', 'down')\n",
      "('blue', 'left')\n",
      "('green', 'right')\n",
      "('yellow', 'up')\n",
      "('blue', 'left')\n",
      "('red', 'right')\n",
      "('yellow', 'down')\n",
      "('red', 'right')\n",
      "('green', 'left')\n",
      "('blue', 'right')\n",
      "('yellow', 'left')\n",
      "('green', 'up')\n",
      "('blue', 'left')\n",
      "('yellow', 'left')\n",
      "('green', 'up')\n",
      "('red', 'down')\n",
      "('green', 'right')\n",
      "('blue', 'up')\n",
      "('yellow', 'up')\n",
      "('green', 'left')\n",
      "('blue', 'up')\n",
      "('red', 'up')\n",
      "('yellow', 'down')\n",
      "('blue', 'right')\n",
      "('yellow', 'left')\n",
      "('red', 'down')\n",
      "('blue', 'left')\n",
      "('red', 'left')\n",
      "('red', 'down')\n",
      "('green', 'right')\n",
      "('green', 'right')\n",
      "('blue', 'right')\n",
      "('green', 'down')\n",
      "('yellow', 'up')\n",
      "('green', 'down')\n",
      "('blue', 'right')\n",
      "('yellow', 'down')\n",
      "('blue', 'right')\n",
      "('blue', 'up')\n",
      "('green', 'up')\n",
      "('blue', 'left')\n",
      "('green', 'left')\n",
      "('red', 'right')\n",
      "\n",
      "\n",
      "SEARCH SPACE STATS:\n",
      "Total nodes generated          =      285  (includes start)\n",
      "Nodes discarded by loop_check  =       95  (190 distinct states added to queue)\n",
      "Nodes tested (by goal_test)    =       52  (51 expanded + 1 goal)\n",
      "Nodes left in queue            =      138\n",
      "\n",
      "Time taken = 0.0341 seconds\n",
      "\n",
      "Solve the following sliding blocks problem.\n",
      "Get from this initial state:\n"
     ]
    },
    {
     "data": {
      "image/png": "[encoded data removed]",
      "text/plain": [
       "<Figure size 360x310 with 1 Axes>"
      ]
     },
     "metadata": {},
     "output_type": "display_data"
    },
    {
     "name": "stdout",
     "output_type": "stream",
     "text": [
      "To a state incorporating the following block position(s):\n"
     ]
    },
    {
     "data": {
      "image/png": "[encoded data removed]",
      "text/plain": [
       "<Figure size 360x310 with 1 Axes>"
      ]
     },
     "metadata": {},
     "output_type": "display_data"
    },
    {
     "name": "stdout",
     "output_type": "stream",
     "text": [
      "You need to slide the red block to cover the bottom right square.\n",
      "\n",
      "** Running Brandon's Search Algorithm **\n",
      "Strategy: mode=DF/LIFO, cost=None, heuristic=None\n",
      "Max search nodes: 30000  (max number added to queue)\n",
      "Searching (will output '.' each 1000 goal_tests)\n",
      "\n",
      ":-)) *SUCCESS* ((-:\n",
      "\n",
      "Path length = 107\n",
      "Goal state is:\n"
     ]
    },
    {
     "data": {
      "image/png": "[encoded data removed]",
      "text/plain": [
       "<Figure size 360x310 with 1 Axes>"
      ]
     },
     "metadata": {},
     "output_type": "display_data"
    },
    {
     "name": "stdout",
     "output_type": "stream",
     "text": [
      "The action path to the solution is:\n",
      "('yellow', 'left')\n",
      "('blue', 'down')\n",
      "('yellow', 'up')\n",
      "('blue', 'left')\n",
      "('red', 'down')\n",
      "('yellow', 'down')\n",
      "('red', 'down')\n",
      "('green', 'right')\n",
      "('green', 'right')\n",
      "('blue', 'down')\n",
      "('green', 'right')\n",
      "('yellow', 'right')\n",
      "('red', 'right')\n",
      "('blue', 'left')\n",
      "('blue', 'up')\n",
      "('green', 'left')\n",
      "('green', 'left')\n",
      "('blue', 'right')\n",
      "('green', 'left')\n",
      "('blue', 'up')\n",
      "('red', 'left')\n",
      "('yellow', 'up')\n",
      "('blue', 'right')\n",
      "('red', 'down')\n",
      "('blue', 'down')\n",
      "('green', 'right')\n",
      "('green', 'right')\n",
      "('red', 'down')\n",
      "('yellow', 'up')\n",
      "('blue', 'left')\n",
      "('blue', 'left')\n",
      "('blue', 'up')\n",
      "('green', 'right')\n",
      "('green', 'up')\n",
      "('yellow', 'left')\n",
      "('red', 'right')\n",
      "('red', 'up')\n",
      "('yellow', 'up')\n",
      "('red', 'left')\n",
      "('blue', 'left')\n",
      "('yellow', 'up')\n",
      "('yellow', 'right')\n",
      "('blue', 'down')\n",
      "('yellow', 'down')\n",
      "('red', 'right')\n",
      "('blue', 'right')\n",
      "('green', 'down')\n",
      "('blue', 'down')\n",
      "('blue', 'right')\n",
      "('green', 'left')\n",
      "('green', 'left')\n",
      "('yellow', 'down')\n",
      "('blue', 'down')\n",
      "('green', 'right')\n",
      "('red', 'right')\n",
      "('blue', 'up')\n",
      "('green', 'right')\n",
      "('blue', 'up')\n",
      "('yellow', 'left')\n",
      "('green', 'right')\n",
      "('blue', 'up')\n",
      "('yellow', 'right')\n",
      "('red', 'left')\n",
      "('blue', 'left')\n",
      "('red', 'down')\n",
      "('blue', 'down')\n",
      "('blue', 'left')\n",
      "('red', 'up')\n",
      "('red', 'left')\n",
      "('blue', 'down')\n",
      "('blue', 'right')\n",
      "('red', 'down')\n",
      "('blue', 'down')\n",
      "('yellow', 'up')\n",
      "('blue', 'left')\n",
      "('yellow', 'left')\n",
      "('yellow', 'left')\n",
      "('green', 'left')\n",
      "('green', 'left')\n",
      "('green', 'up')\n",
      "('blue', 'left')\n",
      "('yellow', 'down')\n",
      "('red', 'right')\n",
      "('yellow', 'right')\n",
      "('blue', 'left')\n",
      "('yellow', 'up')\n",
      "('yellow', 'up')\n",
      "('blue', 'up')\n",
      "('blue', 'right')\n",
      "('yellow', 'down')\n",
      "('green', 'up')\n",
      "('blue', 'right')\n",
      "('yellow', 'left')\n",
      "('green', 'left')\n",
      "('green', 'up')\n",
      "('yellow', 'down')\n",
      "('red', 'right')\n",
      "('green', 'left')\n",
      "('blue', 'left')\n",
      "('green', 'up')\n",
      "('blue', 'up')\n",
      "('red', 'right')\n",
      "('yellow', 'up')\n",
      "('red', 'right')\n",
      "('yellow', 'right')\n",
      "('yellow', 'up')\n",
      "('red', 'right')\n",
      "\n",
      "\n",
      "SEARCH SPACE STATS:\n",
      "Total nodes generated          =     1250  (includes start)\n",
      "Nodes discarded by loop_check  =      222  (1028 distinct states added to queue)\n",
      "Nodes tested (by goal_test)    =      108  (107 expanded + 1 goal)\n",
      "Nodes left in queue            =      920\n",
      "\n",
      "Time taken = 1.0796 seconds\n",
      "\n"
     ]
    }
   ],
   "source": [
    "small_DFR = search( small_puzzle, 'DF/LIFO', 30000, loop_check=True, randomise=True, return_info=True)\n",
    "large_DFR = search( large_puzzle, 'DF/LIFO', 30000, loop_check=True, randomise=True, return_info=True)"
   ]
  },
  {
   "cell_type": "markdown",
   "metadata": {},
   "source": [
    "We have no introduced the cost aspect of the search. This cost function is from Search Exercise 6"
   ]
  },
  {
   "cell_type": "code",
   "execution_count": 53,
   "metadata": {},
   "outputs": [
    {
     "name": "stdout",
     "output_type": "stream",
     "text": [
      "Solve the following sliding blocks problem.\n",
      "Get from this initial state:\n"
     ]
    },
    {
     "data": {
      "image/png": "[encoded data removed]",
      "text/plain": [
       "<Figure size 210x210 with 1 Axes>"
      ]
     },
     "metadata": {},
     "output_type": "display_data"
    },
    {
     "name": "stdout",
     "output_type": "stream",
     "text": [
      "To a state incorporating the following block position(s):\n"
     ]
    },
    {
     "data": {
      "image/png": "[encoded data removed]",
      "text/plain": [
       "<Figure size 210x210 with 1 Axes>"
      ]
     },
     "metadata": {},
     "output_type": "display_data"
    },
    {
     "name": "stdout",
     "output_type": "stream",
     "text": [
      "You need to slide the red block to cover the bottom right square.\n",
      "\n",
      "** Running Brandon's Search Algorithm **\n",
      "Strategy: mode=BF/FIFO, cost=cost, heuristic=None\n",
      "Max search nodes: 30000  (max number added to queue)\n",
      "Searching (will output '.' each 1000 goal_tests)\n",
      "\n",
      ":-)) *SUCCESS* ((-:\n",
      "\n",
      "Path length = 7\n",
      "Goal state is:\n"
     ]
    },
    {
     "data": {
      "image/png": "[encoded data removed]",
      "text/plain": [
       "<Figure size 210x210 with 1 Axes>"
      ]
     },
     "metadata": {},
     "output_type": "display_data"
    },
    {
     "name": "stdout",
     "output_type": "stream",
     "text": [
      "Cost of reaching goal: 7\n",
      "The action path to the solution is:\n",
      "('red', 'right')\n",
      "('red', 'down')\n",
      "('blue', 'left')\n",
      "('yellow', 'up')\n",
      "('yellow', 'up')\n",
      "('red', 'right')\n",
      "('red', 'down')\n",
      "\n",
      "\n",
      "SEARCH SPACE STATS:\n",
      "Total nodes generated          =     2134  (includes start)\n",
      "Nodes discarded by loop_check  =     1641  (493 distinct states added to queue)\n",
      "Nodes tested (by goal_test)    =      356  (355 expanded + 1 goal)\n",
      "Nodes left in queue            =      137\n",
      "\n",
      "Time taken = 0.0709 seconds\n",
      "\n",
      "Solve the following sliding blocks problem.\n",
      "Get from this initial state:\n"
     ]
    },
    {
     "data": {
      "image/png": "[encoded data removed]",
      "text/plain": [
       "<Figure size 360x310 with 1 Axes>"
      ]
     },
     "metadata": {},
     "output_type": "display_data"
    },
    {
     "name": "stdout",
     "output_type": "stream",
     "text": [
      "To a state incorporating the following block position(s):\n"
     ]
    },
    {
     "data": {
      "image/png": "[encoded data removed]",
      "text/plain": [
       "<Figure size 360x310 with 1 Axes>"
      ]
     },
     "metadata": {},
     "output_type": "display_data"
    },
    {
     "name": "stdout",
     "output_type": "stream",
     "text": [
      "You need to slide the red block to cover the bottom right square.\n",
      "\n",
      "** Running Brandon's Search Algorithm **\n",
      "Strategy: mode=BF/FIFO, cost=cost, heuristic=None\n",
      "Max search nodes: 30000  (max number added to queue)\n",
      "Searching (will output '.' each 1000 goal_tests)\n",
      "................\n",
      ":-)) *SUCCESS* ((-:\n",
      "\n",
      "Path length = 10\n",
      "Goal state is:\n"
     ]
    },
    {
     "data": {
      "image/png": "[encoded data removed]",
      "text/plain": [
       "<Figure size 360x310 with 1 Axes>"
      ]
     },
     "metadata": {},
     "output_type": "display_data"
    },
    {
     "name": "stdout",
     "output_type": "stream",
     "text": [
      "Cost of reaching goal: 10\n",
      "The action path to the solution is:\n",
      "('red', 'right')\n",
      "('red', 'right')\n",
      "('red', 'right')\n",
      "('red', 'right')\n",
      "('red', 'down')\n",
      "('red', 'down')\n",
      "('red', 'down')\n",
      "('red', 'down')\n",
      "('yellow', 'up')\n",
      "('red', 'right')\n",
      "\n",
      "\n",
      "SEARCH SPACE STATS:\n",
      "Total nodes generated          =   185417  (includes start)\n",
      "Nodes discarded by loop_check  =   158676  (26741 distinct states added to queue)\n",
      "Nodes tested (by goal_test)    =    16547  (16546 expanded + 1 goal)\n",
      "Nodes left in queue            =    10194\n",
      "\n",
      "Time taken = 6.6643 seconds\n",
      "\n"
     ]
    }
   ],
   "source": [
    "def cost(path, state):\n",
    "        return len(path)\n",
    "\n",
    "small_cost = search(small_puzzle, 'BF/FIFO', 30000, cost=cost, loop_check=True, return_info=True)\n",
    "large_cost = search(large_puzzle, 'BF/FIFO', 30000, cost=cost, loop_check=True, return_info=True)"
   ]
  },
  {
   "cell_type": "markdown",
   "metadata": {},
   "source": [
    "This A* algorithm uses the cost function from before and now uses heuristics. This heuristic is from Search Exercise 7"
   ]
  },
  {
   "cell_type": "code",
   "execution_count": 54,
   "metadata": {},
   "outputs": [
    {
     "name": "stdout",
     "output_type": "stream",
     "text": [
      "Solve the following sliding blocks problem.\n",
      "Get from this initial state:\n"
     ]
    },
    {
     "data": {
      "image/png": "[encoded data removed]",
      "text/plain": [
       "<Figure size 210x210 with 1 Axes>"
      ]
     },
     "metadata": {},
     "output_type": "display_data"
    },
    {
     "name": "stdout",
     "output_type": "stream",
     "text": [
      "To a state incorporating the following block position(s):\n"
     ]
    },
    {
     "data": {
      "image/png": "[encoded data removed]",
      "text/plain": [
       "<Figure size 210x210 with 1 Axes>"
      ]
     },
     "metadata": {},
     "output_type": "display_data"
    },
    {
     "name": "stdout",
     "output_type": "stream",
     "text": [
      "You need to slide the red block to cover the bottom right square.\n",
      "\n",
      "** Running Brandon's Search Algorithm **\n",
      "Strategy: mode=DF/LIFO, cost=cost, heuristic=red_right_heuristic\n",
      "Max search nodes: 30000  (max number added to queue)\n",
      "Searching (will output '.' each 1000 goal_tests)\n",
      "\n",
      ":-)) *SUCCESS* ((-:\n",
      "\n",
      "Path length = 7\n",
      "Goal state is:\n"
     ]
    },
    {
     "data": {
      "image/png": "[encoded data removed]",
      "text/plain": [
       "<Figure size 210x210 with 1 Axes>"
      ]
     },
     "metadata": {},
     "output_type": "display_data"
    },
    {
     "name": "stdout",
     "output_type": "stream",
     "text": [
      "Cost of reaching goal: 7\n",
      "The action path to the solution is:\n",
      "('red', 'right')\n",
      "('blue', 'left')\n",
      "('yellow', 'up')\n",
      "('yellow', 'up')\n",
      "('red', 'down')\n",
      "('red', 'right')\n",
      "('red', 'down')\n",
      "\n",
      "\n",
      "SEARCH SPACE STATS:\n",
      "Total nodes generated          =     1226  (includes start)\n",
      "Nodes discarded by loop_check  =      900  (326 distinct states added to queue)\n",
      "Nodes tested (by goal_test)    =      207  (206 expanded + 1 goal)\n",
      "Nodes left in queue            =      119\n",
      "\n",
      "Time taken = 0.0537 seconds\n",
      "\n",
      "Solve the following sliding blocks problem.\n",
      "Get from this initial state:\n"
     ]
    },
    {
     "data": {
      "image/png": "[encoded data removed]",
      "text/plain": [
       "<Figure size 360x310 with 1 Axes>"
      ]
     },
     "metadata": {},
     "output_type": "display_data"
    },
    {
     "name": "stdout",
     "output_type": "stream",
     "text": [
      "To a state incorporating the following block position(s):\n"
     ]
    },
    {
     "data": {
      "image/png": "[encoded data removed]",
      "text/plain": [
       "<Figure size 360x310 with 1 Axes>"
      ]
     },
     "metadata": {},
     "output_type": "display_data"
    },
    {
     "name": "stdout",
     "output_type": "stream",
     "text": [
      "You need to slide the red block to cover the bottom right square.\n",
      "\n",
      "** Running Brandon's Search Algorithm **\n",
      "Strategy: mode=DF/LIFO, cost=cost, heuristic=red_right_heuristic\n",
      "Max search nodes: 30000  (max number added to queue)\n",
      "Searching (will output '.' each 1000 goal_tests)\n",
      "..\n",
      ":-)) *SUCCESS* ((-:\n",
      "\n",
      "Path length = 10\n",
      "Goal state is:\n"
     ]
    },
    {
     "data": {
      "image/png": "[encoded data removed]",
      "text/plain": [
       "<Figure size 360x310 with 1 Axes>"
      ]
     },
     "metadata": {},
     "output_type": "display_data"
    },
    {
     "name": "stdout",
     "output_type": "stream",
     "text": [
      "Cost of reaching goal: 10\n",
      "The action path to the solution is:\n",
      "('red', 'right')\n",
      "('red', 'right')\n",
      "('red', 'right')\n",
      "('red', 'right')\n",
      "('red', 'down')\n",
      "('red', 'down')\n",
      "('red', 'down')\n",
      "('red', 'down')\n",
      "('yellow', 'up')\n",
      "('red', 'right')\n",
      "\n",
      "\n",
      "SEARCH SPACE STATS:\n",
      "Total nodes generated          =    22669  (includes start)\n",
      "Nodes discarded by loop_check  =    17965  (4704 distinct states added to queue)\n",
      "Nodes tested (by goal_test)    =     2160  (2159 expanded + 1 goal)\n",
      "Nodes left in queue            =     2544\n",
      "\n",
      "Time taken = 0.8488 seconds\n",
      "\n"
     ]
    }
   ],
   "source": [
    "def red_right_heuristic(state):\n",
    "    for row in state.blockstate:\n",
    "      for i, col in enumerate(row):\n",
    "          if col == 1:\n",
    "            return 6-i\n",
    "\n",
    "small_A = search( small_puzzle, 'DF/LIFO', 30000, loop_check=True, randomise=True, return_info=True, cost=cost, heuristic=red_right_heuristic)\n",
    "large_A = search( large_puzzle, 'DF/LIFO', 30000, loop_check=True, randomise=True, return_info=True, cost=cost, heuristic=red_right_heuristic)\n"
   ]
  },
  {
   "cell_type": "markdown",
   "metadata": {},
   "source": [
    "This table shows a summary of every test that was just performed and it is from Search Exercise 7. From the results, all the large tests failed with the low node limit of 5000."
   ]
  },
  {
   "cell_type": "code",
   "execution_count": 55,
   "metadata": {},
   "outputs": [
    {
     "name": "stdout",
     "output_type": "stream",
     "text": [
      "\n",
      "                **TESTS SUMMARY**\n",
      "\n",
      "Test    #max   Result   #gen     #inQ    Time s\n",
      "  0:    30000    Y      2134      137     0.1 \n",
      "  1:    30000    Y    185417    10194     6.97 \n",
      "  2:    30000    Y       472      192     0.04 \n",
      "  3:    30000    !     43931    26018     3.82 \n",
      "  4:    35000    Y      5587     4104     0.27 \n",
      "  5:    30000    Y       285      138     0.03 \n",
      "  6:    30000    Y      1250      920     1.08 \n",
      "  7:    30000    Y      1226      119     0.05 \n",
      "  8:    30000    Y     22669     2544     0.85 \n"
     ]
    }
   ],
   "source": [
    "TEST_RESULTS =[small_search, large_search, small_Df, large_DF, large_DF2, small_DFR, large_DFR,small_A, large_A]\n",
    "\n",
    "# Specify symbols for termination conditions:\n",
    "short_tc = {\"GOAL_STATE_FOUND\"     : \"Y\",\n",
    "            \"NODE_LIMIT_EXCEEDED\"  : \"!\",\n",
    "            \"SEARH-SPACE_EXHAUSTED\": \"x\"}\n",
    "\n",
    "print(\"\\n                **TESTS SUMMARY**\\n\")\n",
    "\n",
    "print(\"Test    #max   Result   #gen     #inQ    Time s\")\n",
    "for i, test in enumerate(TEST_RESULTS):\n",
    "    max  = test['args']['max_nodes']\n",
    "    tc  = test['result']['termination_condition']\n",
    "    stc = short_tc[tc]\n",
    "\n",
    "    ng  = test['search_stats']['nodes_generated']\n",
    "    nq  = test['search_stats']['nodes_left_in_queue']\n",
    "    time = round( test['search_stats']['time_taken'], 2 )\n",
    "    print( f\"{i:>3}: {max:>8}    {stc}  {ng:>8} {nq:>8}     {time} \")"
   ]
  }
 ],
 "metadata": {
  "kernelspec": {
   "display_name": "Python 3",
   "language": "python",
   "name": "python3"
  },
  "language_info": {
   "codemirror_mode": {
    "name": "ipython",
    "version": 3
   },
   "file_extension": ".py",
   "mimetype": "text/x-python",
   "name": "python",
   "nbconvert_exporter": "python",
   "pygments_lexer": "ipython3",
   "version": "3.12.1"
  }
 },
 "nbformat": 4,
 "nbformat_minor": 2
}
