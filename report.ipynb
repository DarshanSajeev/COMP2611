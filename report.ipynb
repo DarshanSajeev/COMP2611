{
 "cells": [
  {
   "cell_type": "markdown",
   "metadata": {},
   "source": [
    "Declaration A\n",
    "\n",
    "Start by importing bbSearch to perform search algorithms"
   ]
  },
  {
   "cell_type": "code",
   "execution_count": 1,
   "metadata": {},
   "outputs": [
    {
     "name": "stdout",
     "output_type": "stream",
     "text": [
      "Installing bbSearch module from web ...\n",
      "creating bbmodcache subfolder\n",
      "downloading bbSearch module\n",
      "  % Total    % Received % Xferd  Average Speed   Time    Time     Time  Current\n",
      "                                 Dload  Upload   Total   Spent    Left  Speed\n",
      "100 18767  100 18767    0     0   321k      0 --:--:-- --:--:-- --:--:--  321k\n",
      "Loading bbSearch Version 2.1 (at 18:31, Tue 18 Feb)\n",
      "Last module source code edit 9am Thursday 24th Feb 2022\n"
     ]
    }
   ],
   "source": [
    "!echo Installing bbSearch module from web ...\n",
    "!echo creating bbmodcache subfolder\n",
    "!mkdir -p bbmodcache\n",
    "!echo downloading bbSearch module\n",
    "!curl http://bb-ai.net.s3.amazonaws.com/bb-python-modules/bbSearch.py > bbmodcache/bbSearch.py\n",
    "\n",
    "from bbmodcache.bbSearch import SearchProblem, search"
   ]
  },
  {
   "cell_type": "markdown",
   "metadata": {},
   "source": [
    "Code from Search exercise 7. Creates the grids with their respective blocks and their respective colours"
   ]
  },
  {
   "cell_type": "code",
   "execution_count": 2,
   "metadata": {},
   "outputs": [],
   "source": [
    "import matplotlib.pyplot as plt\n",
    "import matplotlib.patches as patches\n",
    "from copy import deepcopy\n",
    "\n",
    "plt.ioff()  ## Turn off immediate display of plots\n",
    "\n",
    "COLORS = [\"lightgray\", \"red\", \"blue\", \"green\", \"yellow\",\n",
    "          \"orange\", \"purple\", \"pink\", \"brown\"]\n",
    "\n",
    "class BlockState:\n",
    "\n",
    "      # Specify mapping from directions to grid coordinate offsets:\n",
    "      neighbour_offset = {\"left\": (0,-1), \"right\": (0,+1), \"down\":(+1,0), \"up\":(-1,0)}\n",
    "\n",
    "      def __init__( self, blockstate, colors=COLORS ):\n",
    "        self.blockstate = blockstate\n",
    "        self.nrows = len(blockstate)\n",
    "        self.ncols = len(blockstate[0])\n",
    "        self.blocknums = set().union(*[set(row) for row in blockstate])\n",
    "        self.blocknums = self.blocknums - {0}\n",
    "        self.blocknumlist = list(self.blocknums)\n",
    "        self.colors = colors\n",
    "\n",
    "      def __repr__(self):\n",
    "        return( str( self.blockstate ))\n",
    "\n",
    "      # Find the cells occupied by a given number\n",
    "      def blockcells( self, blocknum ):\n",
    "          blockcells = []\n",
    "          for row in range(self.nrows):\n",
    "            for col in range(self.ncols):\n",
    "              if self.blockstate[row][col] == blocknum:\n",
    "                blockcells.append((row,col))\n",
    "          return blockcells\n",
    "\n",
    "      # Test if a cell is free (unblocked) in a given direction\n",
    "      # Free if not blocked by edge of grid or by a cell of different colour\n",
    "      def free_cell( self, direction, cell ):\n",
    "        row, col = cell\n",
    "        offrow, offcol = BlockState.neighbour_offset[direction]\n",
    "        neighrow, neighcol = (row + offrow, col + offcol)\n",
    "        if not (0 <= neighrow < self.nrows): return False #at top or bottom\n",
    "        if not (0 <= neighcol < self.ncols): return False #at left or right\n",
    "        neighval = self.blockstate[neighrow][neighcol]\n",
    "        # Neighboring cell must be empty or part of the same coloured block\n",
    "        return  (neighval==0 or neighval==self.blockstate[row][col])\n",
    "\n",
    "      def free_block( self, direction, blockn ):\n",
    "          blockcells = self.blockcells(blockn)\n",
    "          for cell in blockcells:\n",
    "            if not self.free_cell(direction, cell):\n",
    "              return False\n",
    "          return True\n",
    "\n",
    "      def possible_moves(self):\n",
    "        moves = []\n",
    "        for blocknum in self.blocknumlist:\n",
    "          for direction in [\"left\", \"right\", \"down\", \"up\"]:\n",
    "              if self.free_block(direction, blocknum):\n",
    "                  moves.append((blocknum, direction))\n",
    "        return moves\n",
    "\n",
    "      def next_state(self, move):\n",
    "          next_blockstate = deepcopy(self.blockstate)\n",
    "          blockno, direction = move\n",
    "          cells = self.blockcells(blockno)\n",
    "          ## first clear all cells of the block (set to 0)\n",
    "          for cell in cells:\n",
    "            row, col = cell\n",
    "            next_blockstate[row][col] = 0\n",
    "          rowoff, coloff = BlockState.neighbour_offset[direction]\n",
    "          ## now set all neighbour cells (in move direction) to be\n",
    "          ## cells with the blocknumber\n",
    "          for cell in cells:\n",
    "            row, col = cell\n",
    "            next_blockstate[row+rowoff][col+coloff] = blockno\n",
    "          return BlockState(next_blockstate)\n",
    "\n",
    "      def color_key(self):\n",
    "          return {b:self.colors[b] for b in self.blocknumlist}\n",
    "\n",
    "      def figure(self, scale=0.5):\n",
    "          nrows = self.nrows\n",
    "          ncols = self.ncols\n",
    "          fig, ax = plt.subplots(figsize=(ncols*scale+0.1,nrows*scale+0.1))\n",
    "          plt.close(fig)\n",
    "          ax.set_axis_off() # Don't show border lines and coordinate values\n",
    "\n",
    "          frame = patches.Rectangle((0,0),1,1, linewidth=5, edgecolor='k', facecolor='w')\n",
    "          ax.add_patch(frame)\n",
    "\n",
    "          for row in range(nrows):\n",
    "            for col in range(ncols):\n",
    "                greyrect = patches.Rectangle( (((col*0.9)/ncols)+0.05,\n",
    "                                               (((nrows-row-1)*0.9)/nrows)+0.05 ),\n",
    "                                            0.9/ncols, 0.9/nrows,\n",
    "                                            linewidth=1, edgecolor=\"gray\", facecolor=\"lightgray\")\n",
    "                ax.add_patch(greyrect)\n",
    "\n",
    "          for row in range(nrows):\n",
    "            for col in range(ncols):\n",
    "                cellval = self.blockstate[row][col]\n",
    "                if cellval > 0:\n",
    "                  cellcol = COLORS[cellval]\n",
    "                  rect = patches.Rectangle( (((col*0.9)/ncols)+0.05,\n",
    "                                             (((nrows-row-1)*0.9)/nrows)+0.05 ),\n",
    "                                            0.9/ncols, 0.9/nrows,\n",
    "                                            linewidth=0, edgecolor=cellcol, facecolor=cellcol)\n",
    "                  ax.add_patch(rect)\n",
    "          return fig\n",
    "\n",
    "      def display(self):\n",
    "          display(self.figure())"
   ]
  },
  {
   "cell_type": "code",
   "execution_count": 3,
   "metadata": {},
   "outputs": [],
   "source": [
    "from copy import deepcopy\n",
    "class SlidingBlocksPuzzle( SearchProblem ):\n",
    "\n",
    "    def __init__( self, initial_state, goal, colors=COLORS ):\n",
    "        \"\"\"\n",
    "        The __init__ method must set the initial state for the search.\n",
    "        Arguments could be added to __init__ and used to configure the\n",
    "        initial state and/or other aspects of a problem instance.\n",
    "        \"\"\"\n",
    "        self.initial_state = BlockState(initial_state, colors=colors)\n",
    "        self.colors = colors\n",
    "        self.goal = BlockState(goal)\n",
    "\n",
    "    def info(self):\n",
    "        print(\"Solve the following sliding blocks problem.\")\n",
    "        print(\"Get from this initial state:\")\n",
    "        self.initial_state.display()\n",
    "        print(\"To a state incorporating the following block position(s):\")\n",
    "        self.goal.display()\n",
    "        print(\"You need to slide the red block to cover the bottom right square.\")\n",
    "\n",
    "    def possible_actions(self, state):\n",
    "        return state.possible_moves()\n",
    "\n",
    "    def successor(self, state, action):\n",
    "        \"\"\"\n",
    "        This takes a state and an action and returns the new state resulting\n",
    "        from doing that action in that state. You can assume that the given\n",
    "        action is in the list of 'possible_actions' for that state.\n",
    "        \"\"\"\n",
    "        return state.next_state(action)\n",
    "\n",
    "    def goal_test(self, state):\n",
    "        \"\"\"\n",
    "        For the sliding blocks puzzles, the goal condition is reached when\n",
    "        all block possitions specified in the given goal state are satisfied by\n",
    "        the current state. But empty positions (ie 0s) in the goal are ignored,\n",
    "        so can be occupied by blocks in the current sate.\n",
    "        \"\"\"\n",
    "        for row in range(state.nrows):\n",
    "          for col in range(state.ncols):\n",
    "            goalnum = self.goal.blockstate[row][col]\n",
    "            if goalnum==0:\n",
    "              continue\n",
    "            if goalnum != state.blockstate[row][col]:\n",
    "              return False\n",
    "        return True\n",
    "\n",
    "\n",
    "    def cost(self, path, state):\n",
    "        \"\"\"\n",
    "        This is an optional method that you only need to define if you are using\n",
    "        a cost based algorithm such as \"uniform cost\" or \"A*\". It should return\n",
    "        the cost of reaching a given state via a given path.\n",
    "        If this is not re-defined, it will is assumed that each action costs one unit\n",
    "        of effort to perform, so it returns the length of the path.\n",
    "        \"\"\"\n",
    "        return len(path)\n",
    "\n",
    "    def display_action(self, action):\n",
    "        \"\"\"\n",
    "        You can set the way an action will be displayed in outputs.\n",
    "        \"\"\"\n",
    "        print((self.colors[action[0]], action[1]))\n",
    "\n",
    "    def display_state(self, state):\n",
    "        \"\"\"\n",
    "        You can set the way a state will be displayed in outputs.\n",
    "        \"\"\"\n",
    "        state.display()\n",
    "\n",
    "    def display_state_path( self, actions ):\n",
    "        \"\"\"\n",
    "        This defines output of a solution path when a list of actions\n",
    "        is applied to the initial state. It assumes it is a valid path\n",
    "        with all actions being possible in the preceeding state.\n",
    "        You probably don't need to override this.\n",
    "        \"\"\"\n",
    "        s = self.initial_state\n",
    "        self.display_state(s)\n",
    "        for a in actions:\n",
    "            self.display_action(a)\n",
    "            s = self.successor(s,a)\n",
    "            self.display_state(s)"
   ]
  },
  {
   "cell_type": "markdown",
   "metadata": {},
   "source": [
    "After some experimentation we decided to investigate the following cases of Sliding Block Puzzle. We chose a 4x4 grid for the smaller grid as well as an 7x6 grid for the second, larger grid. We placed the same blocks on both grids and the goal for both is to move the red L chaped block to the bottom left of both grid. "
   ]
  },
  {
   "cell_type": "code",
   "execution_count": 4,
   "metadata": {},
   "outputs": [],
   "source": [
    "small_initial = [[1,0,0,2],\n",
    "         [1,1,0,0],\n",
    "         [0,0,0,4],\n",
    "         [3,3,0,4]]\n",
    "\n",
    "small_goal = [[0,0,0,0],\n",
    "         [0,0,0,0],\n",
    "         [0,0,1,0],\n",
    "         [0,0,1,1]]\n",
    "\n",
    "large_initial = [[1,0,0,0,0,0,2],\n",
    "         [1,1,0,0,0,0,0],\n",
    "         [0,0,0,0,0,0,0],\n",
    "         [0,0,0,0,0,0,0],\n",
    "         [0,0,0,0,0,0,4],\n",
    "         [3,3,0,0,0,0,4]]\n",
    "\n",
    "\n",
    "large_goal = [[0,0,0,0,0,0,0],\n",
    "         [0,0,0,0,0,0,0],\n",
    "         [0,0,0,0,0,0,0],\n",
    "         [0,0,0,0,0,0,0],\n",
    "         [0,0,0,0,0,1,0],\n",
    "         [0,0,0,0,0,1,1]]\n",
    "\n",
    "small_puzzle =  SlidingBlocksPuzzle( small_initial,  small_goal)\n",
    "large_puzzle =  SlidingBlocksPuzzle( large_initial,  large_goal)"
   ]
  },
  {
   "cell_type": "markdown",
   "metadata": {},
   "source": [
    "The first test is to show how the size of the grids may effect the time it takes to complete the search as well as how the different search algorithms effect the time and path length. Originally, the large grid was of size 7x8 and we planned on setting the node limit to 5000 which passed for every small grid test. However, the large grid was too large for this small node limit so we increased the limit by 5000 each time and tested if the algorithm passed or failed. Eventually the programs failed as it approched to 50000 nodes. Therefore we reduced the grid size and set the node limit was 30000 for all the tests"
   ]
  },
  {
   "cell_type": "code",
   "execution_count": 5,
   "metadata": {},
   "outputs": [
    {
     "name": "stdout",
     "output_type": "stream",
     "text": [
      "Solve the following sliding blocks problem.\n",
      "Get from this initial state:\n"
     ]
    },
    {
     "data": {
      "image/png": "[encoded data removed]",
      "text/plain": [
       "<Figure size 210x210 with 1 Axes>"
      ]
     },
     "metadata": {},
     "output_type": "display_data"
    },
    {
     "name": "stdout",
     "output_type": "stream",
     "text": [
      "To a state incorporating the following block position(s):\n"
     ]
    },
    {
     "data": {
      "image/png": "[encoded data removed]",
      "text/plain": [
       "<Figure size 210x210 with 1 Axes>"
      ]
     },
     "metadata": {},
     "output_type": "display_data"
    },
    {
     "name": "stdout",
     "output_type": "stream",
     "text": [
      "You need to slide the red block to cover the bottom right square.\n",
      "\n",
      "** Running Brandon's Search Algorithm **\n",
      "Strategy: mode=BF/FIFO, cost=None, heuristic=None\n",
      "Max search nodes: 30000  (max number added to queue)\n",
      "Searching (will output '.' each 1000 goal_tests)\n",
      "\n",
      ":-)) *SUCCESS* ((-:\n",
      "\n",
      "Path length = 7\n",
      "Goal state is:\n"
     ]
    },
    {
     "data": {
      "image/png": "[encoded data removed]",
      "text/plain": [
       "<Figure size 210x210 with 1 Axes>"
      ]
     },
     "metadata": {},
     "output_type": "display_data"
    },
    {
     "name": "stdout",
     "output_type": "stream",
     "text": [
      "The action path to the solution is:\n",
      "('red', 'right')\n",
      "('red', 'down')\n",
      "('blue', 'left')\n",
      "('yellow', 'up')\n",
      "('yellow', 'up')\n",
      "('red', 'right')\n",
      "('red', 'down')\n",
      "\n",
      "\n",
      "SEARCH SPACE STATS:\n",
      "Total nodes generated          =     2134  (includes start)\n",
      "Nodes discarded by loop_check  =     1641  (493 distinct states added to queue)\n",
      "Nodes tested (by goal_test)    =      356  (355 expanded + 1 goal)\n",
      "Nodes left in queue            =      137\n",
      "\n",
      "Time taken = 0.0728 seconds\n",
      "\n",
      "Solve the following sliding blocks problem.\n",
      "Get from this initial state:\n"
     ]
    },
    {
     "data": {
      "image/png": "[encoded data removed]",
      "text/plain": [
       "<Figure size 360x310 with 1 Axes>"
      ]
     },
     "metadata": {},
     "output_type": "display_data"
    },
    {
     "name": "stdout",
     "output_type": "stream",
     "text": [
      "To a state incorporating the following block position(s):\n"
     ]
    },
    {
     "data": {
      "image/png": "[encoded data removed]",
      "text/plain": [
       "<Figure size 360x310 with 1 Axes>"
      ]
     },
     "metadata": {},
     "output_type": "display_data"
    },
    {
     "name": "stdout",
     "output_type": "stream",
     "text": [
      "You need to slide the red block to cover the bottom right square.\n",
      "\n",
      "** Running Brandon's Search Algorithm **\n",
      "Strategy: mode=BF/FIFO, cost=None, heuristic=None\n",
      "Max search nodes: 30000  (max number added to queue)\n",
      "Searching (will output '.' each 1000 goal_tests)\n",
      "................\n",
      ":-)) *SUCCESS* ((-:\n",
      "\n",
      "Path length = 10\n",
      "Goal state is:\n"
     ]
    },
    {
     "data": {
      "image/png": "[encoded data removed]",
      "text/plain": [
       "<Figure size 360x310 with 1 Axes>"
      ]
     },
     "metadata": {},
     "output_type": "display_data"
    },
    {
     "name": "stdout",
     "output_type": "stream",
     "text": [
      "The action path to the solution is:\n",
      "('red', 'right')\n",
      "('red', 'right')\n",
      "('red', 'right')\n",
      "('red', 'right')\n",
      "('red', 'down')\n",
      "('red', 'down')\n",
      "('red', 'down')\n",
      "('red', 'down')\n",
      "('yellow', 'up')\n",
      "('red', 'right')\n",
      "\n",
      "\n",
      "SEARCH SPACE STATS:\n",
      "Total nodes generated          =   185417  (includes start)\n",
      "Nodes discarded by loop_check  =   158676  (26741 distinct states added to queue)\n",
      "Nodes tested (by goal_test)    =    16547  (16546 expanded + 1 goal)\n",
      "Nodes left in queue            =    10194\n",
      "\n",
      "Time taken = 6.1856 seconds\n",
      "\n"
     ]
    }
   ],
   "source": [
    "small_search = search( small_puzzle, 'BF/FIFO', 30000, loop_check=True, randomise=False, return_info=True)\n",
    "large_search = search( large_puzzle, 'BF/FIFO', 30000, loop_check=True, randomise=False, return_info=True)"
   ]
  },
  {
   "cell_type": "markdown",
   "metadata": {},
   "source": [
    "This test is for Depth first search. The small gird passed successfully however, the larger grid did not so we increased the node limit to 35000 to see at what point it would pass."
   ]
  },
  {
   "cell_type": "code",
   "execution_count": 6,
   "metadata": {},
   "outputs": [
    {
     "name": "stdout",
     "output_type": "stream",
     "text": [
      "Solve the following sliding blocks problem.\n",
      "Get from this initial state:\n"
     ]
    },
    {
     "data": {
      "image/png": "[encoded data removed]",
      "text/plain": [
       "<Figure size 210x210 with 1 Axes>"
      ]
     },
     "metadata": {},
     "output_type": "display_data"
    },
    {
     "name": "stdout",
     "output_type": "stream",
     "text": [
      "To a state incorporating the following block position(s):\n"
     ]
    },
    {
     "data": {
      "image/png": "[encoded data removed]",
      "text/plain": [
       "<Figure size 210x210 with 1 Axes>"
      ]
     },
     "metadata": {},
     "output_type": "display_data"
    },
    {
     "name": "stdout",
     "output_type": "stream",
     "text": [
      "You need to slide the red block to cover the bottom right square.\n",
      "\n",
      "** Running Brandon's Search Algorithm **\n",
      "Strategy: mode=DF/LIFO, cost=None, heuristic=None\n",
      "Max search nodes: 30000  (max number added to queue)\n",
      "Searching (will output '.' each 1000 goal_tests)\n",
      "\n",
      ":-)) *SUCCESS* ((-:\n",
      "\n",
      "Path length = 78\n",
      "Goal state is:\n"
     ]
    },
    {
     "data": {
      "image/png": "[encoded data removed]",
      "text/plain": [
       "<Figure size 210x210 with 1 Axes>"
      ]
     },
     "metadata": {},
     "output_type": "display_data"
    },
    {
     "name": "stdout",
     "output_type": "stream",
     "text": [
      "The action path to the solution is:\n",
      "('yellow', 'up')\n",
      "('yellow', 'left')\n",
      "('yellow', 'up')\n",
      "('green', 'up')\n",
      "('green', 'right')\n",
      "('green', 'right')\n",
      "('green', 'down')\n",
      "('yellow', 'down')\n",
      "('yellow', 'right')\n",
      "('blue', 'left')\n",
      "('yellow', 'up')\n",
      "('green', 'up')\n",
      "('green', 'left')\n",
      "('yellow', 'down')\n",
      "('yellow', 'down')\n",
      "('green', 'down')\n",
      "('blue', 'down')\n",
      "('yellow', 'up')\n",
      "('yellow', 'up')\n",
      "('green', 'left')\n",
      "('green', 'up')\n",
      "('yellow', 'down')\n",
      "('yellow', 'down')\n",
      "('yellow', 'left')\n",
      "('green', 'down')\n",
      "('blue', 'up')\n",
      "('blue', 'left')\n",
      "('yellow', 'up')\n",
      "('yellow', 'up')\n",
      "('yellow', 'right')\n",
      "('green', 'right')\n",
      "('yellow', 'down')\n",
      "('red', 'down')\n",
      "('yellow', 'down')\n",
      "('green', 'left')\n",
      "('blue', 'down')\n",
      "('yellow', 'up')\n",
      "('yellow', 'up')\n",
      "('yellow', 'left')\n",
      "('green', 'right')\n",
      "('yellow', 'down')\n",
      "('green', 'right')\n",
      "('yellow', 'right')\n",
      "('yellow', 'up')\n",
      "('green', 'up')\n",
      "('yellow', 'left')\n",
      "('blue', 'up')\n",
      "('green', 'down')\n",
      "('blue', 'left')\n",
      "('yellow', 'down')\n",
      "('yellow', 'right')\n",
      "('red', 'down')\n",
      "('yellow', 'up')\n",
      "('green', 'up')\n",
      "('yellow', 'left')\n",
      "('yellow', 'left')\n",
      "('yellow', 'down')\n",
      "('green', 'up')\n",
      "('green', 'up')\n",
      "('yellow', 'up')\n",
      "('blue', 'down')\n",
      "('green', 'down')\n",
      "('red', 'right')\n",
      "('green', 'down')\n",
      "('yellow', 'right')\n",
      "('yellow', 'right')\n",
      "('blue', 'down')\n",
      "('blue', 'down')\n",
      "('yellow', 'left')\n",
      "('yellow', 'left')\n",
      "('yellow', 'left')\n",
      "('yellow', 'down')\n",
      "('green', 'up')\n",
      "('green', 'up')\n",
      "('yellow', 'up')\n",
      "('yellow', 'right')\n",
      "('blue', 'up')\n",
      "('red', 'right')\n",
      "\n",
      "\n",
      "SEARCH SPACE STATS:\n",
      "Total nodes generated          =      472  (includes start)\n",
      "Nodes discarded by loop_check  =      198  (274 distinct states added to queue)\n",
      "Nodes tested (by goal_test)    =       82  (81 expanded + 1 goal)\n",
      "Nodes left in queue            =      192\n",
      "\n",
      "Time taken = 0.0397 seconds\n",
      "\n",
      "Solve the following sliding blocks problem.\n",
      "Get from this initial state:\n"
     ]
    },
    {
     "data": {
      "image/png": "[encoded data removed]",
      "text/plain": [
       "<Figure size 360x310 with 1 Axes>"
      ]
     },
     "metadata": {},
     "output_type": "display_data"
    },
    {
     "name": "stdout",
     "output_type": "stream",
     "text": [
      "To a state incorporating the following block position(s):\n"
     ]
    },
    {
     "data": {
      "image/png": "[encoded data removed]",
      "text/plain": [
       "<Figure size 360x310 with 1 Axes>"
      ]
     },
     "metadata": {},
     "output_type": "display_data"
    },
    {
     "name": "stdout",
     "output_type": "stream",
     "text": [
      "You need to slide the red block to cover the bottom right square.\n",
      "\n",
      "** Running Brandon's Search Algorithm **\n",
      "Strategy: mode=DF/LIFO, cost=None, heuristic=None\n",
      "Max search nodes: 30000  (max number added to queue)\n",
      "Searching (will output '.' each 1000 goal_tests)\n",
      "...\n",
      "!! Search node limit (30000) reached !!\n",
      "): No solution found :(\n",
      "\n",
      "\n",
      "SEARCH SPACE STATS:\n",
      "Total nodes generated          =    43931  (includes start)\n",
      "Nodes discarded by loop_check  =    13930  (30001 distinct states added to queue)\n",
      "Nodes tested (by goal_test)    =     3982  (all expanded)\n",
      "Nodes left in queue            =    26018\n",
      "\n",
      "Time taken = 3.8538 seconds\n",
      "\n",
      "Solve the following sliding blocks problem.\n",
      "Get from this initial state:\n"
     ]
    },
    {
     "data": {
      "image/png": "[encoded data removed]",
      "text/plain": [
       "<Figure size 360x310 with 1 Axes>"
      ]
     },
     "metadata": {},
     "output_type": "display_data"
    },
    {
     "name": "stdout",
     "output_type": "stream",
     "text": [
      "To a state incorporating the following block position(s):\n"
     ]
    },
    {
     "data": {
      "image/png": "[encoded data removed]",
      "text/plain": [
       "<Figure size 360x310 with 1 Axes>"
      ]
     },
     "metadata": {},
     "output_type": "display_data"
    },
    {
     "name": "stdout",
     "output_type": "stream",
     "text": [
      "You need to slide the red block to cover the bottom right square.\n",
      "\n",
      "** Running Brandon's Search Algorithm **\n",
      "Strategy: mode=DF/LIFO, cost=None, heuristic=None\n",
      "Max search nodes: 35000  (max number added to queue)\n",
      "Searching (will output '.' each 1000 goal_tests)\n",
      "\n",
      ":-)) *SUCCESS* ((-:\n",
      "\n",
      "Path length = 663\n",
      "Goal state is:\n"
     ]
    },
    {
     "data": {
      "image/png": "[encoded data removed]",
      "text/plain": [
       "<Figure size 360x310 with 1 Axes>"
      ]
     },
     "metadata": {},
     "output_type": "display_data"
    },
    {
     "name": "stdout",
     "output_type": "stream",
     "text": [
      "The action path to the solution is:\n",
      "('red', 'right')\n",
      "('blue', 'down')\n",
      "('blue', 'down')\n",
      "('blue', 'left')\n",
      "('red', 'left')\n",
      "('green', 'right')\n",
      "('blue', 'right')\n",
      "('green', 'up')\n",
      "('green', 'right')\n",
      "('green', 'right')\n",
      "('green', 'up')\n",
      "('yellow', 'left')\n",
      "('blue', 'down')\n",
      "('green', 'up')\n",
      "('yellow', 'left')\n",
      "('green', 'up')\n",
      "('green', 'right')\n",
      "('green', 'right')\n",
      "('blue', 'down')\n",
      "('red', 'right')\n",
      "('yellow', 'up')\n",
      "('green', 'left')\n",
      "('yellow', 'right')\n",
      "('green', 'up')\n",
      "('blue', 'down')\n",
      "('green', 'right')\n",
      "('red', 'left')\n",
      "('yellow', 'right')\n",
      "('yellow', 'up')\n",
      "('yellow', 'up')\n",
      "('green', 'left')\n",
      "('yellow', 'left')\n",
      "('blue', 'left')\n",
      "('green', 'right')\n",
      "('blue', 'left')\n",
      "('red', 'right')\n",
      "('yellow', 'down')\n",
      "('green', 'left')\n",
      "('red', 'down')\n",
      "('yellow', 'left')\n",
      "('green', 'down')\n",
      "('yellow', 'down')\n",
      "('red', 'left')\n",
      "('red', 'up')\n",
      "('green', 'right')\n",
      "('red', 'right')\n",
      "('yellow', 'left')\n",
      "('green', 'up')\n",
      "('blue', 'up')\n",
      "('yellow', 'down')\n",
      "('green', 'left')\n",
      "('red', 'left')\n",
      "('yellow', 'left')\n",
      "('blue', 'up')\n",
      "('green', 'down')\n",
      "('green', 'left')\n",
      "('green', 'down')\n",
      "('yellow', 'up')\n",
      "('green', 'right')\n",
      "('yellow', 'left')\n",
      "('red', 'down')\n",
      "('yellow', 'down')\n",
      "('red', 'down')\n",
      "('blue', 'left')\n",
      "('yellow', 'right')\n",
      "('yellow', 'up')\n",
      "('green', 'right')\n",
      "('blue', 'up')\n",
      "('yellow', 'right')\n",
      "('green', 'up')\n",
      "('blue', 'up')\n",
      "('blue', 'left')\n",
      "('red', 'right')\n",
      "('green', 'up')\n",
      "('blue', 'down')\n",
      "('yellow', 'up')\n",
      "('red', 'down')\n",
      "('blue', 'up')\n",
      "('blue', 'up')\n",
      "('yellow', 'right')\n",
      "('red', 'down')\n",
      "('red', 'right')\n",
      "('green', 'down')\n",
      "('blue', 'right')\n",
      "('yellow', 'up')\n",
      "('red', 'up')\n",
      "('green', 'up')\n",
      "('yellow', 'down')\n",
      "('yellow', 'right')\n",
      "('red', 'right')\n",
      "('blue', 'down')\n",
      "('blue', 'down')\n",
      "('yellow', 'up')\n",
      "('yellow', 'left')\n",
      "('blue', 'left')\n",
      "('yellow', 'down')\n",
      "('blue', 'down')\n",
      "('green', 'down')\n",
      "('yellow', 'right')\n",
      "('yellow', 'down')\n",
      "('red', 'down')\n",
      "('blue', 'down')\n",
      "('green', 'down')\n",
      "('yellow', 'left')\n",
      "('blue', 'up')\n",
      "('blue', 'right')\n",
      "('yellow', 'up')\n",
      "('red', 'right')\n",
      "('green', 'down')\n",
      "('blue', 'up')\n",
      "('red', 'left')\n",
      "('red', 'up')\n",
      "('blue', 'up')\n",
      "('green', 'down')\n",
      "('blue', 'left')\n",
      "('green', 'down')\n",
      "('blue', 'up')\n",
      "('green', 'left')\n",
      "('red', 'left')\n",
      "('red', 'up')\n",
      "('blue', 'left')\n",
      "('yellow', 'up')\n",
      "('yellow', 'right')\n",
      "('green', 'left')\n",
      "('green', 'left')\n",
      "('green', 'left')\n",
      "('blue', 'right')\n",
      "('yellow', 'right')\n",
      "('yellow', 'down')\n",
      "('red', 'up')\n",
      "('yellow', 'left')\n",
      "('yellow', 'left')\n",
      "('blue', 'right')\n",
      "('yellow', 'up')\n",
      "('green', 'left')\n",
      "('blue', 'down')\n",
      "('yellow', 'down')\n",
      "('red', 'left')\n",
      "('yellow', 'down')\n",
      "('yellow', 'down')\n",
      "('blue', 'down')\n",
      "('red', 'down')\n",
      "('blue', 'right')\n",
      "('blue', 'up')\n",
      "('blue', 'right')\n",
      "('green', 'up')\n",
      "('yellow', 'left')\n",
      "('red', 'left')\n",
      "('green', 'right')\n",
      "('blue', 'left')\n",
      "('yellow', 'right')\n",
      "('red', 'right')\n",
      "('blue', 'down')\n",
      "('green', 'right')\n",
      "('red', 'up')\n",
      "('yellow', 'up')\n",
      "('red', 'right')\n",
      "('blue', 'up')\n",
      "('blue', 'left')\n",
      "('green', 'left')\n",
      "('yellow', 'left')\n",
      "('yellow', 'down')\n",
      "('green', 'down')\n",
      "('red', 'down')\n",
      "('red', 'left')\n",
      "('blue', 'down')\n",
      "('green', 'up')\n",
      "('red', 'right')\n",
      "('yellow', 'right')\n",
      "('yellow', 'up')\n",
      "('green', 'right')\n",
      "('yellow', 'up')\n",
      "('green', 'right')\n",
      "('red', 'left')\n",
      "('red', 'down')\n",
      "('red', 'down')\n",
      "('green', 'right')\n",
      "('blue', 'left')\n",
      "('yellow', 'up')\n",
      "('green', 'down')\n",
      "('red', 'right')\n",
      "('yellow', 'up')\n",
      "('blue', 'right')\n",
      "('red', 'left')\n",
      "('blue', 'up')\n",
      "('yellow', 'right')\n",
      "('red', 'left')\n",
      "('green', 'up')\n",
      "('yellow', 'left')\n",
      "('red', 'up')\n",
      "('blue', 'left')\n",
      "('yellow', 'down')\n",
      "('green', 'down')\n",
      "('yellow', 'left')\n",
      "('yellow', 'up')\n",
      "('blue', 'down')\n",
      "('green', 'up')\n",
      "('green', 'up')\n",
      "('yellow', 'left')\n",
      "('red', 'down')\n",
      "('green', 'right')\n",
      "('red', 'right')\n",
      "('red', 'right')\n",
      "('red', 'up')\n",
      "('blue', 'right')\n",
      "('green', 'up')\n",
      "('blue', 'right')\n",
      "('green', 'up')\n",
      "('red', 'up')\n",
      "('blue', 'left')\n",
      "('green', 'up')\n",
      "('yellow', 'right')\n",
      "('red', 'down')\n",
      "('blue', 'right')\n",
      "('blue', 'up')\n",
      "('red', 'left')\n",
      "('red', 'left')\n",
      "('green', 'down')\n",
      "('blue', 'down')\n",
      "('blue', 'right')\n",
      "('yellow', 'down')\n",
      "('yellow', 'right')\n",
      "('red', 'up')\n",
      "('yellow', 'down')\n",
      "('blue', 'right')\n",
      "('yellow', 'right')\n",
      "('green', 'left')\n",
      "('blue', 'up')\n",
      "('red', 'down')\n",
      "('red', 'down')\n",
      "('yellow', 'down')\n",
      "('yellow', 'down')\n",
      "('red', 'up')\n",
      "('green', 'down')\n",
      "('red', 'up')\n",
      "('green', 'down')\n",
      "('red', 'up')\n",
      "('blue', 'up')\n",
      "('green', 'up')\n",
      "('red', 'right')\n",
      "('green', 'up')\n",
      "('yellow', 'left')\n",
      "('blue', 'left')\n",
      "('yellow', 'up')\n",
      "('yellow', 'right')\n",
      "('yellow', 'right')\n",
      "('yellow', 'up')\n",
      "('green', 'right')\n",
      "('red', 'up')\n",
      "('red', 'left')\n",
      "('blue', 'right')\n",
      "('yellow', 'left')\n",
      "('red', 'right')\n",
      "('red', 'down')\n",
      "('yellow', 'down')\n",
      "('red', 'down')\n",
      "('green', 'down')\n",
      "('red', 'right')\n",
      "('red', 'up')\n",
      "('yellow', 'down')\n",
      "('yellow', 'right')\n",
      "('green', 'down')\n",
      "('blue', 'down')\n",
      "('red', 'right')\n",
      "('blue', 'left')\n",
      "('yellow', 'left')\n",
      "('blue', 'up')\n",
      "('red', 'down')\n",
      "('blue', 'left')\n",
      "('blue', 'left')\n",
      "('yellow', 'right')\n",
      "('blue', 'down')\n",
      "('blue', 'right')\n",
      "('blue', 'down')\n",
      "('red', 'left')\n",
      "('green', 'up')\n",
      "('green', 'up')\n",
      "('blue', 'up')\n",
      "('red', 'left')\n",
      "('green', 'down')\n",
      "('blue', 'left')\n",
      "('red', 'up')\n",
      "('yellow', 'left')\n",
      "('green', 'left')\n",
      "('red', 'down')\n",
      "('red', 'left')\n",
      "('blue', 'up')\n",
      "('blue', 'right')\n",
      "('green', 'up')\n",
      "('yellow', 'left')\n",
      "('yellow', 'left')\n",
      "('yellow', 'up')\n",
      "('red', 'down')\n",
      "('blue', 'right')\n",
      "('red', 'right')\n",
      "('green', 'down')\n",
      "('yellow', 'right')\n",
      "('blue', 'down')\n",
      "('red', 'down')\n",
      "('green', 'left')\n",
      "('blue', 'down')\n",
      "('green', 'up')\n",
      "('yellow', 'left')\n",
      "('green', 'left')\n",
      "('blue', 'up')\n",
      "('red', 'left')\n",
      "('blue', 'right')\n",
      "('blue', 'up')\n",
      "('yellow', 'down')\n",
      "('green', 'down')\n",
      "('yellow', 'right')\n",
      "('yellow', 'up')\n",
      "('green', 'right')\n",
      "('green', 'right')\n",
      "('red', 'right')\n",
      "('yellow', 'right')\n",
      "('yellow', 'down')\n",
      "('yellow', 'right')\n",
      "('green', 'right')\n",
      "('yellow', 'up')\n",
      "('blue', 'left')\n",
      "('blue', 'left')\n",
      "('red', 'left')\n",
      "('blue', 'left')\n",
      "('yellow', 'left')\n",
      "('blue', 'left')\n",
      "('red', 'right')\n",
      "('blue', 'down')\n",
      "('green', 'left')\n",
      "('yellow', 'down')\n",
      "('blue', 'up')\n",
      "('yellow', 'left')\n",
      "('green', 'down')\n",
      "('red', 'up')\n",
      "('yellow', 'right')\n",
      "('red', 'right')\n",
      "('red', 'down')\n",
      "('green', 'left')\n",
      "('red', 'left')\n",
      "('yellow', 'up')\n",
      "('green', 'left')\n",
      "('red', 'up')\n",
      "('blue', 'right')\n",
      "('red', 'left')\n",
      "('green', 'left')\n",
      "('red', 'down')\n",
      "('yellow', 'left')\n",
      "('green', 'down')\n",
      "('yellow', 'up')\n",
      "('yellow', 'left')\n",
      "('yellow', 'left')\n",
      "('yellow', 'up')\n",
      "('green', 'right')\n",
      "('green', 'up')\n",
      "('blue', 'down')\n",
      "('yellow', 'up')\n",
      "('green', 'up')\n",
      "('green', 'right')\n",
      "('blue', 'right')\n",
      "('yellow', 'down')\n",
      "('blue', 'right')\n",
      "('green', 'right')\n",
      "('yellow', 'down')\n",
      "('blue', 'left')\n",
      "('red', 'up')\n",
      "('red', 'right')\n",
      "('green', 'down')\n",
      "('yellow', 'up')\n",
      "('blue', 'left')\n",
      "('green', 'left')\n",
      "('red', 'left')\n",
      "('blue', 'right')\n",
      "('green', 'down')\n",
      "('yellow', 'up')\n",
      "('yellow', 'right')\n",
      "('green', 'down')\n",
      "('green', 'right')\n",
      "('blue', 'right')\n",
      "('red', 'down')\n",
      "('green', 'right')\n",
      "('blue', 'up')\n",
      "('red', 'up')\n",
      "('yellow', 'down')\n",
      "('blue', 'down')\n",
      "('blue', 'right')\n",
      "('yellow', 'right')\n",
      "('yellow', 'down')\n",
      "('blue', 'down')\n",
      "('red', 'down')\n",
      "('blue', 'left')\n",
      "('green', 'up')\n",
      "('yellow', 'left')\n",
      "('green', 'up')\n",
      "('blue', 'up')\n",
      "('blue', 'right')\n",
      "('red', 'up')\n",
      "('blue', 'up')\n",
      "('yellow', 'left')\n",
      "('yellow', 'left')\n",
      "('green', 'down')\n",
      "('green', 'left')\n",
      "('yellow', 'up')\n",
      "('blue', 'left')\n",
      "('blue', 'down')\n",
      "('blue', 'left')\n",
      "('yellow', 'up')\n",
      "('green', 'right')\n",
      "('yellow', 'right')\n",
      "('yellow', 'right')\n",
      "('red', 'down')\n",
      "('blue', 'down')\n",
      "('yellow', 'left')\n",
      "('blue', 'right')\n",
      "('green', 'down')\n",
      "('blue', 'down')\n",
      "('yellow', 'right')\n",
      "('yellow', 'down')\n",
      "('yellow', 'down')\n",
      "('blue', 'left')\n",
      "('blue', 'up')\n",
      "('yellow', 'left')\n",
      "('red', 'right')\n",
      "('yellow', 'up')\n",
      "('blue', 'down')\n",
      "('green', 'up')\n",
      "('yellow', 'up')\n",
      "('yellow', 'left')\n",
      "('blue', 'up')\n",
      "('green', 'up')\n",
      "('green', 'up')\n",
      "('yellow', 'down')\n",
      "('yellow', 'down')\n",
      "('green', 'down')\n",
      "('yellow', 'left')\n",
      "('red', 'left')\n",
      "('yellow', 'up')\n",
      "('blue', 'up')\n",
      "('green', 'up')\n",
      "('red', 'right')\n",
      "('blue', 'up')\n",
      "('red', 'up')\n",
      "('blue', 'left')\n",
      "('red', 'left')\n",
      "('green', 'left')\n",
      "('green', 'left')\n",
      "('red', 'right')\n",
      "('red', 'up')\n",
      "('blue', 'down')\n",
      "('red', 'up')\n",
      "('green', 'right')\n",
      "('green', 'down')\n",
      "('red', 'right')\n",
      "('green', 'down')\n",
      "('yellow', 'down')\n",
      "('green', 'down')\n",
      "('green', 'right')\n",
      "('red', 'left')\n",
      "('blue', 'left')\n",
      "('green', 'left')\n",
      "('yellow', 'down')\n",
      "('red', 'down')\n",
      "('green', 'left')\n",
      "('red', 'right')\n",
      "('yellow', 'down')\n",
      "('red', 'right')\n",
      "('blue', 'left')\n",
      "('red', 'right')\n",
      "('green', 'right')\n",
      "('green', 'up')\n",
      "('green', 'right')\n",
      "('red', 'left')\n",
      "('green', 'up')\n",
      "('red', 'down')\n",
      "('red', 'right')\n",
      "('blue', 'right')\n",
      "('blue', 'down')\n",
      "('red', 'left')\n",
      "('red', 'down')\n",
      "('blue', 'right')\n",
      "('yellow', 'right')\n",
      "('red', 'up')\n",
      "('green', 'up')\n",
      "('blue', 'right')\n",
      "('blue', 'up')\n",
      "('red', 'down')\n",
      "('blue', 'left')\n",
      "('green', 'up')\n",
      "('red', 'up')\n",
      "('blue', 'up')\n",
      "('green', 'down')\n",
      "('red', 'up')\n",
      "('red', 'right')\n",
      "('yellow', 'left')\n",
      "('blue', 'right')\n",
      "('blue', 'right')\n",
      "('red', 'down')\n",
      "('green', 'up')\n",
      "('red', 'down')\n",
      "('yellow', 'up')\n",
      "('blue', 'left')\n",
      "('red', 'left')\n",
      "('yellow', 'up')\n",
      "('blue', 'left')\n",
      "('green', 'up')\n",
      "('blue', 'left')\n",
      "('yellow', 'up')\n",
      "('red', 'right')\n",
      "('red', 'up')\n",
      "('yellow', 'down')\n",
      "('yellow', 'down')\n",
      "('blue', 'right')\n",
      "('yellow', 'down')\n",
      "('red', 'up')\n",
      "('blue', 'down')\n",
      "('blue', 'down')\n",
      "('red', 'down')\n",
      "('blue', 'right')\n",
      "('yellow', 'up')\n",
      "('blue', 'right')\n",
      "('blue', 'right')\n",
      "('yellow', 'up')\n",
      "('green', 'left')\n",
      "('blue', 'down')\n",
      "('yellow', 'right')\n",
      "('blue', 'left')\n",
      "('green', 'right')\n",
      "('blue', 'up')\n",
      "('red', 'up')\n",
      "('yellow', 'up')\n",
      "('green', 'down')\n",
      "('yellow', 'left')\n",
      "('yellow', 'down')\n",
      "('blue', 'right')\n",
      "('red', 'up')\n",
      "('yellow', 'right')\n",
      "('yellow', 'down')\n",
      "('green', 'up')\n",
      "('blue', 'up')\n",
      "('green', 'left')\n",
      "('yellow', 'right')\n",
      "('red', 'down')\n",
      "('red', 'left')\n",
      "('yellow', 'up')\n",
      "('yellow', 'left')\n",
      "('blue', 'left')\n",
      "('red', 'right')\n",
      "('yellow', 'left')\n",
      "('green', 'right')\n",
      "('red', 'up')\n",
      "('yellow', 'up')\n",
      "('red', 'left')\n",
      "('blue', 'down')\n",
      "('blue', 'right')\n",
      "('yellow', 'up')\n",
      "('red', 'up')\n",
      "('green', 'down')\n",
      "('blue', 'left')\n",
      "('blue', 'left')\n",
      "('green', 'down')\n",
      "('yellow', 'down')\n",
      "('blue', 'left')\n",
      "('red', 'left')\n",
      "('green', 'left')\n",
      "('green', 'up')\n",
      "('blue', 'down')\n",
      "('yellow', 'up')\n",
      "('green', 'up')\n",
      "('green', 'left')\n",
      "('blue', 'down')\n",
      "('blue', 'left')\n",
      "('red', 'down')\n",
      "('blue', 'up')\n",
      "('green', 'left')\n",
      "('blue', 'left')\n",
      "('blue', 'down')\n",
      "('red', 'down')\n",
      "('red', 'right')\n",
      "('blue', 'down')\n",
      "('green', 'down')\n",
      "('red', 'right')\n",
      "('yellow', 'down')\n",
      "('red', 'down')\n",
      "('red', 'down')\n",
      "('blue', 'right')\n",
      "('red', 'left')\n",
      "('green', 'down')\n",
      "('yellow', 'down')\n",
      "('green', 'left')\n",
      "('red', 'right')\n",
      "('yellow', 'down')\n",
      "('green', 'up')\n",
      "('green', 'up')\n",
      "('red', 'left')\n",
      "('red', 'up')\n",
      "('red', 'up')\n",
      "('yellow', 'down')\n",
      "('green', 'down')\n",
      "('yellow', 'right')\n",
      "('green', 'down')\n",
      "('blue', 'right')\n",
      "('yellow', 'left')\n",
      "('red', 'down')\n",
      "('red', 'left')\n",
      "('yellow', 'up')\n",
      "('green', 'up')\n",
      "('green', 'left')\n",
      "('yellow', 'up')\n",
      "('blue', 'right')\n",
      "('red', 'up')\n",
      "('green', 'up')\n",
      "('yellow', 'down')\n",
      "('red', 'right')\n",
      "('red', 'down')\n",
      "('blue', 'right')\n",
      "('red', 'left')\n",
      "('blue', 'up')\n",
      "('red', 'down')\n",
      "('yellow', 'right')\n",
      "('blue', 'up')\n",
      "('yellow', 'down')\n",
      "('green', 'down')\n",
      "('green', 'down')\n",
      "('blue', 'left')\n",
      "('blue', 'down')\n",
      "('yellow', 'left')\n",
      "('green', 'right')\n",
      "('red', 'left')\n",
      "('green', 'down')\n",
      "('yellow', 'up')\n",
      "('blue', 'down')\n",
      "('yellow', 'up')\n",
      "('green', 'right')\n",
      "('yellow', 'up')\n",
      "('red', 'up')\n",
      "('yellow', 'right')\n",
      "('green', 'up')\n",
      "('green', 'right')\n",
      "('red', 'down')\n",
      "('yellow', 'down')\n",
      "('red', 'right')\n",
      "('blue', 'up')\n",
      "('blue', 'right')\n",
      "('green', 'up')\n",
      "('red', 'left')\n",
      "('green', 'up')\n",
      "('blue', 'right')\n",
      "('blue', 'up')\n",
      "('blue', 'up')\n",
      "('green', 'left')\n",
      "('red', 'right')\n",
      "('red', 'right')\n",
      "('yellow', 'up')\n",
      "('green', 'right')\n",
      "('green', 'down')\n",
      "('yellow', 'right')\n",
      "('blue', 'left')\n",
      "('blue', 'left')\n",
      "('yellow', 'up')\n",
      "('green', 'right')\n",
      "('red', 'right')\n",
      "('blue', 'down')\n",
      "('blue', 'right')\n",
      "('red', 'right')\n",
      "\n",
      "\n",
      "SEARCH SPACE STATS:\n",
      "Total nodes generated          =     7544  (includes start)\n",
      "Nodes discarded by loop_check  =     1363  (6181 distinct states added to queue)\n",
      "Nodes tested (by goal_test)    =      664  (663 expanded + 1 goal)\n",
      "Nodes left in queue            =     5517\n",
      "\n",
      "Time taken = 1.6885 seconds\n",
      "\n"
     ]
    }
   ],
   "source": [
    "small_Df = search( small_puzzle, 'DF/LIFO', 30000, loop_check=True, randomise=False, return_info=True)\n",
    "large_DF = search( large_puzzle, 'DF/LIFO', 30000, loop_check=True, randomise=False, return_info=True)\n",
    "large_DF2 = search( large_puzzle, 'DF/LIFO', 35000, loop_check=True, randomise=True, return_info=True)"
   ]
  },
  {
   "cell_type": "markdown",
   "metadata": {},
   "source": [
    "This is the same as the depth first test but randomise is true"
   ]
  },
  {
   "cell_type": "code",
   "execution_count": 7,
   "metadata": {},
   "outputs": [
    {
     "name": "stdout",
     "output_type": "stream",
     "text": [
      "Solve the following sliding blocks problem.\n",
      "Get from this initial state:\n"
     ]
    },
    {
     "data": {
      "image/png": "[encoded data removed]",
      "text/plain": [
       "<Figure size 210x210 with 1 Axes>"
      ]
     },
     "metadata": {},
     "output_type": "display_data"
    },
    {
     "name": "stdout",
     "output_type": "stream",
     "text": [
      "To a state incorporating the following block position(s):\n"
     ]
    },
    {
     "data": {
      "image/png": "[encoded data removed]",
      "text/plain": [
       "<Figure size 210x210 with 1 Axes>"
      ]
     },
     "metadata": {},
     "output_type": "display_data"
    },
    {
     "name": "stdout",
     "output_type": "stream",
     "text": [
      "You need to slide the red block to cover the bottom right square.\n",
      "\n",
      "** Running Brandon's Search Algorithm **\n",
      "Strategy: mode=DF/LIFO, cost=None, heuristic=None\n",
      "Max search nodes: 30000  (max number added to queue)\n",
      "Searching (will output '.' each 1000 goal_tests)\n",
      "\n",
      ":-)) *SUCCESS* ((-:\n",
      "\n",
      "Path length = 83\n",
      "Goal state is:\n"
     ]
    },
    {
     "data": {
      "image/png": "[encoded data removed]",
      "text/plain": [
       "<Figure size 210x210 with 1 Axes>"
      ]
     },
     "metadata": {},
     "output_type": "display_data"
    },
    {
     "name": "stdout",
     "output_type": "stream",
     "text": [
      "The action path to the solution is:\n",
      "('red', 'right')\n",
      "('green', 'right')\n",
      "('red', 'down')\n",
      "('blue', 'left')\n",
      "('blue', 'left')\n",
      "('blue', 'left')\n",
      "('red', 'left')\n",
      "('green', 'left')\n",
      "('blue', 'right')\n",
      "('red', 'up')\n",
      "('yellow', 'left')\n",
      "('yellow', 'up')\n",
      "('yellow', 'up')\n",
      "('yellow', 'right')\n",
      "('green', 'up')\n",
      "('yellow', 'down')\n",
      "('green', 'right')\n",
      "('blue', 'right')\n",
      "('green', 'down')\n",
      "('yellow', 'down')\n",
      "('blue', 'down')\n",
      "('blue', 'right')\n",
      "('red', 'down')\n",
      "('green', 'left')\n",
      "('red', 'right')\n",
      "('blue', 'left')\n",
      "('yellow', 'up')\n",
      "('green', 'right')\n",
      "('green', 'right')\n",
      "('blue', 'up')\n",
      "('blue', 'left')\n",
      "('blue', 'left')\n",
      "('red', 'left')\n",
      "('yellow', 'up')\n",
      "('green', 'left')\n",
      "('blue', 'right')\n",
      "('blue', 'right')\n",
      "('red', 'right')\n",
      "('red', 'up')\n",
      "('green', 'right')\n",
      "('green', 'up')\n",
      "('red', 'left')\n",
      "('red', 'down')\n",
      "('red', 'down')\n",
      "('green', 'down')\n",
      "('blue', 'down')\n",
      "('blue', 'left')\n",
      "('green', 'up')\n",
      "('yellow', 'left')\n",
      "('blue', 'up')\n",
      "('red', 'up')\n",
      "('red', 'up')\n",
      "('green', 'down')\n",
      "('yellow', 'down')\n",
      "('red', 'down')\n",
      "('blue', 'right')\n",
      "('blue', 'right')\n",
      "('blue', 'down')\n",
      "('red', 'up')\n",
      "('blue', 'down')\n",
      "('green', 'left')\n",
      "('yellow', 'up')\n",
      "('yellow', 'right')\n",
      "('green', 'right')\n",
      "('red', 'down')\n",
      "('yellow', 'left')\n",
      "('yellow', 'left')\n",
      "('red', 'down')\n",
      "('yellow', 'down')\n",
      "('blue', 'left')\n",
      "('blue', 'up')\n",
      "('green', 'up')\n",
      "('blue', 'right')\n",
      "('yellow', 'up')\n",
      "('yellow', 'left')\n",
      "('red', 'right')\n",
      "('yellow', 'down')\n",
      "('yellow', 'down')\n",
      "('blue', 'left')\n",
      "('blue', 'up')\n",
      "('green', 'up')\n",
      "('blue', 'right')\n",
      "('red', 'right')\n",
      "\n",
      "\n",
      "SEARCH SPACE STATS:\n",
      "Total nodes generated          =      506  (includes start)\n",
      "Nodes discarded by loop_check  =      189  (317 distinct states added to queue)\n",
      "Nodes tested (by goal_test)    =       85  (84 expanded + 1 goal)\n",
      "Nodes left in queue            =      232\n",
      "\n",
      "Time taken = 0.04 seconds\n",
      "\n",
      "Solve the following sliding blocks problem.\n",
      "Get from this initial state:\n"
     ]
    },
    {
     "data": {
      "image/png": "[encoded data removed]",
      "text/plain": [
       "<Figure size 360x310 with 1 Axes>"
      ]
     },
     "metadata": {},
     "output_type": "display_data"
    },
    {
     "name": "stdout",
     "output_type": "stream",
     "text": [
      "To a state incorporating the following block position(s):\n"
     ]
    },
    {
     "data": {
      "image/png": "[encoded data removed]",
      "text/plain": [
       "<Figure size 360x310 with 1 Axes>"
      ]
     },
     "metadata": {},
     "output_type": "display_data"
    },
    {
     "name": "stdout",
     "output_type": "stream",
     "text": [
      "You need to slide the red block to cover the bottom right square.\n",
      "\n",
      "** Running Brandon's Search Algorithm **\n",
      "Strategy: mode=DF/LIFO, cost=None, heuristic=None\n",
      "Max search nodes: 30000  (max number added to queue)\n",
      "Searching (will output '.' each 1000 goal_tests)\n",
      "\n",
      ":-)) *SUCCESS* ((-:\n",
      "\n",
      "Path length = 228\n",
      "Goal state is:\n"
     ]
    },
    {
     "data": {
      "image/png": "[encoded data removed]",
      "text/plain": [
       "<Figure size 360x310 with 1 Axes>"
      ]
     },
     "metadata": {},
     "output_type": "display_data"
    },
    {
     "name": "stdout",
     "output_type": "stream",
     "text": [
      "The action path to the solution is:\n",
      "('yellow', 'up')\n",
      "('red', 'down')\n",
      "('green', 'right')\n",
      "('green', 'up')\n",
      "('blue', 'down')\n",
      "('yellow', 'left')\n",
      "('blue', 'down')\n",
      "('blue', 'down')\n",
      "('red', 'down')\n",
      "('green', 'right')\n",
      "('yellow', 'left')\n",
      "('red', 'down')\n",
      "('green', 'down')\n",
      "('blue', 'left')\n",
      "('green', 'left')\n",
      "('green', 'left')\n",
      "('blue', 'right')\n",
      "('blue', 'down')\n",
      "('blue', 'down')\n",
      "('yellow', 'up')\n",
      "('red', 'right')\n",
      "('yellow', 'up')\n",
      "('yellow', 'up')\n",
      "('yellow', 'left')\n",
      "('yellow', 'left')\n",
      "('blue', 'left')\n",
      "('yellow', 'down')\n",
      "('yellow', 'right')\n",
      "('red', 'right')\n",
      "('blue', 'right')\n",
      "('blue', 'up')\n",
      "('blue', 'up')\n",
      "('yellow', 'left')\n",
      "('blue', 'left')\n",
      "('yellow', 'left')\n",
      "('blue', 'left')\n",
      "('yellow', 'down')\n",
      "('blue', 'up')\n",
      "('blue', 'right')\n",
      "('green', 'right')\n",
      "('yellow', 'left')\n",
      "('blue', 'down')\n",
      "('blue', 'right')\n",
      "('green', 'right')\n",
      "('red', 'up')\n",
      "('blue', 'down')\n",
      "('yellow', 'up')\n",
      "('green', 'up')\n",
      "('blue', 'left')\n",
      "('blue', 'down')\n",
      "('red', 'right')\n",
      "('yellow', 'down')\n",
      "('green', 'down')\n",
      "('yellow', 'down')\n",
      "('blue', 'right')\n",
      "('red', 'down')\n",
      "('yellow', 'right')\n",
      "('red', 'right')\n",
      "('green', 'up')\n",
      "('red', 'right')\n",
      "('yellow', 'up')\n",
      "('green', 'left')\n",
      "('green', 'left')\n",
      "('red', 'left')\n",
      "('yellow', 'up')\n",
      "('yellow', 'right')\n",
      "('red', 'down')\n",
      "('red', 'left')\n",
      "('green', 'down')\n",
      "('yellow', 'right')\n",
      "('blue', 'left')\n",
      "('blue', 'up')\n",
      "('red', 'up')\n",
      "('yellow', 'right')\n",
      "('blue', 'up')\n",
      "('green', 'right')\n",
      "('yellow', 'up')\n",
      "('yellow', 'left')\n",
      "('blue', 'right')\n",
      "('yellow', 'left')\n",
      "('red', 'left')\n",
      "('blue', 'down')\n",
      "('blue', 'down')\n",
      "('yellow', 'down')\n",
      "('red', 'left')\n",
      "('red', 'up')\n",
      "('red', 'left')\n",
      "('green', 'right')\n",
      "('yellow', 'right')\n",
      "('red', 'up')\n",
      "('yellow', 'up')\n",
      "('blue', 'left')\n",
      "('red', 'up')\n",
      "('blue', 'up')\n",
      "('yellow', 'left')\n",
      "('green', 'right')\n",
      "('blue', 'down')\n",
      "('yellow', 'down')\n",
      "('yellow', 'down')\n",
      "('green', 'left')\n",
      "('yellow', 'down')\n",
      "('yellow', 'right')\n",
      "('blue', 'right')\n",
      "('yellow', 'right')\n",
      "('green', 'left')\n",
      "('yellow', 'right')\n",
      "('green', 'left')\n",
      "('blue', 'up')\n",
      "('yellow', 'left')\n",
      "('yellow', 'up')\n",
      "('green', 'right')\n",
      "('blue', 'up')\n",
      "('yellow', 'left')\n",
      "('green', 'up')\n",
      "('yellow', 'left')\n",
      "('green', 'right')\n",
      "('yellow', 'up')\n",
      "('green', 'up')\n",
      "('blue', 'down')\n",
      "('blue', 'left')\n",
      "('blue', 'left')\n",
      "('blue', 'up')\n",
      "('green', 'left')\n",
      "('blue', 'up')\n",
      "('green', 'down')\n",
      "('yellow', 'down')\n",
      "('red', 'right')\n",
      "('blue', 'down')\n",
      "('yellow', 'right')\n",
      "('green', 'right')\n",
      "('blue', 'up')\n",
      "('blue', 'right')\n",
      "('green', 'down')\n",
      "('green', 'left')\n",
      "('yellow', 'left')\n",
      "('yellow', 'left')\n",
      "('red', 'left')\n",
      "('green', 'up')\n",
      "('green', 'right')\n",
      "('blue', 'up')\n",
      "('yellow', 'down')\n",
      "('green', 'up')\n",
      "('red', 'down')\n",
      "('yellow', 'left')\n",
      "('blue', 'right')\n",
      "('blue', 'up')\n",
      "('red', 'up')\n",
      "('yellow', 'up')\n",
      "('red', 'right')\n",
      "('green', 'up')\n",
      "('blue', 'down')\n",
      "('blue', 'left')\n",
      "('yellow', 'up')\n",
      "('blue', 'left')\n",
      "('blue', 'left')\n",
      "('blue', 'up')\n",
      "('green', 'down')\n",
      "('green', 'down')\n",
      "('red', 'down')\n",
      "('blue', 'left')\n",
      "('yellow', 'up')\n",
      "('green', 'down')\n",
      "('green', 'right')\n",
      "('green', 'right')\n",
      "('green', 'right')\n",
      "('blue', 'down')\n",
      "('blue', 'right')\n",
      "('blue', 'right')\n",
      "('green', 'up')\n",
      "('red', 'up')\n",
      "('green', 'up')\n",
      "('green', 'up')\n",
      "('blue', 'down')\n",
      "('red', 'right')\n",
      "('blue', 'left')\n",
      "('yellow', 'right')\n",
      "('red', 'right')\n",
      "('yellow', 'down')\n",
      "('blue', 'down')\n",
      "('green', 'up')\n",
      "('green', 'up')\n",
      "('yellow', 'up')\n",
      "('yellow', 'left')\n",
      "('green', 'down')\n",
      "('green', 'down')\n",
      "('blue', 'left')\n",
      "('red', 'down')\n",
      "('yellow', 'right')\n",
      "('blue', 'up')\n",
      "('blue', 'left')\n",
      "('red', 'left')\n",
      "('blue', 'down')\n",
      "('green', 'down')\n",
      "('red', 'up')\n",
      "('yellow', 'left')\n",
      "('red', 'right')\n",
      "('blue', 'left')\n",
      "('yellow', 'down')\n",
      "('red', 'down')\n",
      "('red', 'down')\n",
      "('yellow', 'up')\n",
      "('green', 'up')\n",
      "('red', 'left')\n",
      "('red', 'up')\n",
      "('blue', 'up')\n",
      "('red', 'right')\n",
      "('green', 'up')\n",
      "('red', 'down')\n",
      "('red', 'right')\n",
      "('blue', 'down')\n",
      "('red', 'up')\n",
      "('blue', 'right')\n",
      "('yellow', 'right')\n",
      "('blue', 'down')\n",
      "('yellow', 'right')\n",
      "('red', 'down')\n",
      "('red', 'down')\n",
      "('blue', 'up')\n",
      "('yellow', 'right')\n",
      "('red', 'down')\n",
      "('blue', 'right')\n",
      "('yellow', 'right')\n",
      "('blue', 'up')\n",
      "('green', 'up')\n",
      "('blue', 'left')\n",
      "('blue', 'up')\n",
      "('blue', 'up')\n",
      "('red', 'right')\n",
      "\n",
      "\n",
      "SEARCH SPACE STATS:\n",
      "Total nodes generated          =     2522  (includes start)\n",
      "Nodes discarded by loop_check  =      469  (2053 distinct states added to queue)\n",
      "Nodes tested (by goal_test)    =      229  (228 expanded + 1 goal)\n",
      "Nodes left in queue            =     1824\n",
      "\n",
      "Time taken = 0.2583 seconds\n",
      "\n"
     ]
    }
   ],
   "source": [
    "small_DFR = search( small_puzzle, 'DF/LIFO', 30000, loop_check=True, randomise=True, return_info=True)\n",
    "large_DFR = search( large_puzzle, 'DF/LIFO', 30000, loop_check=True, randomise=True, return_info=True)"
   ]
  },
  {
   "cell_type": "markdown",
   "metadata": {},
   "source": [
    "We have no introduced the cost aspect of the search. This cost function is from Search Exercise 6"
   ]
  },
  {
   "cell_type": "code",
   "execution_count": 8,
   "metadata": {},
   "outputs": [
    {
     "name": "stdout",
     "output_type": "stream",
     "text": [
      "Solve the following sliding blocks problem.\n",
      "Get from this initial state:\n"
     ]
    },
    {
     "data": {
      "image/png": "[encoded data removed]",
      "text/plain": [
       "<Figure size 210x210 with 1 Axes>"
      ]
     },
     "metadata": {},
     "output_type": "display_data"
    },
    {
     "name": "stdout",
     "output_type": "stream",
     "text": [
      "To a state incorporating the following block position(s):\n"
     ]
    },
    {
     "data": {
      "image/png": "[encoded data removed]",
      "text/plain": [
       "<Figure size 210x210 with 1 Axes>"
      ]
     },
     "metadata": {},
     "output_type": "display_data"
    },
    {
     "name": "stdout",
     "output_type": "stream",
     "text": [
      "You need to slide the red block to cover the bottom right square.\n",
      "\n",
      "** Running Brandon's Search Algorithm **\n",
      "Strategy: mode=BF/FIFO, cost=cost, heuristic=None\n",
      "Max search nodes: 30000  (max number added to queue)\n",
      "Searching (will output '.' each 1000 goal_tests)\n",
      "\n",
      ":-)) *SUCCESS* ((-:\n",
      "\n",
      "Path length = 7\n",
      "Goal state is:\n"
     ]
    },
    {
     "data": {
      "image/png": "[encoded data removed]",
      "text/plain": [
       "<Figure size 210x210 with 1 Axes>"
      ]
     },
     "metadata": {},
     "output_type": "display_data"
    },
    {
     "name": "stdout",
     "output_type": "stream",
     "text": [
      "Cost of reaching goal: 7\n",
      "The action path to the solution is:\n",
      "('red', 'right')\n",
      "('red', 'down')\n",
      "('blue', 'left')\n",
      "('yellow', 'up')\n",
      "('yellow', 'up')\n",
      "('red', 'right')\n",
      "('red', 'down')\n",
      "\n",
      "\n",
      "SEARCH SPACE STATS:\n",
      "Total nodes generated          =     2134  (includes start)\n",
      "Nodes discarded by loop_check  =     1641  (493 distinct states added to queue)\n",
      "Nodes tested (by goal_test)    =      356  (355 expanded + 1 goal)\n",
      "Nodes left in queue            =      137\n",
      "\n",
      "Time taken = 0.0834 seconds\n",
      "\n",
      "Solve the following sliding blocks problem.\n",
      "Get from this initial state:\n"
     ]
    },
    {
     "data": {
      "image/png": "[encoded data removed]",
      "text/plain": [
       "<Figure size 360x310 with 1 Axes>"
      ]
     },
     "metadata": {},
     "output_type": "display_data"
    },
    {
     "name": "stdout",
     "output_type": "stream",
     "text": [
      "To a state incorporating the following block position(s):\n"
     ]
    },
    {
     "data": {
      "image/png": "[encoded data removed]",
      "text/plain": [
       "<Figure size 360x310 with 1 Axes>"
      ]
     },
     "metadata": {},
     "output_type": "display_data"
    },
    {
     "name": "stdout",
     "output_type": "stream",
     "text": [
      "You need to slide the red block to cover the bottom right square.\n",
      "\n",
      "** Running Brandon's Search Algorithm **\n",
      "Strategy: mode=BF/FIFO, cost=cost, heuristic=None\n",
      "Max search nodes: 30000  (max number added to queue)\n",
      "Searching (will output '.' each 1000 goal_tests)\n",
      "................\n",
      ":-)) *SUCCESS* ((-:\n",
      "\n",
      "Path length = 10\n",
      "Goal state is:\n"
     ]
    },
    {
     "data": {
      "image/png": "[encoded data removed]",
      "text/plain": [
       "<Figure size 360x310 with 1 Axes>"
      ]
     },
     "metadata": {},
     "output_type": "display_data"
    },
    {
     "name": "stdout",
     "output_type": "stream",
     "text": [
      "Cost of reaching goal: 10\n",
      "The action path to the solution is:\n",
      "('red', 'right')\n",
      "('red', 'right')\n",
      "('red', 'right')\n",
      "('red', 'right')\n",
      "('red', 'down')\n",
      "('red', 'down')\n",
      "('red', 'down')\n",
      "('red', 'down')\n",
      "('yellow', 'up')\n",
      "('red', 'right')\n",
      "\n",
      "\n",
      "SEARCH SPACE STATS:\n",
      "Total nodes generated          =   185417  (includes start)\n",
      "Nodes discarded by loop_check  =   158676  (26741 distinct states added to queue)\n",
      "Nodes tested (by goal_test)    =    16547  (16546 expanded + 1 goal)\n",
      "Nodes left in queue            =    10194\n",
      "\n",
      "Time taken = 6.5357 seconds\n",
      "\n"
     ]
    }
   ],
   "source": [
    "def cost(path, state):\n",
    "        return len(path)\n",
    "\n",
    "small_cost = search(small_puzzle, 'BF/FIFO', 30000, cost=cost, loop_check=True, return_info=True)\n",
    "large_cost = search(large_puzzle, 'BF/FIFO', 30000, cost=cost, loop_check=True, return_info=True)"
   ]
  },
  {
   "cell_type": "markdown",
   "metadata": {},
   "source": [
    "This A* algorithm uses the cost function from before and now uses heuristics. This heuristic is from Search Exercise 7"
   ]
  },
  {
   "cell_type": "code",
   "execution_count": 9,
   "metadata": {},
   "outputs": [
    {
     "name": "stdout",
     "output_type": "stream",
     "text": [
      "Solve the following sliding blocks problem.\n",
      "Get from this initial state:\n"
     ]
    },
    {
     "data": {
      "image/png": "[encoded data removed]",
      "text/plain": [
       "<Figure size 210x210 with 1 Axes>"
      ]
     },
     "metadata": {},
     "output_type": "display_data"
    },
    {
     "name": "stdout",
     "output_type": "stream",
     "text": [
      "To a state incorporating the following block position(s):\n"
     ]
    },
    {
     "data": {
      "image/png": "[encoded data removed]",
      "text/plain": [
       "<Figure size 210x210 with 1 Axes>"
      ]
     },
     "metadata": {},
     "output_type": "display_data"
    },
    {
     "name": "stdout",
     "output_type": "stream",
     "text": [
      "You need to slide the red block to cover the bottom right square.\n",
      "\n",
      "** Running Brandon's Search Algorithm **\n",
      "Strategy: mode=DF/LIFO, cost=cost, heuristic=red_right_heuristic\n",
      "Max search nodes: 30000  (max number added to queue)\n",
      "Searching (will output '.' each 1000 goal_tests)\n"
     ]
    },
    {
     "name": "stdout",
     "output_type": "stream",
     "text": [
      "\n",
      ":-)) *SUCCESS* ((-:\n",
      "\n",
      "Path length = 7\n",
      "Goal state is:\n"
     ]
    },
    {
     "data": {
      "image/png": "[encoded data removed]",
      "text/plain": [
       "<Figure size 210x210 with 1 Axes>"
      ]
     },
     "metadata": {},
     "output_type": "display_data"
    },
    {
     "name": "stdout",
     "output_type": "stream",
     "text": [
      "Cost of reaching goal: 7\n",
      "The action path to the solution is:\n",
      "('red', 'right')\n",
      "('blue', 'left')\n",
      "('yellow', 'up')\n",
      "('yellow', 'up')\n",
      "('red', 'down')\n",
      "('red', 'right')\n",
      "('red', 'down')\n",
      "\n",
      "\n",
      "SEARCH SPACE STATS:\n",
      "Total nodes generated          =     1154  (includes start)\n",
      "Nodes discarded by loop_check  =      854  (300 distinct states added to queue)\n",
      "Nodes tested (by goal_test)    =      194  (193 expanded + 1 goal)\n",
      "Nodes left in queue            =      106\n",
      "\n",
      "Time taken = 0.0579 seconds\n",
      "\n",
      "Solve the following sliding blocks problem.\n",
      "Get from this initial state:\n"
     ]
    },
    {
     "data": {
      "image/png": "[encoded data removed]",
      "text/plain": [
       "<Figure size 360x310 with 1 Axes>"
      ]
     },
     "metadata": {},
     "output_type": "display_data"
    },
    {
     "name": "stdout",
     "output_type": "stream",
     "text": [
      "To a state incorporating the following block position(s):\n"
     ]
    },
    {
     "data": {
      "image/png": "[encoded data removed]",
      "text/plain": [
       "<Figure size 360x310 with 1 Axes>"
      ]
     },
     "metadata": {},
     "output_type": "display_data"
    },
    {
     "name": "stdout",
     "output_type": "stream",
     "text": [
      "You need to slide the red block to cover the bottom right square.\n",
      "\n",
      "** Running Brandon's Search Algorithm **\n",
      "Strategy: mode=DF/LIFO, cost=cost, heuristic=red_right_heuristic\n",
      "Max search nodes: 30000  (max number added to queue)\n",
      "Searching (will output '.' each 1000 goal_tests)\n",
      ".\n",
      ":-)) *SUCCESS* ((-:\n",
      "\n",
      "Path length = 10\n",
      "Goal state is:\n"
     ]
    },
    {
     "data": {
      "image/png": "[encoded data removed]",
      "text/plain": [
       "<Figure size 360x310 with 1 Axes>"
      ]
     },
     "metadata": {},
     "output_type": "display_data"
    },
    {
     "name": "stdout",
     "output_type": "stream",
     "text": [
      "Cost of reaching goal: 10\n",
      "The action path to the solution is:\n",
      "('red', 'right')\n",
      "('red', 'right')\n",
      "('red', 'right')\n",
      "('red', 'right')\n",
      "('red', 'down')\n",
      "('red', 'down')\n",
      "('red', 'down')\n",
      "('yellow', 'up')\n",
      "('red', 'down')\n",
      "('red', 'right')\n",
      "\n",
      "\n",
      "SEARCH SPACE STATS:\n",
      "Total nodes generated          =    20218  (includes start)\n",
      "Nodes discarded by loop_check  =    15927  (4291 distinct states added to queue)\n",
      "Nodes tested (by goal_test)    =     1928  (1927 expanded + 1 goal)\n",
      "Nodes left in queue            =     2363\n",
      "\n",
      "Time taken = 0.668 seconds\n",
      "\n"
     ]
    }
   ],
   "source": [
    "def red_right_heuristic(state):\n",
    "    for row in state.blockstate:\n",
    "      for i, col in enumerate(row):\n",
    "          if col == 1:\n",
    "            return 6-i\n",
    "\n",
    "small_A = search( small_puzzle, 'DF/LIFO', 30000, loop_check=True, randomise=True, return_info=True, cost=cost, heuristic=red_right_heuristic)\n",
    "large_A = search( large_puzzle, 'DF/LIFO', 30000, loop_check=True, randomise=True, return_info=True, cost=cost, heuristic=red_right_heuristic)\n"
   ]
  },
  {
   "cell_type": "markdown",
   "metadata": {},
   "source": [
    "This table shows a summary of every test that was just performed and it is from Search Exercise 7. From the results, all the large tests failed with the low node limit of 5000."
   ]
  },
  {
   "cell_type": "code",
   "execution_count": 10,
   "metadata": {},
   "outputs": [
    {
     "name": "stdout",
     "output_type": "stream",
     "text": [
      "\n",
      "                **TESTS SUMMARY**\n",
      "\n",
      "Test    #max   Result   #gen     #inQ    Time s\n",
      "  0:    30000    Y      2134      137     0.07 \n",
      "  1:    30000    Y    185417    10194     6.19 \n",
      "  2:    30000    Y       472      192     0.04 \n",
      "  3:    30000    !     43931    26018     3.85 \n",
      "  4:    35000    Y      7544     5517     1.69 \n",
      "  5:    30000    Y       506      232     0.04 \n",
      "  6:    30000    Y      2522     1824     0.26 \n",
      "  7:    30000    Y      1154      106     0.06 \n",
      "  8:    30000    Y     20218     2363     0.67 \n"
     ]
    }
   ],
   "source": [
    "TEST_RESULTS =[small_search, large_search, small_Df, large_DF, large_DF2, small_DFR, large_DFR,small_A, large_A]\n",
    "\n",
    "# Specify symbols for termination conditions:\n",
    "short_tc = {\"GOAL_STATE_FOUND\"     : \"Y\",\n",
    "            \"NODE_LIMIT_EXCEEDED\"  : \"!\",\n",
    "            \"SEARH-SPACE_EXHAUSTED\": \"x\"}\n",
    "\n",
    "print(\"\\n                **TESTS SUMMARY**\\n\")\n",
    "\n",
    "print(\"Test    #max   Result   #gen     #inQ    Time s\")\n",
    "for i, test in enumerate(TEST_RESULTS):\n",
    "    max  = test['args']['max_nodes']\n",
    "    tc  = test['result']['termination_condition']\n",
    "    stc = short_tc[tc]\n",
    "\n",
    "    ng  = test['search_stats']['nodes_generated']\n",
    "    nq  = test['search_stats']['nodes_left_in_queue']\n",
    "    time = round( test['search_stats']['time_taken'], 2 )\n",
    "    print( f\"{i:>3}: {max:>8}    {stc}  {ng:>8} {nq:>8}     {time} \")"
   ]
  },
  {
   "cell_type": "markdown",
   "metadata": {},
   "source": [
    "## Heuristics"
   ]
  },
  {
   "cell_type": "markdown",
   "metadata": {},
   "source": [
    "Continuing to look at the impact of heuristics on our search algorithms, we have chosen to look at the *Manhattan Distance Heuristic* which calculates the sum of horizontal and vertical distances of the block from goal state."
   ]
  },
  {
   "cell_type": "code",
   "execution_count": 11,
   "metadata": {},
   "outputs": [
    {
     "name": "stdout",
     "output_type": "stream",
     "text": [
      "Solve the following sliding blocks problem.\n",
      "Get from this initial state:\n"
     ]
    },
    {
     "data": {
      "image/png": "[encoded data removed]",
      "text/plain": [
       "<Figure size 210x210 with 1 Axes>"
      ]
     },
     "metadata": {},
     "output_type": "display_data"
    },
    {
     "name": "stdout",
     "output_type": "stream",
     "text": [
      "To a state incorporating the following block position(s):\n"
     ]
    },
    {
     "data": {
      "image/png": "[encoded data removed]",
      "text/plain": [
       "<Figure size 210x210 with 1 Axes>"
      ]
     },
     "metadata": {},
     "output_type": "display_data"
    },
    {
     "name": "stdout",
     "output_type": "stream",
     "text": [
      "You need to slide the red block to cover the bottom right square.\n",
      "\n",
      "** Running Brandon's Search Algorithm **\n",
      "Strategy: mode=DF/LIFO, cost=cost, heuristic=manhattan_heuristic\n",
      "Max search nodes: 30000  (max number added to queue)\n",
      "Searching (will output '.' each 1000 goal_tests)\n",
      "\n",
      ":-)) *SUCCESS* ((-:\n",
      "\n",
      "Path length = 7\n",
      "Goal state is:\n"
     ]
    },
    {
     "data": {
      "image/png": "[encoded data removed]",
      "text/plain": [
       "<Figure size 210x210 with 1 Axes>"
      ]
     },
     "metadata": {},
     "output_type": "display_data"
    },
    {
     "name": "stdout",
     "output_type": "stream",
     "text": [
      "Cost of reaching goal: 7\n",
      "The action path to the solution is:\n",
      "('red', 'right')\n",
      "('red', 'down')\n",
      "('yellow', 'up')\n",
      "('blue', 'left')\n",
      "('yellow', 'up')\n",
      "('red', 'right')\n",
      "('red', 'down')\n",
      "\n",
      "\n",
      "SEARCH SPACE STATS:\n",
      "Total nodes generated          =      145  (includes start)\n",
      "Nodes discarded by loop_check  =       65  (80 distinct states added to queue)\n",
      "Nodes tested (by goal_test)    =       27  (26 expanded + 1 goal)\n",
      "Nodes left in queue            =       53\n",
      "\n",
      "Time taken = 0.0398 seconds\n",
      "\n",
      "Solve the following sliding blocks problem.\n",
      "Get from this initial state:\n"
     ]
    },
    {
     "data": {
      "image/png": "[encoded data removed]",
      "text/plain": [
       "<Figure size 360x310 with 1 Axes>"
      ]
     },
     "metadata": {},
     "output_type": "display_data"
    },
    {
     "name": "stdout",
     "output_type": "stream",
     "text": [
      "To a state incorporating the following block position(s):\n"
     ]
    },
    {
     "data": {
      "image/png": "[encoded data removed]",
      "text/plain": [
       "<Figure size 360x310 with 1 Axes>"
      ]
     },
     "metadata": {},
     "output_type": "display_data"
    },
    {
     "name": "stdout",
     "output_type": "stream",
     "text": [
      "You need to slide the red block to cover the bottom right square.\n",
      "\n",
      "** Running Brandon's Search Algorithm **\n",
      "Strategy: mode=DF/LIFO, cost=cost, heuristic=manhattan_heuristic\n",
      "Max search nodes: 30000  (max number added to queue)\n",
      "Searching (will output '.' each 1000 goal_tests)\n",
      "\n",
      ":-)) *SUCCESS* ((-:\n",
      "\n",
      "Path length = 10\n",
      "Goal state is:\n"
     ]
    },
    {
     "data": {
      "image/png": "[encoded data removed]",
      "text/plain": [
       "<Figure size 360x310 with 1 Axes>"
      ]
     },
     "metadata": {},
     "output_type": "display_data"
    },
    {
     "name": "stdout",
     "output_type": "stream",
     "text": [
      "Cost of reaching goal: 10\n",
      "The action path to the solution is:\n",
      "('red', 'down')\n",
      "('red', 'down')\n",
      "('red', 'right')\n",
      "('red', 'down')\n",
      "('red', 'right')\n",
      "('red', 'down')\n",
      "('red', 'right')\n",
      "('red', 'right')\n",
      "('yellow', 'up')\n",
      "('red', 'right')\n",
      "\n",
      "\n",
      "SEARCH SPACE STATS:\n",
      "Total nodes generated          =       96  (includes start)\n",
      "Nodes discarded by loop_check  =       17  (79 distinct states added to queue)\n",
      "Nodes tested (by goal_test)    =       12  (11 expanded + 1 goal)\n",
      "Nodes left in queue            =       67\n",
      "\n",
      "Time taken = 0.0548 seconds\n",
      "\n"
     ]
    }
   ],
   "source": [
    "def manhattan_heuristic(state):\n",
    "    goal_r, goal_c = len(state.blockstate) - 1, len(state.blockstate[0]) - 1  # Bottom-right corner\n",
    "    \n",
    "    total = 0\n",
    "    for row in range(state.nrows):\n",
    "        for col in range(state.ncols):\n",
    "            if state.blockstate[row][col] == 1:  # Find red block tiles\n",
    "                total += abs(goal_r - row) + abs(goal_c - col)\n",
    "    \n",
    "    return total\n",
    "\n",
    "small_manhattan = search( small_puzzle, 'DF/LIFO', 30000, loop_check=True, randomise=True, return_info=True, cost=cost, heuristic=manhattan_heuristic)\n",
    "large_manhattan = search( large_puzzle, 'DF/LIFO', 30000, loop_check=True, randomise=True, return_info=True, cost=cost, heuristic=manhattan_heuristic)"
   ]
  },
  {
   "cell_type": "markdown",
   "metadata": {},
   "source": [
    "Another test wanted to create a heuristic for is the calculation of free space around the goal position.\n"
   ]
  },
  {
   "cell_type": "code",
   "execution_count": 12,
   "metadata": {},
   "outputs": [
    {
     "name": "stdout",
     "output_type": "stream",
     "text": [
      "Solve the following sliding blocks problem.\n",
      "Get from this initial state:\n"
     ]
    },
    {
     "data": {
      "image/png": "[encoded data removed]",
      "text/plain": [
       "<Figure size 210x210 with 1 Axes>"
      ]
     },
     "metadata": {},
     "output_type": "display_data"
    },
    {
     "name": "stdout",
     "output_type": "stream",
     "text": [
      "To a state incorporating the following block position(s):\n"
     ]
    },
    {
     "data": {
      "image/png": "[encoded data removed]",
      "text/plain": [
       "<Figure size 210x210 with 1 Axes>"
      ]
     },
     "metadata": {},
     "output_type": "display_data"
    },
    {
     "name": "stdout",
     "output_type": "stream",
     "text": [
      "You need to slide the red block to cover the bottom right square.\n",
      "\n",
      "** Running Brandon's Search Algorithm **\n",
      "Strategy: mode=DF/LIFO, cost=cost, heuristic=free_space_heuristic\n",
      "Max search nodes: 30000  (max number added to queue)\n",
      "Searching (will output '.' each 1000 goal_tests)\n",
      "\n",
      ":-)) *SUCCESS* ((-:\n",
      "\n",
      "Path length = 7\n",
      "Goal state is:\n"
     ]
    },
    {
     "data": {
      "image/png": "[encoded data removed]",
      "text/plain": [
       "<Figure size 210x210 with 1 Axes>"
      ]
     },
     "metadata": {},
     "output_type": "display_data"
    },
    {
     "name": "stdout",
     "output_type": "stream",
     "text": [
      "Cost of reaching goal: 7\n",
      "The action path to the solution is:\n",
      "('yellow', 'up')\n",
      "('blue', 'left')\n",
      "('yellow', 'up')\n",
      "('red', 'right')\n",
      "('red', 'down')\n",
      "('red', 'right')\n",
      "('red', 'down')\n",
      "\n",
      "\n",
      "SEARCH SPACE STATS:\n",
      "Total nodes generated          =     1002  (includes start)\n",
      "Nodes discarded by loop_check  =      705  (297 distinct states added to queue)\n",
      "Nodes tested (by goal_test)    =      168  (167 expanded + 1 goal)\n",
      "Nodes left in queue            =      129\n",
      "\n",
      "Time taken = 0.0503 seconds\n",
      "\n",
      "Solve the following sliding blocks problem.\n",
      "Get from this initial state:\n"
     ]
    },
    {
     "data": {
      "image/png": "[encoded data removed]",
      "text/plain": [
       "<Figure size 360x310 with 1 Axes>"
      ]
     },
     "metadata": {},
     "output_type": "display_data"
    },
    {
     "name": "stdout",
     "output_type": "stream",
     "text": [
      "To a state incorporating the following block position(s):\n"
     ]
    },
    {
     "data": {
      "image/png": "[encoded data removed]",
      "text/plain": [
       "<Figure size 360x310 with 1 Axes>"
      ]
     },
     "metadata": {},
     "output_type": "display_data"
    },
    {
     "name": "stdout",
     "output_type": "stream",
     "text": [
      "You need to slide the red block to cover the bottom right square.\n",
      "\n",
      "** Running Brandon's Search Algorithm **\n",
      "Strategy: mode=DF/LIFO, cost=cost, heuristic=free_space_heuristic\n",
      "Max search nodes: 30000  (max number added to queue)\n",
      "Searching (will output '.' each 1000 goal_tests)\n",
      ".\n",
      ":-)) *SUCCESS* ((-:\n",
      "\n",
      "Path length = 11\n",
      "Goal state is:\n"
     ]
    },
    {
     "data": {
      "image/png": "[encoded data removed]",
      "text/plain": [
       "<Figure size 360x310 with 1 Axes>"
      ]
     },
     "metadata": {},
     "output_type": "display_data"
    },
    {
     "name": "stdout",
     "output_type": "stream",
     "text": [
      "Cost of reaching goal: 11\n",
      "The action path to the solution is:\n",
      "('red', 'right')\n",
      "('yellow', 'left')\n",
      "('yellow', 'left')\n",
      "('red', 'down')\n",
      "('red', 'right')\n",
      "('red', 'right')\n",
      "('red', 'right')\n",
      "('red', 'down')\n",
      "('red', 'right')\n",
      "('red', 'down')\n",
      "('red', 'down')\n",
      "\n",
      "\n",
      "SEARCH SPACE STATS:\n",
      "Total nodes generated          =    17571  (includes start)\n",
      "Nodes discarded by loop_check  =    12836  (4735 distinct states added to queue)\n",
      "Nodes tested (by goal_test)    =     1676  (1675 expanded + 1 goal)\n",
      "Nodes left in queue            =     3059\n",
      "\n",
      "Time taken = 0.7602 seconds\n",
      "\n"
     ]
    }
   ],
   "source": [
    "def free_space_heuristic(state):\n",
    "    # Goal position: bottom-right corner of the grid\n",
    "    goal_r, goal_c = len(state.blockstate) - 1, len(state.blockstate[0]) - 1\n",
    "    \n",
    "    # Find the current position of the red block\n",
    "    red_block_pos = None\n",
    "    for r in range(len(state.blockstate)):\n",
    "        for c in range(len(state.blockstate[r])):\n",
    "            if state.blockstate[r][c] == 1:  # red block position\n",
    "                red_block_pos = (r, c)\n",
    "                break\n",
    "        if red_block_pos:\n",
    "            break\n",
    "    \n",
    "    # Calculate the Manhattan distance from the red block to the goal\n",
    "    red_r, red_c = red_block_pos\n",
    "    manhattan_distance = abs(red_r - goal_r) + abs(red_c - goal_c)\n",
    "    \n",
    "    # Count empty spaces around the goal (bottom-right corner)\n",
    "    empty_spaces = 0\n",
    "    for dr in [-1, 0, 1]:  # Check above, same row, and below\n",
    "        for dc in [-1, 0, 1]:  # Check left, same column, and right\n",
    "            r, c = goal_r + dr, goal_c + dc\n",
    "            if 0 <= r < len(state.blockstate) and 0 <= c < len(state.blockstate[0]):\n",
    "                if state.blockstate[r][c] == 0:  # Empty space\n",
    "                    empty_spaces += 1\n",
    "    \n",
    "    # Return the heuristic value: combine Manhattan distance and free space\n",
    "    return manhattan_distance - empty_spaces\n",
    "\n",
    "small_free_space = search( small_puzzle, 'DF/LIFO', 30000, loop_check=True, randomise=True, return_info=True, cost=cost, heuristic=free_space_heuristic)\n",
    "large_free_space = search( large_puzzle, 'DF/LIFO', 30000, loop_check=True, randomise=True, return_info=True, cost=cost, heuristic=free_space_heuristic)"
   ]
  },
  {
   "cell_type": "markdown",
   "metadata": {},
   "source": [
    "In a similar fashion to the previously used *red_right_heuristic*, we wanted to test whether prioritising movement of the red block downwards would impact efficiency."
   ]
  },
  {
   "cell_type": "code",
   "execution_count": 13,
   "metadata": {},
   "outputs": [
    {
     "name": "stdout",
     "output_type": "stream",
     "text": [
      "Solve the following sliding blocks problem.\n",
      "Get from this initial state:\n"
     ]
    },
    {
     "data": {
      "image/png": "[encoded data removed]",
      "text/plain": [
       "<Figure size 210x210 with 1 Axes>"
      ]
     },
     "metadata": {},
     "output_type": "display_data"
    },
    {
     "name": "stdout",
     "output_type": "stream",
     "text": [
      "To a state incorporating the following block position(s):\n"
     ]
    },
    {
     "data": {
      "image/png": "[encoded data removed]",
      "text/plain": [
       "<Figure size 210x210 with 1 Axes>"
      ]
     },
     "metadata": {},
     "output_type": "display_data"
    },
    {
     "name": "stdout",
     "output_type": "stream",
     "text": [
      "You need to slide the red block to cover the bottom right square.\n",
      "\n",
      "** Running Brandon's Search Algorithm **\n",
      "Strategy: mode=DF/LIFO, cost=cost, heuristic=red_down_heuristic\n",
      "Max search nodes: 30000  (max number added to queue)\n",
      "Searching (will output '.' each 1000 goal_tests)\n",
      "\n",
      ":-)) *SUCCESS* ((-:\n",
      "\n",
      "Path length = 7\n",
      "Goal state is:\n"
     ]
    },
    {
     "data": {
      "image/png": "[encoded data removed]",
      "text/plain": [
       "<Figure size 210x210 with 1 Axes>"
      ]
     },
     "metadata": {},
     "output_type": "display_data"
    },
    {
     "name": "stdout",
     "output_type": "stream",
     "text": [
      "Cost of reaching goal: 7\n",
      "The action path to the solution is:\n",
      "('red', 'down')\n",
      "('yellow', 'up')\n",
      "('blue', 'left')\n",
      "('yellow', 'up')\n",
      "('red', 'right')\n",
      "('red', 'right')\n",
      "('red', 'down')\n",
      "\n",
      "\n",
      "SEARCH SPACE STATS:\n",
      "Total nodes generated          =     1229  (includes start)\n",
      "Nodes discarded by loop_check  =      921  (308 distinct states added to queue)\n",
      "Nodes tested (by goal_test)    =      201  (200 expanded + 1 goal)\n",
      "Nodes left in queue            =      107\n",
      "\n",
      "Time taken = 0.0604 seconds\n",
      "\n",
      "Solve the following sliding blocks problem.\n",
      "Get from this initial state:\n"
     ]
    },
    {
     "data": {
      "image/png": "[encoded data removed]",
      "text/plain": [
       "<Figure size 360x310 with 1 Axes>"
      ]
     },
     "metadata": {},
     "output_type": "display_data"
    },
    {
     "name": "stdout",
     "output_type": "stream",
     "text": [
      "To a state incorporating the following block position(s):\n"
     ]
    },
    {
     "data": {
      "image/png": "[encoded data removed]",
      "text/plain": [
       "<Figure size 360x310 with 1 Axes>"
      ]
     },
     "metadata": {},
     "output_type": "display_data"
    },
    {
     "name": "stdout",
     "output_type": "stream",
     "text": [
      "You need to slide the red block to cover the bottom right square.\n",
      "\n",
      "** Running Brandon's Search Algorithm **\n",
      "Strategy: mode=DF/LIFO, cost=cost, heuristic=red_down_heuristic\n",
      "Max search nodes: 30000  (max number added to queue)\n",
      "Searching (will output '.' each 1000 goal_tests)\n",
      ".....\n",
      ":-)) *SUCCESS* ((-:\n",
      "\n",
      "Path length = 10\n",
      "Goal state is:\n"
     ]
    },
    {
     "data": {
      "image/png": "[encoded data removed]",
      "text/plain": [
       "<Figure size 360x310 with 1 Axes>"
      ]
     },
     "metadata": {},
     "output_type": "display_data"
    },
    {
     "name": "stdout",
     "output_type": "stream",
     "text": [
      "Cost of reaching goal: 10\n",
      "The action path to the solution is:\n",
      "('red', 'down')\n",
      "('red', 'down')\n",
      "('red', 'down')\n",
      "('red', 'right')\n",
      "('red', 'right')\n",
      "('red', 'down')\n",
      "('red', 'right')\n",
      "('red', 'right')\n",
      "('yellow', 'up')\n",
      "('red', 'right')\n",
      "\n",
      "\n",
      "SEARCH SPACE STATS:\n",
      "Total nodes generated          =    59491  (includes start)\n",
      "Nodes discarded by loop_check  =    49130  (10361 distinct states added to queue)\n",
      "Nodes tested (by goal_test)    =     5393  (5392 expanded + 1 goal)\n",
      "Nodes left in queue            =     4968\n",
      "\n",
      "Time taken = 2.2892 seconds\n",
      "\n"
     ]
    }
   ],
   "source": [
    "def red_down_heuristic(state):\n",
    "    for i, row in enumerate(state.blockstate):\n",
    "        if 1 in row: # Red block found\n",
    "            return len(state.blockstate) - i  # Distance from bottom\n",
    "    return 0  # Default if not found\n",
    "\n",
    "small_red_down = search( small_puzzle, 'DF/LIFO', 30000, loop_check=True, randomise=True, return_info=True, cost=cost, heuristic=red_down_heuristic)\n",
    "large_red_down = search( large_puzzle, 'DF/LIFO', 30000, loop_check=True, randomise=True, return_info=True, cost=cost, heuristic=red_down_heuristic)"
   ]
  },
  {
   "cell_type": "markdown",
   "metadata": {},
   "source": [
    "This heuristic encourages the movement of the red block *diagonally* towards the goal state."
   ]
  },
  {
   "cell_type": "code",
   "execution_count": 14,
   "metadata": {},
   "outputs": [
    {
     "name": "stdout",
     "output_type": "stream",
     "text": [
      "Solve the following sliding blocks problem.\n",
      "Get from this initial state:\n"
     ]
    },
    {
     "data": {
      "image/png": "[encoded data removed]",
      "text/plain": [
       "<Figure size 210x210 with 1 Axes>"
      ]
     },
     "metadata": {},
     "output_type": "display_data"
    },
    {
     "name": "stdout",
     "output_type": "stream",
     "text": [
      "To a state incorporating the following block position(s):\n"
     ]
    },
    {
     "data": {
      "image/png": "[encoded data removed]",
      "text/plain": [
       "<Figure size 210x210 with 1 Axes>"
      ]
     },
     "metadata": {},
     "output_type": "display_data"
    },
    {
     "name": "stdout",
     "output_type": "stream",
     "text": [
      "You need to slide the red block to cover the bottom right square.\n",
      "\n",
      "** Running Brandon's Search Algorithm **\n",
      "Strategy: mode=DF/LIFO, cost=cost, heuristic=red_bottom_right_heuristic\n",
      "Max search nodes: 30000  (max number added to queue)\n",
      "Searching (will output '.' each 1000 goal_tests)\n",
      "\n",
      ":-)) *SUCCESS* ((-:\n",
      "\n",
      "Path length = 7\n",
      "Goal state is:\n"
     ]
    },
    {
     "data": {
      "image/png": "[encoded data removed]",
      "text/plain": [
       "<Figure size 210x210 with 1 Axes>"
      ]
     },
     "metadata": {},
     "output_type": "display_data"
    },
    {
     "name": "stdout",
     "output_type": "stream",
     "text": [
      "Cost of reaching goal: 7\n",
      "The action path to the solution is:\n",
      "('red', 'down')\n",
      "('red', 'right')\n",
      "('blue', 'left')\n",
      "('yellow', 'up')\n",
      "('yellow', 'up')\n",
      "('red', 'right')\n",
      "('red', 'down')\n",
      "\n",
      "\n",
      "SEARCH SPACE STATS:\n",
      "Total nodes generated          =      563  (includes start)\n",
      "Nodes discarded by loop_check  =      404  (159 distinct states added to queue)\n",
      "Nodes tested (by goal_test)    =       94  (93 expanded + 1 goal)\n",
      "Nodes left in queue            =       65\n",
      "\n",
      "Time taken = 0.0438 seconds\n",
      "\n",
      "Solve the following sliding blocks problem.\n",
      "Get from this initial state:\n"
     ]
    },
    {
     "data": {
      "image/png": "[encoded data removed]",
      "text/plain": [
       "<Figure size 360x310 with 1 Axes>"
      ]
     },
     "metadata": {},
     "output_type": "display_data"
    },
    {
     "name": "stdout",
     "output_type": "stream",
     "text": [
      "To a state incorporating the following block position(s):\n"
     ]
    },
    {
     "data": {
      "image/png": "[encoded data removed]",
      "text/plain": [
       "<Figure size 360x310 with 1 Axes>"
      ]
     },
     "metadata": {},
     "output_type": "display_data"
    },
    {
     "name": "stdout",
     "output_type": "stream",
     "text": [
      "You need to slide the red block to cover the bottom right square.\n",
      "\n",
      "** Running Brandon's Search Algorithm **\n",
      "Strategy: mode=DF/LIFO, cost=cost, heuristic=red_bottom_right_heuristic\n",
      "Max search nodes: 30000  (max number added to queue)\n",
      "Searching (will output '.' each 1000 goal_tests)\n",
      "\n",
      ":-)) *SUCCESS* ((-:\n",
      "\n",
      "Path length = 10\n",
      "Goal state is:\n"
     ]
    },
    {
     "data": {
      "image/png": "[encoded data removed]",
      "text/plain": [
       "<Figure size 360x310 with 1 Axes>"
      ]
     },
     "metadata": {},
     "output_type": "display_data"
    },
    {
     "name": "stdout",
     "output_type": "stream",
     "text": [
      "Cost of reaching goal: 10\n",
      "The action path to the solution is:\n",
      "('red', 'down')\n",
      "('red', 'down')\n",
      "('red', 'right')\n",
      "('red', 'right')\n",
      "('red', 'down')\n",
      "('red', 'right')\n",
      "('red', 'right')\n",
      "('red', 'down')\n",
      "('yellow', 'up')\n",
      "('red', 'right')\n",
      "\n",
      "\n",
      "SEARCH SPACE STATS:\n",
      "Total nodes generated          =     1021  (includes start)\n",
      "Nodes discarded by loop_check  =      562  (459 distinct states added to queue)\n",
      "Nodes tested (by goal_test)    =      110  (109 expanded + 1 goal)\n",
      "Nodes left in queue            =      349\n",
      "\n",
      "Time taken = 0.1782 seconds\n",
      "\n"
     ]
    }
   ],
   "source": [
    "def red_bottom_right_heuristic(state):\n",
    "    for r, row in enumerate(state.blockstate):\n",
    "        for c, col in enumerate(row):\n",
    "            if col == 1:  # Find red block\n",
    "                return (len(state.blockstate) - r) + (len(row) - c)  # Distance from bottom-right\n",
    "    return 0  # Default if not found\n",
    "\n",
    "small_red_bottom_right = search( small_puzzle, 'DF/LIFO', 30000, loop_check=True, randomise=True, return_info=True, cost=cost, heuristic=red_bottom_right_heuristic)\n",
    "large_red_bottom_right = search( large_puzzle, 'DF/LIFO', 30000, loop_check=True, randomise=True, return_info=True, cost=cost, heuristic=red_bottom_right_heuristic)"
   ]
  },
  {
   "cell_type": "markdown",
   "metadata": {},
   "source": [
    "Here is a summary of the results for any heuristic based tests."
   ]
  },
  {
   "cell_type": "code",
   "execution_count": 15,
   "metadata": {},
   "outputs": [
    {
     "name": "stdout",
     "output_type": "stream",
     "text": [
      "\n",
      "                **TESTS SUMMARY**\n",
      "\n",
      "Test    #max   Result   #gen     #inQ    Time s\n",
      "  0:    30000    Y      1154      106     0.06 \n",
      "  1:    30000    Y     20218     2363     0.67 \n",
      "  2:    30000    Y       145       53     0.04 \n",
      "  3:    30000    Y        96       67     0.05 \n",
      "  4:    30000    Y      1002      129     0.05 \n",
      "  5:    30000    Y     17571     3059     0.76 \n",
      "  6:    30000    Y      1229      107     0.06 \n",
      "  7:    30000    Y     59491     4968     2.29 \n",
      "  8:    30000    Y       563       65     0.04 \n",
      "  9:    30000    Y      1021      349     0.18 \n"
     ]
    }
   ],
   "source": [
    "TEST_RESULTS =[small_A, large_A, small_manhattan, large_manhattan, small_free_space, large_free_space, small_red_down, large_red_down ,small_red_bottom_right, large_red_bottom_right]\n",
    "\n",
    "# Specify symbols for termination conditions:\n",
    "short_tc = {\"GOAL_STATE_FOUND\"     : \"Y\",\n",
    "            \"NODE_LIMIT_EXCEEDED\"  : \"!\",\n",
    "            \"SEARH-SPACE_EXHAUSTED\": \"x\"}\n",
    "\n",
    "print(\"\\n                **TESTS SUMMARY**\\n\")\n",
    "\n",
    "print(\"Test    #max   Result   #gen     #inQ    Time s\")\n",
    "for i, test in enumerate(TEST_RESULTS):\n",
    "    max  = test['args']['max_nodes']\n",
    "    tc  = test['result']['termination_condition']\n",
    "    stc = short_tc[tc]\n",
    "\n",
    "    ng  = test['search_stats']['nodes_generated']\n",
    "    nq  = test['search_stats']['nodes_left_in_queue']\n",
    "    time = round( test['search_stats']['time_taken'], 2 )\n",
    "    print( f\"{i:>3}: {max:>8}    {stc}  {ng:>8} {nq:>8}     {time} \")"
   ]
  }
 ],
 "metadata": {
  "kernelspec": {
   "display_name": "Python 3",
   "language": "python",
   "name": "python3"
  },
  "language_info": {
   "codemirror_mode": {
    "name": "ipython",
    "version": 3
   },
   "file_extension": ".py",
   "mimetype": "text/x-python",
   "name": "python",
   "nbconvert_exporter": "python",
   "pygments_lexer": "ipython3",
   "version": "3.12.1"
  }
 },
 "nbformat": 4,
 "nbformat_minor": 2
}
