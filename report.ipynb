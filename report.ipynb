{
 "cells": [
  {
   "cell_type": "markdown",
   "metadata": {},
   "source": [
    "# COMP2611 Artificial Intelligence Coursework 1\n",
    "### Darshan Sajeev () and Samantha Ramirez (201725731)\n",
    "\n",
    "*Declaration A*\n",
    "\n",
    "## Part A"
   ]
  },
  {
   "cell_type": "markdown",
   "metadata": {},
   "source": [
    "### Implementation\n"
   ]
  },
  {
   "cell_type": "code",
   "execution_count": 1,
   "metadata": {},
   "outputs": [
    {
     "name": "stdout",
     "output_type": "stream",
     "text": [
      "Installing bbSearch module from web ...\n",
      "creating bbmodcache subfolder\n",
      "downloading bbSearch module\n",
      "  % Total    % Received % Xferd  Average Speed   Time    Time     Time  Current\n",
      "                                 Dload  Upload   Total   Spent    Left  Speed\n",
      "100 18767  100 18767    0     0  46224      0 --:--:-- --:--:-- --:--:-- 46110\n",
      "Loading bbSearch Version 2.1 (at 15:35, Thu 20 Feb)\n",
      "Last module source code edit 9am Thursday 24th Feb 2022\n"
     ]
    }
   ],
   "source": [
    "!echo Installing bbSearch module from web ...\n",
    "!echo creating bbmodcache subfolder\n",
    "!mkdir -p bbmodcache\n",
    "!echo downloading bbSearch module\n",
    "!curl http://bb-ai.net.s3.amazonaws.com/bb-python-modules/bbSearch.py > bbmodcache/bbSearch.py\n",
    "\n",
    "from bbmodcache.bbSearch import SearchProblem, search"
   ]
  },
  {
   "cell_type": "markdown",
   "metadata": {},
   "source": [
    "Code from Search exercise 7. Creates the grids with their respective blocks and their respective colours"
   ]
  },
  {
   "cell_type": "code",
   "execution_count": 2,
   "metadata": {},
   "outputs": [],
   "source": [
    "import matplotlib.pyplot as plt\n",
    "import matplotlib.patches as patches\n",
    "from copy import deepcopy\n",
    "\n",
    "plt.ioff()  ## Turn off immediate display of plots\n",
    "\n",
    "COLORS = [\"lightgray\", \"red\", \"blue\", \"green\", \"yellow\",\n",
    "          \"orange\", \"purple\", \"pink\", \"brown\"]\n",
    "\n",
    "class BlockState:\n",
    "\n",
    "      # Specify mapping from directions to grid coordinate offsets:\n",
    "      neighbour_offset = {\"left\": (0,-1), \"right\": (0,+1), \"down\":(+1,0), \"up\":(-1,0)}\n",
    "\n",
    "      def __init__( self, blockstate, colors=COLORS ):\n",
    "        self.blockstate = blockstate\n",
    "        self.nrows = len(blockstate)\n",
    "        self.ncols = len(blockstate[0])\n",
    "        self.blocknums = set().union(*[set(row) for row in blockstate])\n",
    "        self.blocknums = self.blocknums - {0}\n",
    "        self.blocknumlist = list(self.blocknums)\n",
    "        self.colors = colors\n",
    "\n",
    "      def __repr__(self):\n",
    "        return( str( self.blockstate ))\n",
    "\n",
    "      # Find the cells occupied by a given number\n",
    "      def blockcells( self, blocknum ):\n",
    "          blockcells = []\n",
    "          for row in range(self.nrows):\n",
    "            for col in range(self.ncols):\n",
    "              if self.blockstate[row][col] == blocknum:\n",
    "                blockcells.append((row,col))\n",
    "          return blockcells\n",
    "\n",
    "      # Test if a cell is free (unblocked) in a given direction\n",
    "      # Free if not blocked by edge of grid or by a cell of different colour\n",
    "      def free_cell( self, direction, cell ):\n",
    "        row, col = cell\n",
    "        offrow, offcol = BlockState.neighbour_offset[direction]\n",
    "        neighrow, neighcol = (row + offrow, col + offcol)\n",
    "        if not (0 <= neighrow < self.nrows): return False #at top or bottom\n",
    "        if not (0 <= neighcol < self.ncols): return False #at left or right\n",
    "        neighval = self.blockstate[neighrow][neighcol]\n",
    "        # Neighboring cell must be empty or part of the same coloured block\n",
    "        return  (neighval==0 or neighval==self.blockstate[row][col])\n",
    "\n",
    "      def free_block( self, direction, blockn ):\n",
    "          blockcells = self.blockcells(blockn)\n",
    "          for cell in blockcells:\n",
    "            if not self.free_cell(direction, cell):\n",
    "              return False\n",
    "          return True\n",
    "\n",
    "      def possible_moves(self):\n",
    "        moves = []\n",
    "        for blocknum in self.blocknumlist:\n",
    "          for direction in [\"left\", \"right\", \"down\", \"up\"]:\n",
    "              if self.free_block(direction, blocknum):\n",
    "                  moves.append((blocknum, direction))\n",
    "        return moves\n",
    "\n",
    "      def next_state(self, move):\n",
    "          next_blockstate = deepcopy(self.blockstate)\n",
    "          blockno, direction = move\n",
    "          cells = self.blockcells(blockno)\n",
    "          ## first clear all cells of the block (set to 0)\n",
    "          for cell in cells:\n",
    "            row, col = cell\n",
    "            next_blockstate[row][col] = 0\n",
    "          rowoff, coloff = BlockState.neighbour_offset[direction]\n",
    "          ## now set all neighbour cells (in move direction) to be\n",
    "          ## cells with the blocknumber\n",
    "          for cell in cells:\n",
    "            row, col = cell\n",
    "            next_blockstate[row+rowoff][col+coloff] = blockno\n",
    "          return BlockState(next_blockstate)\n",
    "\n",
    "      def color_key(self):\n",
    "          return {b:self.colors[b] for b in self.blocknumlist}\n",
    "\n",
    "      def figure(self, scale=0.5):\n",
    "          nrows = self.nrows\n",
    "          ncols = self.ncols\n",
    "          fig, ax = plt.subplots(figsize=(ncols*scale+0.1,nrows*scale+0.1))\n",
    "          plt.close(fig)\n",
    "          ax.set_axis_off() # Don't show border lines and coordinate values\n",
    "\n",
    "          frame = patches.Rectangle((0,0),1,1, linewidth=5, edgecolor='k', facecolor='w')\n",
    "          ax.add_patch(frame)\n",
    "\n",
    "          for row in range(nrows):\n",
    "            for col in range(ncols):\n",
    "                greyrect = patches.Rectangle( (((col*0.9)/ncols)+0.05,\n",
    "                                               (((nrows-row-1)*0.9)/nrows)+0.05 ),\n",
    "                                            0.9/ncols, 0.9/nrows,\n",
    "                                            linewidth=1, edgecolor=\"gray\", facecolor=\"lightgray\")\n",
    "                ax.add_patch(greyrect)\n",
    "\n",
    "          for row in range(nrows):\n",
    "            for col in range(ncols):\n",
    "                cellval = self.blockstate[row][col]\n",
    "                if cellval > 0:\n",
    "                  cellcol = COLORS[cellval]\n",
    "                  rect = patches.Rectangle( (((col*0.9)/ncols)+0.05,\n",
    "                                             (((nrows-row-1)*0.9)/nrows)+0.05 ),\n",
    "                                            0.9/ncols, 0.9/nrows,\n",
    "                                            linewidth=0, edgecolor=cellcol, facecolor=cellcol)\n",
    "                  ax.add_patch(rect)\n",
    "          return fig\n",
    "\n",
    "      def display(self):\n",
    "          display(self.figure())"
   ]
  },
  {
   "cell_type": "code",
   "execution_count": 3,
   "metadata": {},
   "outputs": [],
   "source": [
    "from copy import deepcopy\n",
    "class SlidingBlocksPuzzle( SearchProblem ):\n",
    "\n",
    "    def __init__( self, initial_state, goal, colors=COLORS ):\n",
    "        \"\"\"\n",
    "        The __init__ method must set the initial state for the search.\n",
    "        Arguments could be added to __init__ and used to configure the\n",
    "        initial state and/or other aspects of a problem instance.\n",
    "        \"\"\"\n",
    "        self.initial_state = BlockState(initial_state, colors=colors)\n",
    "        self.colors = colors\n",
    "        self.goal = BlockState(goal)\n",
    "\n",
    "    def info(self):\n",
    "        print(\"Solve the following sliding blocks problem.\")\n",
    "        print(\"Get from this initial state:\")\n",
    "        self.initial_state.display()\n",
    "        print(\"To a state incorporating the following block position(s):\")\n",
    "        self.goal.display()\n",
    "        print(\"You need to slide the red block to cover the bottom right square.\")\n",
    "\n",
    "    def possible_actions(self, state):\n",
    "        return state.possible_moves()\n",
    "\n",
    "    def successor(self, state, action):\n",
    "        \"\"\"\n",
    "        This takes a state and an action and returns the new state resulting\n",
    "        from doing that action in that state. You can assume that the given\n",
    "        action is in the list of 'possible_actions' for that state.\n",
    "        \"\"\"\n",
    "        return state.next_state(action)\n",
    "\n",
    "    def goal_test(self, state):\n",
    "        \"\"\"\n",
    "        For the sliding blocks puzzles, the goal condition is reached when\n",
    "        all block possitions specified in the given goal state are satisfied by\n",
    "        the current state. But empty positions (ie 0s) in the goal are ignored,\n",
    "        so can be occupied by blocks in the current sate.\n",
    "        \"\"\"\n",
    "        for row in range(state.nrows):\n",
    "          for col in range(state.ncols):\n",
    "            goalnum = self.goal.blockstate[row][col]\n",
    "            if goalnum==0:\n",
    "              continue\n",
    "            if goalnum != state.blockstate[row][col]:\n",
    "              return False\n",
    "        return True\n",
    "\n",
    "\n",
    "    def cost(self, path, state):\n",
    "        \"\"\"\n",
    "        This is an optional method that you only need to define if you are using\n",
    "        a cost based algorithm such as \"uniform cost\" or \"A*\". It should return\n",
    "        the cost of reaching a given state via a given path.\n",
    "        If this is not re-defined, it will is assumed that each action costs one unit\n",
    "        of effort to perform, so it returns the length of the path.\n",
    "        \"\"\"\n",
    "        return len(path)\n",
    "\n",
    "    def display_action(self, action):\n",
    "        \"\"\"\n",
    "        You can set the way an action will be displayed in outputs.\n",
    "        \"\"\"\n",
    "        print((self.colors[action[0]], action[1]))\n",
    "\n",
    "    def display_state(self, state):\n",
    "        \"\"\"\n",
    "        You can set the way a state will be displayed in outputs.\n",
    "        \"\"\"\n",
    "        state.display()\n",
    "\n",
    "    def display_state_path( self, actions ):\n",
    "        \"\"\"\n",
    "        This defines output of a solution path when a list of actions\n",
    "        is applied to the initial state. It assumes it is a valid path\n",
    "        with all actions being possible in the preceeding state.\n",
    "        You probably don't need to override this.\n",
    "        \"\"\"\n",
    "        s = self.initial_state\n",
    "        self.display_state(s)\n",
    "        for a in actions:\n",
    "            self.display_action(a)\n",
    "            s = self.successor(s,a)\n",
    "            self.display_state(s)"
   ]
  },
  {
   "cell_type": "markdown",
   "metadata": {},
   "source": [
    "### Puzzle Test Cases"
   ]
  },
  {
   "cell_type": "markdown",
   "metadata": {},
   "source": [
    "After some experimentation we decided to investigate the following cases of Sliding Block Puzzle. We chose a 4x4 grid for the smaller grid as well as an 7x6 grid for the second, larger grid. We placed the same blocks on both grids and the goal for both is to move the red L chaped block to the bottom left of both grid. "
   ]
  },
  {
   "cell_type": "code",
   "execution_count": 4,
   "metadata": {},
   "outputs": [],
   "source": [
    "small_initial = [[1,0,0,2],\n",
    "         [1,1,0,0],\n",
    "         [0,0,0,4],\n",
    "         [3,3,0,4]]\n",
    "\n",
    "small_goal = [[0,0,0,0],\n",
    "         [0,0,0,0],\n",
    "         [0,0,1,0],\n",
    "         [0,0,1,1]]\n",
    "\n",
    "large_initial = [[1,0,0,0,0,0,2],\n",
    "         [1,1,0,0,0,0,0],\n",
    "         [0,0,0,0,0,0,0],\n",
    "         [0,0,0,0,0,0,0],\n",
    "         [0,0,0,0,0,0,4],\n",
    "         [3,3,0,0,0,0,4]]\n",
    "\n",
    "\n",
    "large_goal = [[0,0,0,0,0,0,0],\n",
    "         [0,0,0,0,0,0,0],\n",
    "         [0,0,0,0,0,0,0],\n",
    "         [0,0,0,0,0,0,0],\n",
    "         [0,0,0,0,0,1,0],\n",
    "         [0,0,0,0,0,1,1]]\n",
    "\n",
    "small_puzzle =  SlidingBlocksPuzzle( small_initial,  small_goal)\n",
    "large_puzzle =  SlidingBlocksPuzzle( large_initial,  large_goal)"
   ]
  },
  {
   "cell_type": "markdown",
   "metadata": {},
   "source": [
    "### Breadth First Search"
   ]
  },
  {
   "cell_type": "markdown",
   "metadata": {},
   "source": [
    "The first test is to show how the size of the grids may effect the time it takes to complete the search as well as how the different search algorithms effect the time and path length. Originally, the large grid was of size 7x8 and we planned on setting the node limit to 5000 which passed for every small grid test. However, the large grid was too large for this small node limit so we increased the limit by 5000 each time and tested if the algorithm passed or failed. Eventually the programs failed as it approched to 50000 nodes. Therefore we reduced the grid size and set the node limit was 30000 for all the tests"
   ]
  },
  {
   "cell_type": "code",
   "execution_count": 5,
   "metadata": {},
   "outputs": [
    {
     "name": "stdout",
     "output_type": "stream",
     "text": [
      "Solve the following sliding blocks problem.\n",
      "Get from this initial state:\n"
     ]
    },
    {
     "data": {
      "image/png": "[encoded data removed]",
      "text/plain": [
       "<Figure size 210x210 with 1 Axes>"
      ]
     },
     "metadata": {},
     "output_type": "display_data"
    },
    {
     "name": "stdout",
     "output_type": "stream",
     "text": [
      "To a state incorporating the following block position(s):\n"
     ]
    },
    {
     "data": {
      "image/png": "[encoded data removed]",
      "text/plain": [
       "<Figure size 210x210 with 1 Axes>"
      ]
     },
     "metadata": {},
     "output_type": "display_data"
    },
    {
     "name": "stdout",
     "output_type": "stream",
     "text": [
      "You need to slide the red block to cover the bottom right square.\n",
      "\n",
      "** Running Brandon's Search Algorithm **\n",
      "Strategy: mode=BF/FIFO, cost=None, heuristic=None\n",
      "Max search nodes: 30000  (max number added to queue)\n",
      "Searching (will output '.' each 1000 goal_tests)\n",
      "\n",
      ":-)) *SUCCESS* ((-:\n",
      "\n",
      "Path length = 7\n",
      "Goal state is:\n"
     ]
    },
    {
     "data": {
      "image/png": "[encoded data removed]",
      "text/plain": [
       "<Figure size 210x210 with 1 Axes>"
      ]
     },
     "metadata": {},
     "output_type": "display_data"
    },
    {
     "name": "stdout",
     "output_type": "stream",
     "text": [
      "The action path to the solution is:\n",
      "('red', 'right')\n",
      "('red', 'down')\n",
      "('blue', 'left')\n",
      "('yellow', 'up')\n",
      "('yellow', 'up')\n",
      "('red', 'right')\n",
      "('red', 'down')\n",
      "\n",
      "\n",
      "SEARCH SPACE STATS:\n",
      "Total nodes generated          =     2134  (includes start)\n",
      "Nodes discarded by loop_check  =     1641  (493 distinct states added to queue)\n",
      "Nodes tested (by goal_test)    =      356  (355 expanded + 1 goal)\n",
      "Nodes left in queue            =      137\n",
      "\n",
      "Time taken = 0.1048 seconds\n",
      "\n",
      "Solve the following sliding blocks problem.\n",
      "Get from this initial state:\n"
     ]
    },
    {
     "data": {
      "image/png": "[encoded data removed]",
      "text/plain": [
       "<Figure size 360x310 with 1 Axes>"
      ]
     },
     "metadata": {},
     "output_type": "display_data"
    },
    {
     "name": "stdout",
     "output_type": "stream",
     "text": [
      "To a state incorporating the following block position(s):\n"
     ]
    },
    {
     "data": {
      "image/png": "[encoded data removed]",
      "text/plain": [
       "<Figure size 360x310 with 1 Axes>"
      ]
     },
     "metadata": {},
     "output_type": "display_data"
    },
    {
     "name": "stdout",
     "output_type": "stream",
     "text": [
      "You need to slide the red block to cover the bottom right square.\n",
      "\n",
      "** Running Brandon's Search Algorithm **\n",
      "Strategy: mode=BF/FIFO, cost=None, heuristic=None\n",
      "Max search nodes: 30000  (max number added to queue)\n",
      "Searching (will output '.' each 1000 goal_tests)\n",
      "................\n",
      ":-)) *SUCCESS* ((-:\n",
      "\n",
      "Path length = 10\n",
      "Goal state is:\n"
     ]
    },
    {
     "data": {
      "image/png": "[encoded data removed]",
      "text/plain": [
       "<Figure size 360x310 with 1 Axes>"
      ]
     },
     "metadata": {},
     "output_type": "display_data"
    },
    {
     "name": "stdout",
     "output_type": "stream",
     "text": [
      "The action path to the solution is:\n",
      "('red', 'right')\n",
      "('red', 'right')\n",
      "('red', 'right')\n",
      "('red', 'right')\n",
      "('red', 'down')\n",
      "('red', 'down')\n",
      "('red', 'down')\n",
      "('red', 'down')\n",
      "('yellow', 'up')\n",
      "('red', 'right')\n",
      "\n",
      "\n",
      "SEARCH SPACE STATS:\n",
      "Total nodes generated          =   185417  (includes start)\n",
      "Nodes discarded by loop_check  =   158676  (26741 distinct states added to queue)\n",
      "Nodes tested (by goal_test)    =    16547  (16546 expanded + 1 goal)\n",
      "Nodes left in queue            =    10194\n",
      "\n",
      "Time taken = 9.2436 seconds\n",
      "\n"
     ]
    }
   ],
   "source": [
    "small_search = search( small_puzzle, 'BF/FIFO', 30000, loop_check=True, randomise=False, return_info=True)\n",
    "large_search = search( large_puzzle, 'BF/FIFO', 30000, loop_check=True, randomise=False, return_info=True)"
   ]
  },
  {
   "cell_type": "markdown",
   "metadata": {},
   "source": [
    "### Depth First Search"
   ]
  },
  {
   "cell_type": "markdown",
   "metadata": {},
   "source": [
    "This test is for Depth first search. The small gird passed successfully however, the larger grid did not so we increased the node limit to 35000 to see at what point it would pass."
   ]
  },
  {
   "cell_type": "code",
   "execution_count": 6,
   "metadata": {},
   "outputs": [
    {
     "name": "stdout",
     "output_type": "stream",
     "text": [
      "Solve the following sliding blocks problem.\n",
      "Get from this initial state:\n"
     ]
    },
    {
     "data": {
      "image/png": "[encoded data removed]",
      "text/plain": [
       "<Figure size 210x210 with 1 Axes>"
      ]
     },
     "metadata": {},
     "output_type": "display_data"
    },
    {
     "name": "stdout",
     "output_type": "stream",
     "text": [
      "To a state incorporating the following block position(s):\n"
     ]
    },
    {
     "data": {
      "image/png": "[encoded data removed]",
      "text/plain": [
       "<Figure size 210x210 with 1 Axes>"
      ]
     },
     "metadata": {},
     "output_type": "display_data"
    },
    {
     "name": "stdout",
     "output_type": "stream",
     "text": [
      "You need to slide the red block to cover the bottom right square.\n",
      "\n",
      "** Running Brandon's Search Algorithm **\n",
      "Strategy: mode=DF/LIFO, cost=None, heuristic=None\n",
      "Max search nodes: 30000  (max number added to queue)\n",
      "Searching (will output '.' each 1000 goal_tests)\n"
     ]
    },
    {
     "name": "stdout",
     "output_type": "stream",
     "text": [
      "\n",
      ":-)) *SUCCESS* ((-:\n",
      "\n",
      "Path length = 78\n",
      "Goal state is:\n"
     ]
    },
    {
     "data": {
      "image/png": "[encoded data removed]",
      "text/plain": [
       "<Figure size 210x210 with 1 Axes>"
      ]
     },
     "metadata": {},
     "output_type": "display_data"
    },
    {
     "name": "stdout",
     "output_type": "stream",
     "text": [
      "The action path to the solution is:\n",
      "('yellow', 'up')\n",
      "('yellow', 'left')\n",
      "('yellow', 'up')\n",
      "('green', 'up')\n",
      "('green', 'right')\n",
      "('green', 'right')\n",
      "('green', 'down')\n",
      "('yellow', 'down')\n",
      "('yellow', 'right')\n",
      "('blue', 'left')\n",
      "('yellow', 'up')\n",
      "('green', 'up')\n",
      "('green', 'left')\n",
      "('yellow', 'down')\n",
      "('yellow', 'down')\n",
      "('green', 'down')\n",
      "('blue', 'down')\n",
      "('yellow', 'up')\n",
      "('yellow', 'up')\n",
      "('green', 'left')\n",
      "('green', 'up')\n",
      "('yellow', 'down')\n",
      "('yellow', 'down')\n",
      "('yellow', 'left')\n",
      "('green', 'down')\n",
      "('blue', 'up')\n",
      "('blue', 'left')\n",
      "('yellow', 'up')\n",
      "('yellow', 'up')\n",
      "('yellow', 'right')\n",
      "('green', 'right')\n",
      "('yellow', 'down')\n",
      "('red', 'down')\n",
      "('yellow', 'down')\n",
      "('green', 'left')\n",
      "('blue', 'down')\n",
      "('yellow', 'up')\n",
      "('yellow', 'up')\n",
      "('yellow', 'left')\n",
      "('green', 'right')\n",
      "('yellow', 'down')\n",
      "('green', 'right')\n",
      "('yellow', 'right')\n",
      "('yellow', 'up')\n",
      "('green', 'up')\n",
      "('yellow', 'left')\n",
      "('blue', 'up')\n",
      "('green', 'down')\n",
      "('blue', 'left')\n",
      "('yellow', 'down')\n",
      "('yellow', 'right')\n",
      "('red', 'down')\n",
      "('yellow', 'up')\n",
      "('green', 'up')\n",
      "('yellow', 'left')\n",
      "('yellow', 'left')\n",
      "('yellow', 'down')\n",
      "('green', 'up')\n",
      "('green', 'up')\n",
      "('yellow', 'up')\n",
      "('blue', 'down')\n",
      "('green', 'down')\n",
      "('red', 'right')\n",
      "('green', 'down')\n",
      "('yellow', 'right')\n",
      "('yellow', 'right')\n",
      "('blue', 'down')\n",
      "('blue', 'down')\n",
      "('yellow', 'left')\n",
      "('yellow', 'left')\n",
      "('yellow', 'left')\n",
      "('yellow', 'down')\n",
      "('green', 'up')\n",
      "('green', 'up')\n",
      "('yellow', 'up')\n",
      "('yellow', 'right')\n",
      "('blue', 'up')\n",
      "('red', 'right')\n",
      "\n",
      "\n",
      "SEARCH SPACE STATS:\n",
      "Total nodes generated          =      472  (includes start)\n",
      "Nodes discarded by loop_check  =      198  (274 distinct states added to queue)\n",
      "Nodes tested (by goal_test)    =       82  (81 expanded + 1 goal)\n",
      "Nodes left in queue            =      192\n",
      "\n",
      "Time taken = 0.0562 seconds\n",
      "\n",
      "Solve the following sliding blocks problem.\n",
      "Get from this initial state:\n"
     ]
    },
    {
     "data": {
      "image/png": "[encoded data removed]",
      "text/plain": [
       "<Figure size 360x310 with 1 Axes>"
      ]
     },
     "metadata": {},
     "output_type": "display_data"
    },
    {
     "name": "stdout",
     "output_type": "stream",
     "text": [
      "To a state incorporating the following block position(s):\n"
     ]
    },
    {
     "data": {
      "image/png": "[encoded data removed]",
      "text/plain": [
       "<Figure size 360x310 with 1 Axes>"
      ]
     },
     "metadata": {},
     "output_type": "display_data"
    },
    {
     "name": "stdout",
     "output_type": "stream",
     "text": [
      "You need to slide the red block to cover the bottom right square.\n",
      "\n",
      "** Running Brandon's Search Algorithm **\n",
      "Strategy: mode=DF/LIFO, cost=None, heuristic=None\n",
      "Max search nodes: 30000  (max number added to queue)\n",
      "Searching (will output '.' each 1000 goal_tests)\n",
      "...\n",
      "!! Search node limit (30000) reached !!\n",
      "): No solution found :(\n",
      "\n",
      "\n",
      "SEARCH SPACE STATS:\n",
      "Total nodes generated          =    43931  (includes start)\n",
      "Nodes discarded by loop_check  =    13930  (30001 distinct states added to queue)\n",
      "Nodes tested (by goal_test)    =     3982  (all expanded)\n",
      "Nodes left in queue            =    26018\n",
      "\n",
      "Time taken = 5.3185 seconds\n",
      "\n",
      "Solve the following sliding blocks problem.\n",
      "Get from this initial state:\n"
     ]
    },
    {
     "data": {
      "image/png": "[encoded data removed]",
      "text/plain": [
       "<Figure size 360x310 with 1 Axes>"
      ]
     },
     "metadata": {},
     "output_type": "display_data"
    },
    {
     "name": "stdout",
     "output_type": "stream",
     "text": [
      "To a state incorporating the following block position(s):\n"
     ]
    },
    {
     "data": {
      "image/png": "[encoded data removed]",
      "text/plain": [
       "<Figure size 360x310 with 1 Axes>"
      ]
     },
     "metadata": {},
     "output_type": "display_data"
    },
    {
     "name": "stdout",
     "output_type": "stream",
     "text": [
      "You need to slide the red block to cover the bottom right square.\n",
      "\n",
      "** Running Brandon's Search Algorithm **\n",
      "Strategy: mode=DF/LIFO, cost=None, heuristic=None\n",
      "Max search nodes: 35000  (max number added to queue)\n",
      "Searching (will output '.' each 1000 goal_tests)\n",
      "\n",
      ":-)) *SUCCESS* ((-:\n",
      "\n",
      "Path length = 763\n",
      "Goal state is:\n"
     ]
    },
    {
     "data": {
      "image/png": "[encoded data removed]",
      "text/plain": [
       "<Figure size 360x310 with 1 Axes>"
      ]
     },
     "metadata": {},
     "output_type": "display_data"
    },
    {
     "name": "stdout",
     "output_type": "stream",
     "text": [
      "The action path to the solution is:\n",
      "('green', 'right')\n",
      "('red', 'down')\n",
      "('blue', 'down')\n",
      "('red', 'down')\n",
      "('green', 'up')\n",
      "('blue', 'up')\n",
      "('green', 'right')\n",
      "('yellow', 'up')\n",
      "('blue', 'left')\n",
      "('red', 'right')\n",
      "('green', 'right')\n",
      "('red', 'up')\n",
      "('green', 'down')\n",
      "('blue', 'right')\n",
      "('yellow', 'up')\n",
      "('green', 'right')\n",
      "('red', 'down')\n",
      "('yellow', 'left')\n",
      "('red', 'left')\n",
      "('blue', 'left')\n",
      "('yellow', 'right')\n",
      "('green', 'right')\n",
      "('blue', 'left')\n",
      "('red', 'up')\n",
      "('yellow', 'left')\n",
      "('yellow', 'down')\n",
      "('red', 'down')\n",
      "('yellow', 'left')\n",
      "('yellow', 'down')\n",
      "('blue', 'left')\n",
      "('red', 'up')\n",
      "('blue', 'left')\n",
      "('red', 'up')\n",
      "('yellow', 'up')\n",
      "('yellow', 'right')\n",
      "('yellow', 'up')\n",
      "('red', 'right')\n",
      "('green', 'up')\n",
      "('blue', 'right')\n",
      "('blue', 'right')\n",
      "('green', 'down')\n",
      "('blue', 'right')\n",
      "('blue', 'right')\n",
      "('yellow', 'left')\n",
      "('green', 'left')\n",
      "('blue', 'down')\n",
      "('yellow', 'down')\n",
      "('yellow', 'left')\n",
      "('blue', 'down')\n",
      "('yellow', 'left')\n",
      "('yellow', 'left')\n",
      "('yellow', 'down')\n",
      "('green', 'right')\n",
      "('red', 'down')\n",
      "('yellow', 'left')\n",
      "('green', 'left')\n",
      "('red', 'right')\n",
      "('blue', 'down')\n",
      "('blue', 'down')\n",
      "('red', 'right')\n",
      "('yellow', 'right')\n",
      "('green', 'left')\n",
      "('blue', 'left')\n",
      "('yellow', 'right')\n",
      "('blue', 'up')\n",
      "('red', 'down')\n",
      "('blue', 'right')\n",
      "('red', 'down')\n",
      "('blue', 'up')\n",
      "('red', 'right')\n",
      "('red', 'right')\n",
      "('green', 'up')\n",
      "('blue', 'left')\n",
      "('yellow', 'left')\n",
      "('green', 'down')\n",
      "('red', 'left')\n",
      "('blue', 'left')\n",
      "('green', 'right')\n",
      "('red', 'left')\n",
      "('blue', 'right')\n",
      "('yellow', 'right')\n",
      "('red', 'up')\n",
      "('blue', 'left')\n",
      "('red', 'left')\n",
      "('red', 'up')\n",
      "('yellow', 'up')\n",
      "('yellow', 'left')\n",
      "('green', 'up')\n",
      "('green', 'left')\n",
      "('yellow', 'up')\n",
      "('blue', 'right')\n",
      "('blue', 'up')\n",
      "('green', 'down')\n",
      "('green', 'right')\n",
      "('blue', 'up')\n",
      "('red', 'up')\n",
      "('red', 'left')\n",
      "('yellow', 'down')\n",
      "('red', 'down')\n",
      "('red', 'left')\n",
      "('green', 'right')\n",
      "('blue', 'down')\n",
      "('green', 'up')\n",
      "('green', 'up')\n",
      "('green', 'left')\n",
      "('yellow', 'down')\n",
      "('red', 'right')\n",
      "('green', 'left')\n",
      "('red', 'up')\n",
      "('red', 'left')\n",
      "('yellow', 'up')\n",
      "('yellow', 'left')\n",
      "('blue', 'up')\n",
      "('green', 'right')\n",
      "('red', 'down')\n",
      "('blue', 'left')\n",
      "('green', 'up')\n",
      "('red', 'right')\n",
      "('yellow', 'right')\n",
      "('blue', 'right')\n",
      "('yellow', 'down')\n",
      "('blue', 'right')\n",
      "('yellow', 'right')\n",
      "('green', 'up')\n",
      "('blue', 'down')\n",
      "('yellow', 'left')\n",
      "('yellow', 'up')\n",
      "('blue', 'up')\n",
      "('red', 'up')\n",
      "('yellow', 'right')\n",
      "('yellow', 'right')\n",
      "('blue', 'down')\n",
      "('green', 'left')\n",
      "('yellow', 'down')\n",
      "('blue', 'left')\n",
      "('green', 'down')\n",
      "('blue', 'down')\n",
      "('red', 'left')\n",
      "('green', 'left')\n",
      "('blue', 'right')\n",
      "('yellow', 'up')\n",
      "('yellow', 'left')\n",
      "('green', 'up')\n",
      "('red', 'down')\n",
      "('green', 'up')\n",
      "('red', 'down')\n",
      "('yellow', 'up')\n",
      "('green', 'right')\n",
      "('green', 'right')\n",
      "('green', 'right')\n",
      "('green', 'down')\n",
      "('yellow', 'right')\n",
      "('red', 'right')\n",
      "('green', 'left')\n",
      "('blue', 'left')\n",
      "('blue', 'down')\n",
      "('blue', 'left')\n",
      "('red', 'up')\n",
      "('yellow', 'down')\n",
      "('red', 'left')\n",
      "('red', 'up')\n",
      "('yellow', 'left')\n",
      "('green', 'left')\n",
      "('yellow', 'up')\n",
      "('blue', 'left')\n",
      "('green', 'left')\n",
      "('yellow', 'down')\n",
      "('green', 'down')\n",
      "('green', 'left')\n",
      "('yellow', 'down')\n",
      "('yellow', 'right')\n",
      "('blue', 'up')\n",
      "('blue', 'right')\n",
      "('yellow', 'up')\n",
      "('green', 'left')\n",
      "('green', 'down')\n",
      "('yellow', 'down')\n",
      "('yellow', 'left')\n",
      "('blue', 'up')\n",
      "('blue', 'left')\n",
      "('green', 'up')\n",
      "('yellow', 'left')\n",
      "('green', 'right')\n",
      "('blue', 'right')\n",
      "('yellow', 'right')\n",
      "('yellow', 'up')\n",
      "('red', 'right')\n",
      "('blue', 'right')\n",
      "('red', 'right')\n",
      "('green', 'left')\n",
      "('red', 'right')\n",
      "('yellow', 'down')\n",
      "('yellow', 'right')\n",
      "('red', 'left')\n",
      "('green', 'down')\n",
      "('green', 'down')\n",
      "('green', 'right')\n",
      "('blue', 'up')\n",
      "('blue', 'right')\n",
      "('red', 'left')\n",
      "('red', 'down')\n",
      "('green', 'down')\n",
      "('red', 'left')\n",
      "('red', 'down')\n",
      "('red', 'down')\n",
      "('yellow', 'right')\n",
      "('blue', 'left')\n",
      "('red', 'up')\n",
      "('red', 'up')\n",
      "('red', 'right')\n",
      "('yellow', 'right')\n",
      "('blue', 'left')\n",
      "('green', 'up')\n",
      "('red', 'right')\n",
      "('yellow', 'right')\n",
      "('yellow', 'up')\n",
      "('yellow', 'up')\n",
      "('green', 'up')\n",
      "('yellow', 'left')\n",
      "('red', 'left')\n",
      "('blue', 'left')\n",
      "('yellow', 'down')\n",
      "('yellow', 'down')\n",
      "('blue', 'left')\n",
      "('green', 'right')\n",
      "('red', 'left')\n",
      "('blue', 'down')\n",
      "('green', 'up')\n",
      "('red', 'down')\n",
      "('green', 'left')\n",
      "('blue', 'up')\n",
      "('yellow', 'up')\n",
      "('blue', 'left')\n",
      "('green', 'up')\n",
      "('red', 'up')\n",
      "('yellow', 'up')\n",
      "('yellow', 'left')\n",
      "('green', 'right')\n",
      "('red', 'down')\n",
      "('yellow', 'down')\n",
      "('yellow', 'left')\n",
      "('green', 'up')\n",
      "('blue', 'left')\n",
      "('yellow', 'right')\n",
      "('red', 'up')\n",
      "('blue', 'right')\n",
      "('yellow', 'down')\n",
      "('red', 'right')\n",
      "('yellow', 'right')\n",
      "('green', 'right')\n",
      "('blue', 'left')\n",
      "('green', 'down')\n",
      "('yellow', 'up')\n",
      "('yellow', 'up')\n",
      "('blue', 'right')\n",
      "('green', 'up')\n",
      "('yellow', 'right')\n",
      "('red', 'down')\n",
      "('green', 'left')\n",
      "('yellow', 'down')\n",
      "('yellow', 'left')\n",
      "('green', 'right')\n",
      "('red', 'right')\n",
      "('green', 'right')\n",
      "('blue', 'right')\n",
      "('red', 'right')\n",
      "('green', 'left')\n",
      "('red', 'down')\n",
      "('red', 'left')\n",
      "('yellow', 'down')\n",
      "('red', 'up')\n",
      "('green', 'down')\n",
      "('blue', 'left')\n",
      "('yellow', 'right')\n",
      "('green', 'up')\n",
      "('blue', 'down')\n",
      "('red', 'right')\n",
      "('yellow', 'up')\n",
      "('yellow', 'up')\n",
      "('red', 'down')\n",
      "('green', 'right')\n",
      "('yellow', 'up')\n",
      "('red', 'up')\n",
      "('blue', 'up')\n",
      "('red', 'right')\n",
      "('yellow', 'down')\n",
      "('red', 'down')\n",
      "('blue', 'right')\n",
      "('red', 'right')\n",
      "('yellow', 'up')\n",
      "('blue', 'down')\n",
      "('yellow', 'left')\n",
      "('red', 'left')\n",
      "('blue', 'down')\n",
      "('blue', 'down')\n",
      "('red', 'left')\n",
      "('blue', 'left')\n",
      "('blue', 'left')\n",
      "('red', 'up')\n",
      "('blue', 'down')\n",
      "('yellow', 'down')\n",
      "('green', 'left')\n",
      "('yellow', 'right')\n",
      "('red', 'right')\n",
      "('blue', 'up')\n",
      "('green', 'left')\n",
      "('red', 'up')\n",
      "('yellow', 'down')\n",
      "('yellow', 'down')\n",
      "('yellow', 'left')\n",
      "('green', 'left')\n",
      "('blue', 'up')\n",
      "('red', 'right')\n",
      "('yellow', 'up')\n",
      "('green', 'left')\n",
      "('blue', 'right')\n",
      "('red', 'left')\n",
      "('blue', 'up')\n",
      "('yellow', 'down')\n",
      "('red', 'down')\n",
      "('green', 'right')\n",
      "('yellow', 'left')\n",
      "('green', 'right')\n",
      "('blue', 'up')\n",
      "('red', 'left')\n",
      "('yellow', 'left')\n",
      "('green', 'down')\n",
      "('blue', 'right')\n",
      "('blue', 'right')\n",
      "('red', 'right')\n",
      "('red', 'up')\n",
      "('yellow', 'right')\n",
      "('red', 'right')\n",
      "('blue', 'left')\n",
      "('yellow', 'left')\n",
      "('green', 'right')\n",
      "('green', 'down')\n",
      "('yellow', 'left')\n",
      "('blue', 'down')\n",
      "('yellow', 'up')\n",
      "('green', 'down')\n",
      "('red', 'left')\n",
      "('blue', 'left')\n",
      "('red', 'left')\n",
      "('yellow', 'up')\n",
      "('red', 'up')\n",
      "('blue', 'left')\n",
      "('yellow', 'down')\n",
      "('red', 'left')\n",
      "('blue', 'right')\n",
      "('green', 'down')\n",
      "('yellow', 'left')\n",
      "('yellow', 'up')\n",
      "('yellow', 'left')\n",
      "('green', 'up')\n",
      "('blue', 'left')\n",
      "('green', 'left')\n",
      "('red', 'left')\n",
      "('green', 'down')\n",
      "('green', 'left')\n",
      "('red', 'right')\n",
      "('yellow', 'down')\n",
      "('red', 'down')\n",
      "('blue', 'up')\n",
      "('yellow', 'down')\n",
      "('green', 'right')\n",
      "('green', 'up')\n",
      "('blue', 'down')\n",
      "('yellow', 'right')\n",
      "('blue', 'right')\n",
      "('red', 'up')\n",
      "('yellow', 'left')\n",
      "('green', 'right')\n",
      "('green', 'up')\n",
      "('yellow', 'up')\n",
      "('green', 'left')\n",
      "('yellow', 'up')\n",
      "('blue', 'up')\n",
      "('green', 'right')\n",
      "('blue', 'left')\n",
      "('red', 'right')\n",
      "('green', 'down')\n",
      "('green', 'left')\n",
      "('green', 'down')\n",
      "('yellow', 'down')\n",
      "('red', 'down')\n",
      "('blue', 'right')\n",
      "('yellow', 'right')\n",
      "('green', 'down')\n",
      "('red', 'right')\n",
      "('red', 'up')\n",
      "('red', 'right')\n",
      "('yellow', 'up')\n",
      "('blue', 'left')\n",
      "('red', 'left')\n",
      "('green', 'right')\n",
      "('blue', 'down')\n",
      "('yellow', 'right')\n",
      "('red', 'right')\n",
      "('green', 'right')\n",
      "('green', 'up')\n",
      "('yellow', 'right')\n",
      "('yellow', 'down')\n",
      "('blue', 'down')\n",
      "('blue', 'right')\n",
      "('yellow', 'left')\n",
      "('green', 'down')\n",
      "('green', 'right')\n",
      "('yellow', 'right')\n",
      "('blue', 'right')\n",
      "('green', 'up')\n",
      "('yellow', 'up')\n",
      "('red', 'down')\n",
      "('green', 'up')\n",
      "('red', 'left')\n",
      "('blue', 'left')\n",
      "('green', 'left')\n",
      "('green', 'down')\n",
      "('red', 'up')\n",
      "('green', 'left')\n",
      "('red', 'right')\n",
      "('yellow', 'right')\n",
      "('yellow', 'right')\n",
      "('blue', 'down')\n",
      "('blue', 'down')\n",
      "('blue', 'right')\n",
      "('green', 'down')\n",
      "('blue', 'right')\n",
      "('green', 'right')\n",
      "('yellow', 'right')\n",
      "('yellow', 'down')\n",
      "('blue', 'left')\n",
      "('blue', 'up')\n",
      "('yellow', 'up')\n",
      "('green', 'left')\n",
      "('green', 'up')\n",
      "('blue', 'right')\n",
      "('green', 'right')\n",
      "('red', 'left')\n",
      "('red', 'left')\n",
      "('blue', 'right')\n",
      "('blue', 'right')\n",
      "('yellow', 'up')\n",
      "('blue', 'right')\n",
      "('red', 'left')\n",
      "('yellow', 'up')\n",
      "('green', 'down')\n",
      "('blue', 'down')\n",
      "('yellow', 'down')\n",
      "('blue', 'left')\n",
      "('red', 'down')\n",
      "('yellow', 'left')\n",
      "('blue', 'left')\n",
      "('red', 'up')\n",
      "('yellow', 'left')\n",
      "('yellow', 'down')\n",
      "('green', 'right')\n",
      "('yellow', 'left')\n",
      "('blue', 'up')\n",
      "('yellow', 'left')\n",
      "('yellow', 'down')\n",
      "('blue', 'down')\n",
      "('blue', 'left')\n",
      "('yellow', 'down')\n",
      "('blue', 'down')\n",
      "('red', 'left')\n",
      "('red', 'down')\n",
      "('red', 'down')\n",
      "('red', 'right')\n",
      "('green', 'left')\n",
      "('blue', 'up')\n",
      "('green', 'left')\n",
      "('red', 'up')\n",
      "('red', 'up')\n",
      "('red', 'right')\n",
      "('yellow', 'left')\n",
      "('blue', 'up')\n",
      "('yellow', 'left')\n",
      "('green', 'left')\n",
      "('blue', 'up')\n",
      "('red', 'right')\n",
      "('red', 'right')\n",
      "('green', 'right')\n",
      "('blue', 'up')\n",
      "('green', 'up')\n",
      "('red', 'down')\n",
      "('red', 'down')\n",
      "('blue', 'up')\n",
      "('blue', 'right')\n",
      "('blue', 'right')\n",
      "('green', 'up')\n",
      "('green', 'left')\n",
      "('yellow', 'up')\n",
      "('yellow', 'right')\n",
      "('blue', 'down')\n",
      "('green', 'right')\n",
      "('yellow', 'up')\n",
      "('yellow', 'left')\n",
      "('green', 'down')\n",
      "('green', 'right')\n",
      "('yellow', 'right')\n",
      "('yellow', 'up')\n",
      "('yellow', 'up')\n",
      "('red', 'left')\n",
      "('green', 'left')\n",
      "('yellow', 'left')\n",
      "('yellow', 'down')\n",
      "('green', 'down')\n",
      "('blue', 'up')\n",
      "('green', 'right')\n",
      "('yellow', 'right')\n",
      "('yellow', 'down')\n",
      "('blue', 'right')\n",
      "('green', 'right')\n",
      "('yellow', 'left')\n",
      "('green', 'up')\n",
      "('green', 'left')\n",
      "('blue', 'left')\n",
      "('yellow', 'down')\n",
      "('green', 'right')\n",
      "('red', 'up')\n",
      "('red', 'up')\n",
      "('yellow', 'down')\n",
      "('green', 'left')\n",
      "('red', 'left')\n",
      "('blue', 'left')\n",
      "('green', 'down')\n",
      "('green', 'right')\n",
      "('yellow', 'right')\n",
      "('blue', 'right')\n",
      "('red', 'right')\n",
      "('blue', 'right')\n",
      "('green', 'left')\n",
      "('red', 'left')\n",
      "('yellow', 'left')\n",
      "('blue', 'down')\n",
      "('green', 'up')\n",
      "('yellow', 'up')\n",
      "('red', 'left')\n",
      "('green', 'right')\n",
      "('yellow', 'down')\n",
      "('red', 'left')\n",
      "('green', 'down')\n",
      "('blue', 'left')\n",
      "('yellow', 'right')\n",
      "('red', 'right')\n",
      "('green', 'up')\n",
      "('yellow', 'up')\n",
      "('blue', 'down')\n",
      "('yellow', 'up')\n",
      "('yellow', 'right')\n",
      "('green', 'down')\n",
      "('blue', 'up')\n",
      "('blue', 'left')\n",
      "('green', 'left')\n",
      "('red', 'left')\n",
      "('green', 'left')\n",
      "('green', 'up')\n",
      "('blue', 'down')\n",
      "('blue', 'left')\n",
      "('green', 'left')\n",
      "('red', 'right')\n",
      "('green', 'left')\n",
      "('blue', 'right')\n",
      "('blue', 'right')\n",
      "('green', 'down')\n",
      "('blue', 'up')\n",
      "('yellow', 'right')\n",
      "('blue', 'left')\n",
      "('blue', 'down')\n",
      "('red', 'right')\n",
      "('yellow', 'down')\n",
      "('blue', 'left')\n",
      "('blue', 'left')\n",
      "('blue', 'left')\n",
      "('red', 'down')\n",
      "('yellow', 'down')\n",
      "('blue', 'right')\n",
      "('green', 'left')\n",
      "('yellow', 'left')\n",
      "('blue', 'up')\n",
      "('blue', 'up')\n",
      "('blue', 'right')\n",
      "('green', 'up')\n",
      "('red', 'down')\n",
      "('red', 'left')\n",
      "('blue', 'left')\n",
      "('green', 'down')\n",
      "('blue', 'down')\n",
      "('yellow', 'right')\n",
      "('green', 'right')\n",
      "('yellow', 'right')\n",
      "('green', 'up')\n",
      "('red', 'right')\n",
      "('blue', 'left')\n",
      "('green', 'down')\n",
      "('red', 'right')\n",
      "('green', 'left')\n",
      "('red', 'right')\n",
      "('yellow', 'right')\n",
      "('green', 'right')\n",
      "('yellow', 'right')\n",
      "('blue', 'up')\n",
      "('red', 'up')\n",
      "('green', 'right')\n",
      "('green', 'up')\n",
      "('blue', 'down')\n",
      "('red', 'up')\n",
      "('blue', 'right')\n",
      "('blue', 'right')\n",
      "('green', 'right')\n",
      "('yellow', 'left')\n",
      "('blue', 'right')\n",
      "('red', 'down')\n",
      "('green', 'up')\n",
      "('green', 'right')\n",
      "('yellow', 'left')\n",
      "('blue', 'down')\n",
      "('blue', 'left')\n",
      "('yellow', 'right')\n",
      "('green', 'right')\n",
      "('red', 'up')\n",
      "('blue', 'down')\n",
      "('blue', 'left')\n",
      "('red', 'down')\n",
      "('red', 'left')\n",
      "('red', 'left')\n",
      "('red', 'up')\n",
      "('blue', 'left')\n",
      "('red', 'right')\n",
      "('yellow', 'left')\n",
      "('yellow', 'up')\n",
      "('yellow', 'up')\n",
      "('blue', 'up')\n",
      "('blue', 'right')\n",
      "('blue', 'up')\n",
      "('red', 'left')\n",
      "('blue', 'up')\n",
      "('yellow', 'down')\n",
      "('red', 'down')\n",
      "('blue', 'right')\n",
      "('blue', 'right')\n",
      "('red', 'left')\n",
      "('green', 'up')\n",
      "('red', 'down')\n",
      "('blue', 'down')\n",
      "('yellow', 'up')\n",
      "('red', 'down')\n",
      "('red', 'left')\n",
      "('blue', 'up')\n",
      "('red', 'left')\n",
      "('green', 'down')\n",
      "('blue', 'left')\n",
      "('yellow', 'left')\n",
      "('blue', 'down')\n",
      "('blue', 'left')\n",
      "('blue', 'left')\n",
      "('yellow', 'left')\n",
      "('blue', 'left')\n",
      "('red', 'down')\n",
      "('yellow', 'up')\n",
      "('green', 'down')\n",
      "('blue', 'right')\n",
      "('red', 'up')\n",
      "('green', 'left')\n",
      "('yellow', 'right')\n",
      "('yellow', 'down')\n",
      "('blue', 'right')\n",
      "('green', 'left')\n",
      "('green', 'left')\n",
      "('yellow', 'up')\n",
      "('red', 'down')\n",
      "('blue', 'down')\n",
      "('red', 'right')\n",
      "('green', 'up')\n",
      "('blue', 'left')\n",
      "('red', 'left')\n",
      "('green', 'left')\n",
      "('yellow', 'up')\n",
      "('blue', 'up')\n",
      "('yellow', 'left')\n",
      "('green', 'left')\n",
      "('yellow', 'down')\n",
      "('blue', 'left')\n",
      "('green', 'right')\n",
      "('red', 'up')\n",
      "('blue', 'up')\n",
      "('yellow', 'left')\n",
      "('green', 'right')\n",
      "('yellow', 'left')\n",
      "('red', 'down')\n",
      "('yellow', 'down')\n",
      "('green', 'up')\n",
      "('green', 'left')\n",
      "('blue', 'down')\n",
      "('green', 'down')\n",
      "('red', 'right')\n",
      "('blue', 'up')\n",
      "('yellow', 'down')\n",
      "('blue', 'right')\n",
      "('red', 'right')\n",
      "('blue', 'right')\n",
      "('green', 'right')\n",
      "('yellow', 'up')\n",
      "('red', 'right')\n",
      "('blue', 'left')\n",
      "('green', 'right')\n",
      "('yellow', 'right')\n",
      "('green', 'up')\n",
      "('blue', 'right')\n",
      "('blue', 'right')\n",
      "('yellow', 'up')\n",
      "('green', 'down')\n",
      "('blue', 'left')\n",
      "('red', 'left')\n",
      "('blue', 'down')\n",
      "('blue', 'down')\n",
      "('green', 'up')\n",
      "('blue', 'down')\n",
      "('blue', 'left')\n",
      "('yellow', 'left')\n",
      "('blue', 'up')\n",
      "('green', 'up')\n",
      "('yellow', 'up')\n",
      "('blue', 'down')\n",
      "('red', 'left')\n",
      "('yellow', 'right')\n",
      "('green', 'right')\n",
      "('red', 'right')\n",
      "('red', 'up')\n",
      "('blue', 'left')\n",
      "('yellow', 'down')\n",
      "('yellow', 'left')\n",
      "('red', 'down')\n",
      "('blue', 'down')\n",
      "('red', 'left')\n",
      "('red', 'up')\n",
      "('yellow', 'down')\n",
      "('green', 'right')\n",
      "('red', 'right')\n",
      "('red', 'up')\n",
      "('red', 'right')\n",
      "('blue', 'down')\n",
      "('green', 'up')\n",
      "('red', 'down')\n",
      "('red', 'left')\n",
      "('red', 'down')\n",
      "('yellow', 'right')\n",
      "('blue', 'right')\n",
      "('green', 'left')\n",
      "('red', 'right')\n",
      "('blue', 'up')\n",
      "('yellow', 'up')\n",
      "('red', 'right')\n",
      "('yellow', 'left')\n",
      "('yellow', 'down')\n",
      "('green', 'down')\n",
      "('red', 'up')\n",
      "('blue', 'down')\n",
      "('yellow', 'down')\n",
      "('red', 'down')\n",
      "('blue', 'right')\n",
      "('red', 'right')\n",
      "\n",
      "\n",
      "SEARCH SPACE STATS:\n",
      "Total nodes generated          =     8697  (includes start)\n",
      "Nodes discarded by loop_check  =     1610  (7087 distinct states added to queue)\n",
      "Nodes tested (by goal_test)    =      764  (763 expanded + 1 goal)\n",
      "Nodes left in queue            =     6323\n",
      "\n",
      "Time taken = 1.6678 seconds\n",
      "\n"
     ]
    }
   ],
   "source": [
    "small_Df = search( small_puzzle, 'DF/LIFO', 30000, loop_check=True, randomise=False, return_info=True)\n",
    "large_DF = search( large_puzzle, 'DF/LIFO', 30000, loop_check=True, randomise=False, return_info=True)\n",
    "large_DF2 = search( large_puzzle, 'DF/LIFO', 35000, loop_check=True, randomise=True, return_info=True)"
   ]
  },
  {
   "cell_type": "markdown",
   "metadata": {},
   "source": [
    "This is the same as the depth first test but *randomise is true*."
   ]
  },
  {
   "cell_type": "code",
   "execution_count": 7,
   "metadata": {},
   "outputs": [
    {
     "name": "stdout",
     "output_type": "stream",
     "text": [
      "Solve the following sliding blocks problem.\n",
      "Get from this initial state:\n"
     ]
    },
    {
     "data": {
      "image/png": "[encoded data removed]",
      "text/plain": [
       "<Figure size 210x210 with 1 Axes>"
      ]
     },
     "metadata": {},
     "output_type": "display_data"
    },
    {
     "name": "stdout",
     "output_type": "stream",
     "text": [
      "To a state incorporating the following block position(s):\n"
     ]
    },
    {
     "data": {
      "image/png": "[encoded data removed]",
      "text/plain": [
       "<Figure size 210x210 with 1 Axes>"
      ]
     },
     "metadata": {},
     "output_type": "display_data"
    },
    {
     "name": "stdout",
     "output_type": "stream",
     "text": [
      "You need to slide the red block to cover the bottom right square.\n",
      "\n",
      "** Running Brandon's Search Algorithm **\n",
      "Strategy: mode=DF/LIFO, cost=None, heuristic=None\n",
      "Max search nodes: 30000  (max number added to queue)\n",
      "Searching (will output '.' each 1000 goal_tests)\n",
      "\n",
      ":-)) *SUCCESS* ((-:\n",
      "\n",
      "Path length = 66\n",
      "Goal state is:\n"
     ]
    },
    {
     "data": {
      "image/png": "[encoded data removed]",
      "text/plain": [
       "<Figure size 210x210 with 1 Axes>"
      ]
     },
     "metadata": {},
     "output_type": "display_data"
    },
    {
     "name": "stdout",
     "output_type": "stream",
     "text": [
      "The action path to the solution is:\n",
      "('blue', 'left')\n",
      "('red', 'down')\n",
      "('blue', 'down')\n",
      "('yellow', 'up')\n",
      "('blue', 'down')\n",
      "('yellow', 'up')\n",
      "('blue', 'right')\n",
      "('red', 'up')\n",
      "('green', 'right')\n",
      "('blue', 'down')\n",
      "('red', 'right')\n",
      "('green', 'left')\n",
      "('red', 'down')\n",
      "('yellow', 'down')\n",
      "('green', 'right')\n",
      "('red', 'left')\n",
      "('yellow', 'left')\n",
      "('blue', 'up')\n",
      "('blue', 'up')\n",
      "('red', 'up')\n",
      "('blue', 'up')\n",
      "('green', 'right')\n",
      "('blue', 'left')\n",
      "('red', 'down')\n",
      "('red', 'down')\n",
      "('blue', 'right')\n",
      "('yellow', 'right')\n",
      "('red', 'up')\n",
      "('green', 'left')\n",
      "('green', 'left')\n",
      "('red', 'right')\n",
      "('red', 'up')\n",
      "('green', 'right')\n",
      "('green', 'up')\n",
      "('blue', 'left')\n",
      "('yellow', 'up')\n",
      "('red', 'left')\n",
      "('blue', 'down')\n",
      "('yellow', 'down')\n",
      "('green', 'left')\n",
      "('blue', 'down')\n",
      "('red', 'right')\n",
      "('yellow', 'down')\n",
      "('green', 'down')\n",
      "('red', 'right')\n",
      "('blue', 'down')\n",
      "('green', 'up')\n",
      "('blue', 'left')\n",
      "('yellow', 'left')\n",
      "('green', 'up')\n",
      "('blue', 'up')\n",
      "('yellow', 'right')\n",
      "('blue', 'left')\n",
      "('blue', 'down')\n",
      "('green', 'up')\n",
      "('yellow', 'left')\n",
      "('blue', 'up')\n",
      "('blue', 'up')\n",
      "('yellow', 'left')\n",
      "('yellow', 'up')\n",
      "('blue', 'down')\n",
      "('red', 'down')\n",
      "('blue', 'down')\n",
      "('yellow', 'down')\n",
      "('green', 'down')\n",
      "('red', 'down')\n",
      "\n",
      "\n",
      "SEARCH SPACE STATS:\n",
      "Total nodes generated          =      400  (includes start)\n",
      "Nodes discarded by loop_check  =      152  (248 distinct states added to queue)\n",
      "Nodes tested (by goal_test)    =       72  (71 expanded + 1 goal)\n",
      "Nodes left in queue            =      176\n",
      "\n",
      "Time taken = 0.0554 seconds\n",
      "\n",
      "Solve the following sliding blocks problem.\n",
      "Get from this initial state:\n"
     ]
    },
    {
     "data": {
      "image/png": "[encoded data removed]",
      "text/plain": [
       "<Figure size 360x310 with 1 Axes>"
      ]
     },
     "metadata": {},
     "output_type": "display_data"
    },
    {
     "name": "stdout",
     "output_type": "stream",
     "text": [
      "To a state incorporating the following block position(s):\n"
     ]
    },
    {
     "data": {
      "image/png": "[encoded data removed]",
      "text/plain": [
       "<Figure size 360x310 with 1 Axes>"
      ]
     },
     "metadata": {},
     "output_type": "display_data"
    },
    {
     "name": "stdout",
     "output_type": "stream",
     "text": [
      "You need to slide the red block to cover the bottom right square.\n",
      "\n",
      "** Running Brandon's Search Algorithm **\n",
      "Strategy: mode=DF/LIFO, cost=None, heuristic=None\n",
      "Max search nodes: 30000  (max number added to queue)\n",
      "Searching (will output '.' each 1000 goal_tests)\n",
      "\n",
      ":-)) *SUCCESS* ((-:\n",
      "\n",
      "Path length = 414\n",
      "Goal state is:\n"
     ]
    },
    {
     "data": {
      "image/png": "[encoded data removed]",
      "text/plain": [
       "<Figure size 360x310 with 1 Axes>"
      ]
     },
     "metadata": {},
     "output_type": "display_data"
    },
    {
     "name": "stdout",
     "output_type": "stream",
     "text": [
      "The action path to the solution is:\n",
      "('yellow', 'left')\n",
      "('red', 'down')\n",
      "('red', 'down')\n",
      "('red', 'right')\n",
      "('yellow', 'left')\n",
      "('yellow', 'up')\n",
      "('green', 'right')\n",
      "('red', 'up')\n",
      "('red', 'up')\n",
      "('red', 'right')\n",
      "('blue', 'down')\n",
      "('green', 'up')\n",
      "('red', 'right')\n",
      "('blue', 'left')\n",
      "('yellow', 'left')\n",
      "('green', 'left')\n",
      "('blue', 'down')\n",
      "('green', 'down')\n",
      "('yellow', 'down')\n",
      "('green', 'right')\n",
      "('blue', 'up')\n",
      "('blue', 'up')\n",
      "('red', 'right')\n",
      "('green', 'left')\n",
      "('green', 'up')\n",
      "('yellow', 'left')\n",
      "('blue', 'right')\n",
      "('red', 'left')\n",
      "('green', 'up')\n",
      "('green', 'right')\n",
      "('red', 'right')\n",
      "('yellow', 'right')\n",
      "('red', 'down')\n",
      "('green', 'left')\n",
      "('blue', 'left')\n",
      "('blue', 'left')\n",
      "('yellow', 'right')\n",
      "('red', 'down')\n",
      "('blue', 'right')\n",
      "('green', 'right')\n",
      "('red', 'left')\n",
      "('red', 'up')\n",
      "('red', 'left')\n",
      "('blue', 'down')\n",
      "('blue', 'right')\n",
      "('yellow', 'up')\n",
      "('blue', 'down')\n",
      "('yellow', 'left')\n",
      "('blue', 'down')\n",
      "('yellow', 'down')\n",
      "('yellow', 'right')\n",
      "('green', 'down')\n",
      "('red', 'up')\n",
      "('green', 'right')\n",
      "('blue', 'down')\n",
      "('blue', 'left')\n",
      "('red', 'left')\n",
      "('red', 'left')\n",
      "('green', 'up')\n",
      "('blue', 'up')\n",
      "('blue', 'left')\n",
      "('blue', 'up')\n",
      "('blue', 'left')\n",
      "('yellow', 'up')\n",
      "('green', 'down')\n",
      "('green', 'down')\n",
      "('yellow', 'right')\n",
      "('blue', 'left')\n",
      "('green', 'left')\n",
      "('blue', 'left')\n",
      "('red', 'right')\n",
      "('green', 'right')\n",
      "('yellow', 'up')\n",
      "('blue', 'right')\n",
      "('blue', 'right')\n",
      "('blue', 'right')\n",
      "('yellow', 'down')\n",
      "('blue', 'down')\n",
      "('yellow', 'down')\n",
      "('red', 'down')\n",
      "('blue', 'right')\n",
      "('blue', 'up')\n",
      "('green', 'up')\n",
      "('blue', 'right')\n",
      "('red', 'right')\n",
      "('red', 'up')\n",
      "('blue', 'up')\n",
      "('red', 'right')\n",
      "('red', 'down')\n",
      "('yellow', 'right')\n",
      "('yellow', 'up')\n",
      "('yellow', 'up')\n",
      "('blue', 'up')\n",
      "('green', 'up')\n",
      "('green', 'left')\n",
      "('red', 'down')\n",
      "('blue', 'down')\n",
      "('yellow', 'down')\n",
      "('yellow', 'left')\n",
      "('yellow', 'down')\n",
      "('green', 'up')\n",
      "('blue', 'down')\n",
      "('blue', 'left')\n",
      "('green', 'up')\n",
      "('green', 'right')\n",
      "('blue', 'down')\n",
      "('yellow', 'right')\n",
      "('green', 'right')\n",
      "('green', 'right')\n",
      "('green', 'right')\n",
      "('yellow', 'up')\n",
      "('green', 'up')\n",
      "('green', 'left')\n",
      "('blue', 'down')\n",
      "('red', 'right')\n",
      "('green', 'down')\n",
      "('blue', 'down')\n",
      "('yellow', 'up')\n",
      "('yellow', 'up')\n",
      "('green', 'up')\n",
      "('blue', 'right')\n",
      "('green', 'right')\n",
      "('blue', 'up')\n",
      "('yellow', 'down')\n",
      "('green', 'left')\n",
      "('green', 'down')\n",
      "('red', 'left')\n",
      "('blue', 'left')\n",
      "('red', 'left')\n",
      "('green', 'right')\n",
      "('blue', 'down')\n",
      "('red', 'left')\n",
      "('blue', 'left')\n",
      "('yellow', 'down')\n",
      "('green', 'left')\n",
      "('red', 'left')\n",
      "('red', 'up')\n",
      "('yellow', 'down')\n",
      "('blue', 'right')\n",
      "('red', 'right')\n",
      "('red', 'down')\n",
      "('red', 'down')\n",
      "('green', 'left')\n",
      "('yellow', 'up')\n",
      "('green', 'up')\n",
      "('green', 'right')\n",
      "('red', 'right')\n",
      "('blue', 'right')\n",
      "('red', 'up')\n",
      "('red', 'left')\n",
      "('green', 'left')\n",
      "('yellow', 'up')\n",
      "('green', 'left')\n",
      "('blue', 'up')\n",
      "('red', 'right')\n",
      "('green', 'down')\n",
      "('green', 'right')\n",
      "('blue', 'down')\n",
      "('green', 'down')\n",
      "('yellow', 'down')\n",
      "('blue', 'left')\n",
      "('blue', 'up')\n",
      "('green', 'up')\n",
      "('red', 'left')\n",
      "('green', 'up')\n",
      "('red', 'up')\n",
      "('blue', 'left')\n",
      "('red', 'right')\n",
      "('red', 'right')\n",
      "('green', 'right')\n",
      "('yellow', 'up')\n",
      "('yellow', 'up')\n",
      "('green', 'down')\n",
      "('blue', 'left')\n",
      "('red', 'down')\n",
      "('yellow', 'up')\n",
      "('red', 'left')\n",
      "('red', 'up')\n",
      "('green', 'left')\n",
      "('blue', 'left')\n",
      "('yellow', 'left')\n",
      "('green', 'up')\n",
      "('blue', 'down')\n",
      "('red', 'up')\n",
      "('yellow', 'down')\n",
      "('yellow', 'left')\n",
      "('red', 'down')\n",
      "('red', 'down')\n",
      "('blue', 'up')\n",
      "('green', 'right')\n",
      "('red', 'up')\n",
      "('yellow', 'right')\n",
      "('yellow', 'right')\n",
      "('blue', 'down')\n",
      "('green', 'down')\n",
      "('red', 'up')\n",
      "('blue', 'up')\n",
      "('blue', 'right')\n",
      "('green', 'up')\n",
      "('red', 'left')\n",
      "('yellow', 'down')\n",
      "('green', 'left')\n",
      "('green', 'down')\n",
      "('blue', 'down')\n",
      "('yellow', 'up')\n",
      "('red', 'left')\n",
      "('green', 'up')\n",
      "('yellow', 'up')\n",
      "('blue', 'right')\n",
      "('green', 'left')\n",
      "('blue', 'right')\n",
      "('yellow', 'left')\n",
      "('yellow', 'left')\n",
      "('yellow', 'down')\n",
      "('blue', 'up')\n",
      "('green', 'left')\n",
      "('red', 'down')\n",
      "('green', 'left')\n",
      "('yellow', 'up')\n",
      "('red', 'down')\n",
      "('red', 'down')\n",
      "('yellow', 'down')\n",
      "('blue', 'down')\n",
      "('green', 'down')\n",
      "('blue', 'left')\n",
      "('red', 'right')\n",
      "('yellow', 'left')\n",
      "('yellow', 'left')\n",
      "('blue', 'right')\n",
      "('blue', 'up')\n",
      "('blue', 'up')\n",
      "('blue', 'up')\n",
      "('blue', 'right')\n",
      "('green', 'down')\n",
      "('red', 'left')\n",
      "('yellow', 'down')\n",
      "('blue', 'up')\n",
      "('green', 'up')\n",
      "('yellow', 'down')\n",
      "('red', 'up')\n",
      "('blue', 'left')\n",
      "('yellow', 'up')\n",
      "('blue', 'up')\n",
      "('red', 'down')\n",
      "('yellow', 'right')\n",
      "('blue', 'right')\n",
      "('red', 'up')\n",
      "('yellow', 'down')\n",
      "('yellow', 'right')\n",
      "('green', 'up')\n",
      "('red', 'down')\n",
      "('red', 'down')\n",
      "('blue', 'left')\n",
      "('red', 'right')\n",
      "('yellow', 'up')\n",
      "('red', 'up')\n",
      "('yellow', 'left')\n",
      "('green', 'right')\n",
      "('red', 'right')\n",
      "('yellow', 'right')\n",
      "('green', 'right')\n",
      "('yellow', 'right')\n",
      "('green', 'right')\n",
      "('blue', 'right')\n",
      "('red', 'right')\n",
      "('blue', 'down')\n",
      "('yellow', 'left')\n",
      "('green', 'down')\n",
      "('green', 'right')\n",
      "('blue', 'down')\n",
      "('red', 'left')\n",
      "('green', 'right')\n",
      "('yellow', 'down')\n",
      "('red', 'up')\n",
      "('red', 'up')\n",
      "('blue', 'left')\n",
      "('yellow', 'right')\n",
      "('red', 'down')\n",
      "('yellow', 'right')\n",
      "('green', 'left')\n",
      "('yellow', 'up')\n",
      "('blue', 'left')\n",
      "('red', 'up')\n",
      "('blue', 'down')\n",
      "('blue', 'right')\n",
      "('red', 'right')\n",
      "('blue', 'up')\n",
      "('yellow', 'up')\n",
      "('yellow', 'up')\n",
      "('blue', 'right')\n",
      "('blue', 'down')\n",
      "('yellow', 'down')\n",
      "('green', 'up')\n",
      "('red', 'up')\n",
      "('blue', 'left')\n",
      "('red', 'left')\n",
      "('green', 'right')\n",
      "('yellow', 'down')\n",
      "('blue', 'up')\n",
      "('red', 'down')\n",
      "('blue', 'up')\n",
      "('red', 'left')\n",
      "('red', 'up')\n",
      "('red', 'left')\n",
      "('yellow', 'down')\n",
      "('blue', 'down')\n",
      "('green', 'left')\n",
      "('yellow', 'up')\n",
      "('blue', 'down')\n",
      "('green', 'down')\n",
      "('blue', 'down')\n",
      "('green', 'left')\n",
      "('blue', 'right')\n",
      "('green', 'up')\n",
      "('blue', 'down')\n",
      "('green', 'right')\n",
      "('yellow', 'down')\n",
      "('green', 'right')\n",
      "('yellow', 'left')\n",
      "('blue', 'up')\n",
      "('blue', 'up')\n",
      "('yellow', 'down')\n",
      "('yellow', 'left')\n",
      "('yellow', 'left')\n",
      "('blue', 'up')\n",
      "('yellow', 'up')\n",
      "('yellow', 'left')\n",
      "('green', 'down')\n",
      "('blue', 'left')\n",
      "('yellow', 'right')\n",
      "('green', 'left')\n",
      "('green', 'up')\n",
      "('yellow', 'left')\n",
      "('blue', 'left')\n",
      "('blue', 'left')\n",
      "('green', 'down')\n",
      "('green', 'left')\n",
      "('yellow', 'down')\n",
      "('blue', 'right')\n",
      "('green', 'up')\n",
      "('blue', 'right')\n",
      "('blue', 'down')\n",
      "('blue', 'down')\n",
      "('blue', 'left')\n",
      "('red', 'down')\n",
      "('blue', 'down')\n",
      "('yellow', 'up')\n",
      "('green', 'down')\n",
      "('green', 'left')\n",
      "('yellow', 'right')\n",
      "('blue', 'left')\n",
      "('green', 'up')\n",
      "('red', 'right')\n",
      "('red', 'up')\n",
      "('yellow', 'left')\n",
      "('yellow', 'down')\n",
      "('blue', 'up')\n",
      "('red', 'down')\n",
      "('blue', 'right')\n",
      "('red', 'down')\n",
      "('yellow', 'left')\n",
      "('red', 'left')\n",
      "('green', 'right')\n",
      "('blue', 'left')\n",
      "('yellow', 'left')\n",
      "('blue', 'down')\n",
      "('blue', 'right')\n",
      "('green', 'right')\n",
      "('blue', 'up')\n",
      "('red', 'up')\n",
      "('yellow', 'up')\n",
      "('blue', 'down')\n",
      "('blue', 'right')\n",
      "('blue', 'right')\n",
      "('blue', 'up')\n",
      "('blue', 'up')\n",
      "('blue', 'left')\n",
      "('red', 'right')\n",
      "('yellow', 'up')\n",
      "('blue', 'down')\n",
      "('blue', 'right')\n",
      "('blue', 'down')\n",
      "('green', 'left')\n",
      "('yellow', 'down')\n",
      "('red', 'right')\n",
      "('blue', 'left')\n",
      "('green', 'right')\n",
      "('yellow', 'up')\n",
      "('red', 'right')\n",
      "('red', 'up')\n",
      "('blue', 'left')\n",
      "('blue', 'left')\n",
      "('yellow', 'right')\n",
      "('yellow', 'down')\n",
      "('yellow', 'right')\n",
      "('red', 'down')\n",
      "('blue', 'right')\n",
      "('red', 'right')\n",
      "('yellow', 'up')\n",
      "('yellow', 'left')\n",
      "('blue', 'left')\n",
      "('green', 'right')\n",
      "('red', 'right')\n",
      "('yellow', 'right')\n",
      "('red', 'down')\n",
      "('green', 'left')\n",
      "('red', 'down')\n",
      "('green', 'left')\n",
      "('red', 'left')\n",
      "('green', 'left')\n",
      "('blue', 'right')\n",
      "('red', 'right')\n",
      "('yellow', 'up')\n",
      "('red', 'down')\n",
      "\n",
      "\n",
      "SEARCH SPACE STATS:\n",
      "Total nodes generated          =     4684  (includes start)\n",
      "Nodes discarded by loop_check  =      871  (3813 distinct states added to queue)\n",
      "Nodes tested (by goal_test)    =      415  (414 expanded + 1 goal)\n",
      "Nodes left in queue            =     3398\n",
      "\n",
      "Time taken = 0.307 seconds\n",
      "\n"
     ]
    }
   ],
   "source": [
    "small_DFR = search( small_puzzle, 'DF/LIFO', 30000, loop_check=True, randomise=True, return_info=True)\n",
    "large_DFR = search( large_puzzle, 'DF/LIFO', 30000, loop_check=True, randomise=True, return_info=True)"
   ]
  },
  {
   "cell_type": "markdown",
   "metadata": {},
   "source": [
    "### Best First"
   ]
  },
  {
   "cell_type": "markdown",
   "metadata": {},
   "source": [
    "We have now introduced the cost aspect of the search. This cost function is from Search Exercise 6"
   ]
  },
  {
   "cell_type": "code",
   "execution_count": 8,
   "metadata": {},
   "outputs": [
    {
     "name": "stdout",
     "output_type": "stream",
     "text": [
      "Solve the following sliding blocks problem.\n",
      "Get from this initial state:\n"
     ]
    },
    {
     "data": {
      "image/png": "[encoded data removed]",
      "text/plain": [
       "<Figure size 210x210 with 1 Axes>"
      ]
     },
     "metadata": {},
     "output_type": "display_data"
    },
    {
     "name": "stdout",
     "output_type": "stream",
     "text": [
      "To a state incorporating the following block position(s):\n"
     ]
    },
    {
     "data": {
      "image/png": "[encoded data removed]",
      "text/plain": [
       "<Figure size 210x210 with 1 Axes>"
      ]
     },
     "metadata": {},
     "output_type": "display_data"
    },
    {
     "name": "stdout",
     "output_type": "stream",
     "text": [
      "You need to slide the red block to cover the bottom right square.\n",
      "\n",
      "** Running Brandon's Search Algorithm **\n",
      "Strategy: mode=BF/FIFO, cost=cost, heuristic=None\n",
      "Max search nodes: 30000  (max number added to queue)\n",
      "Searching (will output '.' each 1000 goal_tests)\n",
      "\n",
      ":-)) *SUCCESS* ((-:\n",
      "\n",
      "Path length = 7\n",
      "Goal state is:\n"
     ]
    },
    {
     "data": {
      "image/png": "[encoded data removed]",
      "text/plain": [
       "<Figure size 210x210 with 1 Axes>"
      ]
     },
     "metadata": {},
     "output_type": "display_data"
    },
    {
     "name": "stdout",
     "output_type": "stream",
     "text": [
      "Cost of reaching goal: 7\n",
      "The action path to the solution is:\n",
      "('red', 'right')\n",
      "('red', 'down')\n",
      "('blue', 'left')\n",
      "('yellow', 'up')\n",
      "('yellow', 'up')\n",
      "('red', 'right')\n",
      "('red', 'down')\n",
      "\n",
      "\n",
      "SEARCH SPACE STATS:\n",
      "Total nodes generated          =     2134  (includes start)\n",
      "Nodes discarded by loop_check  =     1641  (493 distinct states added to queue)\n",
      "Nodes tested (by goal_test)    =      356  (355 expanded + 1 goal)\n",
      "Nodes left in queue            =      137\n",
      "\n",
      "Time taken = 0.0948 seconds\n",
      "\n",
      "Solve the following sliding blocks problem.\n",
      "Get from this initial state:\n"
     ]
    },
    {
     "data": {
      "image/png": "[encoded data removed]",
      "text/plain": [
       "<Figure size 360x310 with 1 Axes>"
      ]
     },
     "metadata": {},
     "output_type": "display_data"
    },
    {
     "name": "stdout",
     "output_type": "stream",
     "text": [
      "To a state incorporating the following block position(s):\n"
     ]
    },
    {
     "data": {
      "image/png": "[encoded data removed]",
      "text/plain": [
       "<Figure size 360x310 with 1 Axes>"
      ]
     },
     "metadata": {},
     "output_type": "display_data"
    },
    {
     "name": "stdout",
     "output_type": "stream",
     "text": [
      "You need to slide the red block to cover the bottom right square.\n",
      "\n",
      "** Running Brandon's Search Algorithm **\n",
      "Strategy: mode=BF/FIFO, cost=cost, heuristic=None\n",
      "Max search nodes: 30000  (max number added to queue)\n",
      "Searching (will output '.' each 1000 goal_tests)\n",
      "................\n",
      ":-)) *SUCCESS* ((-:\n",
      "\n",
      "Path length = 10\n",
      "Goal state is:\n"
     ]
    },
    {
     "data": {
      "image/png": "[encoded data removed]",
      "text/plain": [
       "<Figure size 360x310 with 1 Axes>"
      ]
     },
     "metadata": {},
     "output_type": "display_data"
    },
    {
     "name": "stdout",
     "output_type": "stream",
     "text": [
      "Cost of reaching goal: 10\n",
      "The action path to the solution is:\n",
      "('red', 'right')\n",
      "('red', 'right')\n",
      "('red', 'right')\n",
      "('red', 'right')\n",
      "('red', 'down')\n",
      "('red', 'down')\n",
      "('red', 'down')\n",
      "('red', 'down')\n",
      "('yellow', 'up')\n",
      "('red', 'right')\n",
      "\n",
      "\n",
      "SEARCH SPACE STATS:\n",
      "Total nodes generated          =   185417  (includes start)\n",
      "Nodes discarded by loop_check  =   158676  (26741 distinct states added to queue)\n",
      "Nodes tested (by goal_test)    =    16547  (16546 expanded + 1 goal)\n",
      "Nodes left in queue            =    10194\n",
      "\n",
      "Time taken = 8.438 seconds\n",
      "\n"
     ]
    }
   ],
   "source": [
    "def cost(path, state):\n",
    "        return len(path)\n",
    "\n",
    "small_cost = search(small_puzzle, 'BF/FIFO', 30000, cost=cost, loop_check=True, return_info=True)\n",
    "large_cost = search(large_puzzle, 'BF/FIFO', 30000, cost=cost, loop_check=True, return_info=True)"
   ]
  },
  {
   "cell_type": "markdown",
   "metadata": {},
   "source": [
    "### A* Algorithm"
   ]
  },
  {
   "cell_type": "markdown",
   "metadata": {},
   "source": [
    "This A* algorithm uses the cost function from before and now uses heuristics. This heuristic is from Search Exercise 7"
   ]
  },
  {
   "cell_type": "code",
   "execution_count": 9,
   "metadata": {},
   "outputs": [
    {
     "name": "stdout",
     "output_type": "stream",
     "text": [
      "Solve the following sliding blocks problem.\n",
      "Get from this initial state:\n"
     ]
    },
    {
     "data": {
      "image/png": "[encoded data removed]",
      "text/plain": [
       "<Figure size 210x210 with 1 Axes>"
      ]
     },
     "metadata": {},
     "output_type": "display_data"
    },
    {
     "name": "stdout",
     "output_type": "stream",
     "text": [
      "To a state incorporating the following block position(s):\n"
     ]
    },
    {
     "data": {
      "image/png": "[encoded data removed]",
      "text/plain": [
       "<Figure size 210x210 with 1 Axes>"
      ]
     },
     "metadata": {},
     "output_type": "display_data"
    },
    {
     "name": "stdout",
     "output_type": "stream",
     "text": [
      "You need to slide the red block to cover the bottom right square.\n",
      "\n",
      "** Running Brandon's Search Algorithm **\n",
      "Strategy: mode=DF/LIFO, cost=cost, heuristic=red_right_heuristic\n",
      "Max search nodes: 30000  (max number added to queue)\n",
      "Searching (will output '.' each 1000 goal_tests)\n",
      "\n",
      ":-)) *SUCCESS* ((-:\n",
      "\n",
      "Path length = 7\n",
      "Goal state is:\n"
     ]
    },
    {
     "data": {
      "image/png": "[encoded data removed]",
      "text/plain": [
       "<Figure size 210x210 with 1 Axes>"
      ]
     },
     "metadata": {},
     "output_type": "display_data"
    },
    {
     "name": "stdout",
     "output_type": "stream",
     "text": [
      "Cost of reaching goal: 7\n",
      "The action path to the solution is:\n",
      "('red', 'right')\n",
      "('yellow', 'up')\n",
      "('blue', 'left')\n",
      "('yellow', 'up')\n",
      "('red', 'down')\n",
      "('red', 'right')\n",
      "('red', 'down')\n",
      "\n",
      "\n",
      "SEARCH SPACE STATS:\n",
      "Total nodes generated          =     1163  (includes start)\n",
      "Nodes discarded by loop_check  =      860  (303 distinct states added to queue)\n",
      "Nodes tested (by goal_test)    =      196  (195 expanded + 1 goal)\n",
      "Nodes left in queue            =      107\n",
      "\n",
      "Time taken = 0.0676 seconds\n",
      "\n",
      "Solve the following sliding blocks problem.\n",
      "Get from this initial state:\n"
     ]
    },
    {
     "data": {
      "image/png": "[encoded data removed]",
      "text/plain": [
       "<Figure size 360x310 with 1 Axes>"
      ]
     },
     "metadata": {},
     "output_type": "display_data"
    },
    {
     "name": "stdout",
     "output_type": "stream",
     "text": [
      "To a state incorporating the following block position(s):\n"
     ]
    },
    {
     "data": {
      "image/png": "[encoded data removed]",
      "text/plain": [
       "<Figure size 360x310 with 1 Axes>"
      ]
     },
     "metadata": {},
     "output_type": "display_data"
    },
    {
     "name": "stdout",
     "output_type": "stream",
     "text": [
      "You need to slide the red block to cover the bottom right square.\n",
      "\n",
      "** Running Brandon's Search Algorithm **\n",
      "Strategy: mode=DF/LIFO, cost=cost, heuristic=red_right_heuristic\n",
      "Max search nodes: 30000  (max number added to queue)\n",
      "Searching (will output '.' each 1000 goal_tests)\n",
      "..\n",
      ":-)) *SUCCESS* ((-:\n",
      "\n",
      "Path length = 10\n",
      "Goal state is:\n"
     ]
    },
    {
     "data": {
      "image/png": "[encoded data removed]",
      "text/plain": [
       "<Figure size 360x310 with 1 Axes>"
      ]
     },
     "metadata": {},
     "output_type": "display_data"
    },
    {
     "name": "stdout",
     "output_type": "stream",
     "text": [
      "Cost of reaching goal: 10\n",
      "The action path to the solution is:\n",
      "('red', 'right')\n",
      "('red', 'right')\n",
      "('red', 'right')\n",
      "('red', 'right')\n",
      "('red', 'down')\n",
      "('red', 'down')\n",
      "('red', 'down')\n",
      "('red', 'down')\n",
      "('yellow', 'up')\n",
      "('red', 'right')\n",
      "\n",
      "\n",
      "SEARCH SPACE STATS:\n",
      "Total nodes generated          =    21361  (includes start)\n",
      "Nodes discarded by loop_check  =    16783  (4578 distinct states added to queue)\n",
      "Nodes tested (by goal_test)    =     2052  (2051 expanded + 1 goal)\n",
      "Nodes left in queue            =     2526\n",
      "\n",
      "Time taken = 0.8687 seconds\n",
      "\n"
     ]
    }
   ],
   "source": [
    "def red_right_heuristic(state):\n",
    "    for row in state.blockstate:\n",
    "      for i, col in enumerate(row):\n",
    "          if col == 1:\n",
    "            return 6-i\n",
    "\n",
    "small_A = search( small_puzzle, 'DF/LIFO', 30000, loop_check=True, randomise=True, return_info=True, cost=cost, heuristic=red_right_heuristic)\n",
    "large_A = search( large_puzzle, 'DF/LIFO', 30000, loop_check=True, randomise=True, return_info=True, cost=cost, heuristic=red_right_heuristic)\n"
   ]
  },
  {
   "cell_type": "markdown",
   "metadata": {},
   "source": [
    "#### Heuristics"
   ]
  },
  {
   "cell_type": "markdown",
   "metadata": {},
   "source": [
    "Continuing to look at the impact of heuristics within A* algorithm, we have chosen to look at the *Manhattan Distance Heuristic* which calculates the sum of horizontal and vertical distances of the block from goal state."
   ]
  },
  {
   "cell_type": "code",
   "execution_count": 10,
   "metadata": {},
   "outputs": [
    {
     "name": "stdout",
     "output_type": "stream",
     "text": [
      "Solve the following sliding blocks problem.\n",
      "Get from this initial state:\n"
     ]
    },
    {
     "data": {
      "image/png": "[encoded data removed]",
      "text/plain": [
       "<Figure size 210x210 with 1 Axes>"
      ]
     },
     "metadata": {},
     "output_type": "display_data"
    },
    {
     "name": "stdout",
     "output_type": "stream",
     "text": [
      "To a state incorporating the following block position(s):\n"
     ]
    },
    {
     "data": {
      "image/png": "[encoded data removed]",
      "text/plain": [
       "<Figure size 210x210 with 1 Axes>"
      ]
     },
     "metadata": {},
     "output_type": "display_data"
    },
    {
     "name": "stdout",
     "output_type": "stream",
     "text": [
      "You need to slide the red block to cover the bottom right square.\n",
      "\n",
      "** Running Brandon's Search Algorithm **\n",
      "Strategy: mode=DF/LIFO, cost=cost, heuristic=manhattan_heuristic\n",
      "Max search nodes: 30000  (max number added to queue)\n",
      "Searching (will output '.' each 1000 goal_tests)\n",
      "\n",
      ":-)) *SUCCESS* ((-:\n",
      "\n",
      "Path length = 7\n",
      "Goal state is:\n"
     ]
    },
    {
     "data": {
      "image/png": "[encoded data removed]",
      "text/plain": [
       "<Figure size 210x210 with 1 Axes>"
      ]
     },
     "metadata": {},
     "output_type": "display_data"
    },
    {
     "name": "stdout",
     "output_type": "stream",
     "text": [
      "Cost of reaching goal: 7\n",
      "The action path to the solution is:\n",
      "('red', 'down')\n",
      "('red', 'right')\n",
      "('blue', 'left')\n",
      "('yellow', 'up')\n",
      "('yellow', 'up')\n",
      "('red', 'right')\n",
      "('red', 'down')\n",
      "\n",
      "\n",
      "SEARCH SPACE STATS:\n",
      "Total nodes generated          =      151  (includes start)\n",
      "Nodes discarded by loop_check  =       71  (80 distinct states added to queue)\n",
      "Nodes tested (by goal_test)    =       29  (28 expanded + 1 goal)\n",
      "Nodes left in queue            =       51\n",
      "\n",
      "Time taken = 0.0301 seconds\n",
      "\n",
      "Solve the following sliding blocks problem.\n",
      "Get from this initial state:\n"
     ]
    },
    {
     "data": {
      "image/png": "[encoded data removed]",
      "text/plain": [
       "<Figure size 360x310 with 1 Axes>"
      ]
     },
     "metadata": {},
     "output_type": "display_data"
    },
    {
     "name": "stdout",
     "output_type": "stream",
     "text": [
      "To a state incorporating the following block position(s):\n"
     ]
    },
    {
     "data": {
      "image/png": "[encoded data removed]",
      "text/plain": [
       "<Figure size 360x310 with 1 Axes>"
      ]
     },
     "metadata": {},
     "output_type": "display_data"
    },
    {
     "name": "stdout",
     "output_type": "stream",
     "text": [
      "You need to slide the red block to cover the bottom right square.\n",
      "\n",
      "** Running Brandon's Search Algorithm **\n",
      "Strategy: mode=DF/LIFO, cost=cost, heuristic=manhattan_heuristic\n",
      "Max search nodes: 30000  (max number added to queue)\n",
      "Searching (will output '.' each 1000 goal_tests)\n",
      "\n",
      ":-)) *SUCCESS* ((-:\n",
      "\n",
      "Path length = 11\n",
      "Goal state is:\n"
     ]
    },
    {
     "data": {
      "image/png": "[encoded data removed]",
      "text/plain": [
       "<Figure size 360x310 with 1 Axes>"
      ]
     },
     "metadata": {},
     "output_type": "display_data"
    },
    {
     "name": "stdout",
     "output_type": "stream",
     "text": [
      "Cost of reaching goal: 11\n",
      "The action path to the solution is:\n",
      "('red', 'right')\n",
      "('red', 'down')\n",
      "('red', 'right')\n",
      "('red', 'right')\n",
      "('red', 'right')\n",
      "('red', 'right')\n",
      "('red', 'down')\n",
      "('yellow', 'left')\n",
      "('yellow', 'left')\n",
      "('red', 'down')\n",
      "('red', 'down')\n",
      "\n",
      "\n",
      "SEARCH SPACE STATS:\n",
      "Total nodes generated          =      163  (includes start)\n",
      "Nodes discarded by loop_check  =       43  (120 distinct states added to queue)\n",
      "Nodes tested (by goal_test)    =       20  (19 expanded + 1 goal)\n",
      "Nodes left in queue            =      100\n",
      "\n",
      "Time taken = 0.0653 seconds\n",
      "\n"
     ]
    }
   ],
   "source": [
    "def manhattan_heuristic(state):\n",
    "    goal_r, goal_c = len(state.blockstate) - 1, len(state.blockstate[0]) - 1  # Bottom-right corner\n",
    "    \n",
    "    total = 0\n",
    "    for row in range(state.nrows):\n",
    "        for col in range(state.ncols):\n",
    "            if state.blockstate[row][col] == 1:  # Find red block tiles\n",
    "                total += abs(goal_r - row) + abs(goal_c - col)\n",
    "    \n",
    "    return total\n",
    "\n",
    "small_manhattan = search( small_puzzle, 'DF/LIFO', 30000, loop_check=True, randomise=True, return_info=True, cost=cost, heuristic=manhattan_heuristic)\n",
    "large_manhattan = search( large_puzzle, 'DF/LIFO', 30000, loop_check=True, randomise=True, return_info=True, cost=cost, heuristic=manhattan_heuristic)"
   ]
  },
  {
   "cell_type": "markdown",
   "metadata": {},
   "source": [
    "Another heuristic we wanted to test is the calculation of free space around the goal position, making use of Manhattan Distance."
   ]
  },
  {
   "cell_type": "code",
   "execution_count": 11,
   "metadata": {},
   "outputs": [
    {
     "name": "stdout",
     "output_type": "stream",
     "text": [
      "Solve the following sliding blocks problem.\n",
      "Get from this initial state:\n"
     ]
    },
    {
     "data": {
      "image/png": "[encoded data removed]",
      "text/plain": [
       "<Figure size 210x210 with 1 Axes>"
      ]
     },
     "metadata": {},
     "output_type": "display_data"
    },
    {
     "name": "stdout",
     "output_type": "stream",
     "text": [
      "To a state incorporating the following block position(s):\n"
     ]
    },
    {
     "data": {
      "image/png": "[encoded data removed]",
      "text/plain": [
       "<Figure size 210x210 with 1 Axes>"
      ]
     },
     "metadata": {},
     "output_type": "display_data"
    },
    {
     "name": "stdout",
     "output_type": "stream",
     "text": [
      "You need to slide the red block to cover the bottom right square.\n",
      "\n",
      "** Running Brandon's Search Algorithm **\n",
      "Strategy: mode=DF/LIFO, cost=cost, heuristic=free_space_heuristic\n",
      "Max search nodes: 30000  (max number added to queue)\n",
      "Searching (will output '.' each 1000 goal_tests)\n",
      "\n",
      ":-)) *SUCCESS* ((-:\n",
      "\n",
      "Path length = 7\n",
      "Goal state is:\n"
     ]
    },
    {
     "data": {
      "image/png": "[encoded data removed]",
      "text/plain": [
       "<Figure size 210x210 with 1 Axes>"
      ]
     },
     "metadata": {},
     "output_type": "display_data"
    },
    {
     "name": "stdout",
     "output_type": "stream",
     "text": [
      "Cost of reaching goal: 7\n",
      "The action path to the solution is:\n",
      "('yellow', 'up')\n",
      "('blue', 'left')\n",
      "('yellow', 'up')\n",
      "('red', 'right')\n",
      "('red', 'down')\n",
      "('red', 'right')\n",
      "('red', 'down')\n",
      "\n",
      "\n",
      "SEARCH SPACE STATS:\n",
      "Total nodes generated          =     1006  (includes start)\n",
      "Nodes discarded by loop_check  =      707  (299 distinct states added to queue)\n",
      "Nodes tested (by goal_test)    =      169  (168 expanded + 1 goal)\n",
      "Nodes left in queue            =      130\n",
      "\n",
      "Time taken = 0.0501 seconds\n",
      "\n",
      "Solve the following sliding blocks problem.\n",
      "Get from this initial state:\n"
     ]
    },
    {
     "data": {
      "image/png": "[encoded data removed]",
      "text/plain": [
       "<Figure size 360x310 with 1 Axes>"
      ]
     },
     "metadata": {},
     "output_type": "display_data"
    },
    {
     "name": "stdout",
     "output_type": "stream",
     "text": [
      "To a state incorporating the following block position(s):\n"
     ]
    },
    {
     "data": {
      "image/png": "[encoded data removed]",
      "text/plain": [
       "<Figure size 360x310 with 1 Axes>"
      ]
     },
     "metadata": {},
     "output_type": "display_data"
    },
    {
     "name": "stdout",
     "output_type": "stream",
     "text": [
      "You need to slide the red block to cover the bottom right square.\n",
      "\n",
      "** Running Brandon's Search Algorithm **\n",
      "Strategy: mode=DF/LIFO, cost=cost, heuristic=free_space_heuristic\n",
      "Max search nodes: 30000  (max number added to queue)\n",
      "Searching (will output '.' each 1000 goal_tests)\n",
      "....\n",
      ":-)) *SUCCESS* ((-:\n",
      "\n",
      "Path length = 11\n",
      "Goal state is:\n"
     ]
    },
    {
     "data": {
      "image/png": "[encoded data removed]",
      "text/plain": [
       "<Figure size 360x310 with 1 Axes>"
      ]
     },
     "metadata": {},
     "output_type": "display_data"
    },
    {
     "name": "stdout",
     "output_type": "stream",
     "text": [
      "Cost of reaching goal: 11\n",
      "The action path to the solution is:\n",
      "('red', 'down')\n",
      "('red', 'right')\n",
      "('yellow', 'up')\n",
      "('red', 'right')\n",
      "('yellow', 'up')\n",
      "('red', 'right')\n",
      "('red', 'down')\n",
      "('red', 'down')\n",
      "('red', 'down')\n",
      "('red', 'right')\n",
      "('red', 'right')\n",
      "\n",
      "\n",
      "SEARCH SPACE STATS:\n",
      "Total nodes generated          =    43571  (includes start)\n",
      "Nodes discarded by loop_check  =    33701  (9870 distinct states added to queue)\n",
      "Nodes tested (by goal_test)    =     4069  (4068 expanded + 1 goal)\n",
      "Nodes left in queue            =     5801\n",
      "\n",
      "Time taken = 1.6526 seconds\n",
      "\n"
     ]
    }
   ],
   "source": [
    "def free_space_heuristic(state):\n",
    "    goal_r, goal_c = len(state.blockstate) - 1, len(state.blockstate[0]) - 1\n",
    "    \n",
    "    red_block_pos = None\n",
    "    for r in range(len(state.blockstate)):\n",
    "        for c in range(len(state.blockstate[r])):\n",
    "            if state.blockstate[r][c] == 1:  # red block position\n",
    "                red_block_pos = (r, c)\n",
    "                break\n",
    "        if red_block_pos:\n",
    "            break\n",
    "    \n",
    "    # calculate the manhattan distance from red block to the goal\n",
    "    red_r, red_c = red_block_pos\n",
    "    manhattan_distance = abs(red_r - goal_r) + abs(red_c - goal_c)\n",
    "    \n",
    "    # count empty spaces around the goal\n",
    "    empty_spaces = 0\n",
    "    for dr in [-1, 0, 1]:  # check above, same row, and below\n",
    "        for dc in [-1, 0, 1]:  # check left, same column, and right\n",
    "            r, c = goal_r + dr, goal_c + dc\n",
    "            if 0 <= r < len(state.blockstate) and 0 <= c < len(state.blockstate[0]):\n",
    "                if state.blockstate[r][c] == 0:  # empty space\n",
    "                    empty_spaces += 1 # more empty spaces = lower heuristic value\n",
    "    \n",
    "    return manhattan_distance - empty_spaces\n",
    "\n",
    "small_free_space = search( small_puzzle, 'DF/LIFO', 30000, loop_check=True, randomise=True, return_info=True, cost=cost, heuristic=free_space_heuristic)\n",
    "large_free_space = search( large_puzzle, 'DF/LIFO', 30000, loop_check=True, randomise=True, return_info=True, cost=cost, heuristic=free_space_heuristic)"
   ]
  },
  {
   "cell_type": "markdown",
   "metadata": {},
   "source": [
    "This heuristic encourages the movement of the red block *diagonally* towards the goal state. This however does not take into account any puzzles in which an obstacle occurs in the path towards the goal."
   ]
  },
  {
   "cell_type": "code",
   "execution_count": 12,
   "metadata": {},
   "outputs": [
    {
     "name": "stdout",
     "output_type": "stream",
     "text": [
      "Solve the following sliding blocks problem.\n",
      "Get from this initial state:\n"
     ]
    },
    {
     "data": {
      "image/png": "[encoded data removed]",
      "text/plain": [
       "<Figure size 210x210 with 1 Axes>"
      ]
     },
     "metadata": {},
     "output_type": "display_data"
    },
    {
     "name": "stdout",
     "output_type": "stream",
     "text": [
      "To a state incorporating the following block position(s):\n"
     ]
    },
    {
     "data": {
      "image/png": "[encoded data removed]",
      "text/plain": [
       "<Figure size 210x210 with 1 Axes>"
      ]
     },
     "metadata": {},
     "output_type": "display_data"
    },
    {
     "name": "stdout",
     "output_type": "stream",
     "text": [
      "You need to slide the red block to cover the bottom right square.\n",
      "\n",
      "** Running Brandon's Search Algorithm **\n",
      "Strategy: mode=DF/LIFO, cost=cost, heuristic=red_diagonal_heuristic\n",
      "Max search nodes: 30000  (max number added to queue)\n",
      "Searching (will output '.' each 1000 goal_tests)\n",
      "\n",
      ":-)) *SUCCESS* ((-:\n",
      "\n",
      "Path length = 7\n",
      "Goal state is:\n"
     ]
    },
    {
     "data": {
      "image/png": "[encoded data removed]",
      "text/plain": [
       "<Figure size 210x210 with 1 Axes>"
      ]
     },
     "metadata": {},
     "output_type": "display_data"
    },
    {
     "name": "stdout",
     "output_type": "stream",
     "text": [
      "Cost of reaching goal: 7\n",
      "The action path to the solution is:\n",
      "('red', 'down')\n",
      "('red', 'right')\n",
      "('yellow', 'up')\n",
      "('blue', 'left')\n",
      "('yellow', 'up')\n",
      "('red', 'right')\n",
      "('red', 'down')\n",
      "\n",
      "\n",
      "SEARCH SPACE STATS:\n",
      "Total nodes generated          =     1236  (includes start)\n",
      "Nodes discarded by loop_check  =      926  (310 distinct states added to queue)\n",
      "Nodes tested (by goal_test)    =      200  (199 expanded + 1 goal)\n",
      "Nodes left in queue            =      110\n",
      "\n",
      "Time taken = 0.0619 seconds\n",
      "\n",
      "Solve the following sliding blocks problem.\n",
      "Get from this initial state:\n"
     ]
    },
    {
     "data": {
      "image/png": "[encoded data removed]",
      "text/plain": [
       "<Figure size 360x310 with 1 Axes>"
      ]
     },
     "metadata": {},
     "output_type": "display_data"
    },
    {
     "name": "stdout",
     "output_type": "stream",
     "text": [
      "To a state incorporating the following block position(s):\n"
     ]
    },
    {
     "data": {
      "image/png": "[encoded data removed]",
      "text/plain": [
       "<Figure size 360x310 with 1 Axes>"
      ]
     },
     "metadata": {},
     "output_type": "display_data"
    },
    {
     "name": "stdout",
     "output_type": "stream",
     "text": [
      "You need to slide the red block to cover the bottom right square.\n",
      "\n",
      "** Running Brandon's Search Algorithm **\n",
      "Strategy: mode=DF/LIFO, cost=cost, heuristic=red_diagonal_heuristic\n",
      "Max search nodes: 30000  (max number added to queue)\n",
      "Searching (will output '.' each 1000 goal_tests)\n",
      ".\n",
      ":-)) *SUCCESS* ((-:\n",
      "\n",
      "Path length = 10\n",
      "Goal state is:\n"
     ]
    },
    {
     "data": {
      "image/png": "[encoded data removed]",
      "text/plain": [
       "<Figure size 360x310 with 1 Axes>"
      ]
     },
     "metadata": {},
     "output_type": "display_data"
    },
    {
     "name": "stdout",
     "output_type": "stream",
     "text": [
      "Cost of reaching goal: 10\n",
      "The action path to the solution is:\n",
      "('red', 'right')\n",
      "('red', 'right')\n",
      "('red', 'down')\n",
      "('red', 'down')\n",
      "('red', 'right')\n",
      "('red', 'down')\n",
      "('red', 'right')\n",
      "('red', 'down')\n",
      "('yellow', 'up')\n",
      "('red', 'right')\n",
      "\n",
      "\n",
      "SEARCH SPACE STATS:\n",
      "Total nodes generated          =    14834  (includes start)\n",
      "Nodes discarded by loop_check  =    11555  (3279 distinct states added to queue)\n",
      "Nodes tested (by goal_test)    =     1343  (1342 expanded + 1 goal)\n",
      "Nodes left in queue            =     1936\n",
      "\n",
      "Time taken = 0.591 seconds\n",
      "\n"
     ]
    }
   ],
   "source": [
    "def red_diagonal_heuristic(state):\n",
    "    for r, row in enumerate(state.blockstate):\n",
    "        for c, col in enumerate(row):\n",
    "            if col == 1:\n",
    "                vertical = len(state.blockstate) - r\n",
    "                horizontal = len(row) - c\n",
    "                return vertical if vertical > horizontal else horizontal\n",
    "    return 0\n",
    "\n",
    "small_diagonal_right = search( small_puzzle, 'DF/LIFO', 30000, loop_check=True, randomise=True, return_info=True, cost=cost, heuristic=red_diagonal_heuristic)\n",
    "large_diagonal_right = search( large_puzzle, 'DF/LIFO', 30000, loop_check=True, randomise=True, return_info=True, cost=cost, heuristic=red_diagonal_heuristic)"
   ]
  },
  {
   "cell_type": "markdown",
   "metadata": {},
   "source": [
    "### Results"
   ]
  },
  {
   "cell_type": "markdown",
   "metadata": {},
   "source": [
    "This table shows a summary of every test that was just performed and it is from Search Exercise 7. From the results, all the large tests failed with the low node limit of 5000. The A* algorithm included uses the red_right_heuristics - further results on heuristics below this."
   ]
  },
  {
   "cell_type": "code",
   "execution_count": 13,
   "metadata": {},
   "outputs": [
    {
     "name": "stdout",
     "output_type": "stream",
     "text": [
      "\n",
      "                **TESTS SUMMARY**\n",
      "\n",
      "Test    #max   Result   #gen     #inQ    Time s\n",
      "  0:    30000    Y      2134      137     0.1 \n",
      "  1:    30000    Y    185417    10194     9.24 \n",
      "  2:    30000    Y       472      192     0.06 \n",
      "  3:    30000    !     43931    26018     5.32 \n",
      "  4:    35000    Y      8697     6323     1.67 \n",
      "  5:    30000    Y       400      176     0.06 \n",
      "  6:    30000    Y      4684     3398     0.31 \n",
      "  7:    30000    Y      1163      107     0.07 \n",
      "  8:    30000    Y     21361     2526     0.87 \n"
     ]
    }
   ],
   "source": [
    "TEST_RESULTS =[small_search, large_search, small_Df, large_DF, large_DF2, small_DFR, large_DFR,small_A, large_A]\n",
    "\n",
    "# Specify symbols for termination conditions:\n",
    "short_tc = {\"GOAL_STATE_FOUND\"     : \"Y\",\n",
    "            \"NODE_LIMIT_EXCEEDED\"  : \"!\",\n",
    "            \"SEARH-SPACE_EXHAUSTED\": \"x\"}\n",
    "\n",
    "print(\"\\n                **TESTS SUMMARY**\\n\")\n",
    "\n",
    "print(\"Test    #max   Result   #gen     #inQ    Time s\")\n",
    "for i, test in enumerate(TEST_RESULTS):\n",
    "    max  = test['args']['max_nodes']\n",
    "    tc  = test['result']['termination_condition']\n",
    "    stc = short_tc[tc]\n",
    "\n",
    "    ng  = test['search_stats']['nodes_generated']\n",
    "    nq  = test['search_stats']['nodes_left_in_queue']\n",
    "    time = round( test['search_stats']['time_taken'], 2 )\n",
    "    print( f\"{i:>3}: {max:>8}    {stc}  {ng:>8} {nq:>8}     {time} \")"
   ]
  },
  {
   "cell_type": "markdown",
   "metadata": {},
   "source": [
    "Here is a summary of results where heuristics were used."
   ]
  },
  {
   "cell_type": "code",
   "execution_count": 14,
   "metadata": {},
   "outputs": [
    {
     "name": "stdout",
     "output_type": "stream",
     "text": [
      "\n",
      "                **TESTS SUMMARY**\n",
      "\n",
      "Test    #max   Result   #gen     #inQ    Time s\n",
      "  0:    30000    Y      1163      107     0.07 \n",
      "  1:    30000    Y     21361     2526     0.87 \n",
      "  2:    30000    Y       151       51     0.03 \n",
      "  3:    30000    Y       163      100     0.07 \n",
      "  4:    30000    Y      1006      130     0.05 \n",
      "  5:    30000    Y     43571     5801     1.65 \n",
      "  6:    30000    Y      1236      110     0.06 \n",
      "  7:    30000    Y     14834     1936     0.59 \n"
     ]
    }
   ],
   "source": [
    "TEST_RESULTS =[small_A, large_A, small_manhattan, large_manhattan, small_free_space, large_free_space, small_diagonal_right, large_diagonal_right]\n",
    "\n",
    "# Specify symbols for termination conditions:\n",
    "short_tc = {\"GOAL_STATE_FOUND\"     : \"Y\",\n",
    "            \"NODE_LIMIT_EXCEEDED\"  : \"!\",\n",
    "            \"SEARH-SPACE_EXHAUSTED\": \"x\"}\n",
    "\n",
    "print(\"\\n                **TESTS SUMMARY**\\n\")\n",
    "\n",
    "print(\"Test    #max   Result   #gen     #inQ    Time s\")\n",
    "for i, test in enumerate(TEST_RESULTS):\n",
    "    max  = test['args']['max_nodes']\n",
    "    tc  = test['result']['termination_condition']\n",
    "    stc = short_tc[tc]\n",
    "\n",
    "    ng  = test['search_stats']['nodes_generated']\n",
    "    nq  = test['search_stats']['nodes_left_in_queue']\n",
    "    time = round( test['search_stats']['time_taken'], 2 )\n",
    "    print( f\"{i:>3}: {max:>8}    {stc}  {ng:>8} {nq:>8}     {time} \")"
   ]
  },
  {
   "cell_type": "markdown",
   "metadata": {},
   "source": [
    "### Observations"
   ]
  },
  {
   "cell_type": "markdown",
   "metadata": {},
   "source": [
    "## Part B"
   ]
  },
  {
   "cell_type": "markdown",
   "metadata": {},
   "source": [
    "### Scenario"
   ]
  },
  {
   "cell_type": "markdown",
   "metadata": {},
   "source": [
    "............."
   ]
  },
  {
   "cell_type": "markdown",
   "metadata": {},
   "source": [
    "### Implementation"
   ]
  },
  {
   "cell_type": "code",
   "execution_count": 15,
   "metadata": {},
   "outputs": [],
   "source": [
    "def parcel_heuristic(parcel):\n",
    "    \"\"\"Compute a score for each parcel to prioritize selection.\"\"\"\n",
    "    is_first_class = 1 if parcel.priority == 1 else 0\n",
    "    is_stored_long = 1 if parcel.storage_days() >= 3 else 0\n",
    "    return (10 * is_first_class) + (5 * is_stored_long)"
   ]
  },
  {
   "cell_type": "code",
   "execution_count": 46,
   "metadata": {},
   "outputs": [],
   "source": [
    "from copy import deepcopy\n",
    "from datetime import datetime, timedelta\n",
    "import random\n",
    "\n",
    "# Generate random date within the last 7 days\n",
    "def generate_random_date():\n",
    "    days_ago = random.randint(1, 7)\n",
    "    return datetime.now() - timedelta(days=days_ago)\n",
    "\n",
    "# Helper function to find the least full conveyor belt\n",
    "def least_full_belt(conveyor_belts):\n",
    "    return min(conveyor_belts, key=lambda cb: len(cb.parcels))\n",
    "\n",
    "class Parcel:\n",
    "    def __init__(self, parcel_id, date, priority):\n",
    "        self.parcel_id = parcel_id\n",
    "        self.date = datetime.strptime(date, '%Y-%m-%d') # convert string to datetime object\n",
    "        self.priority = priority # 1 = first class, 2 = second class\n",
    "\n",
    "    def __repr__(self):\n",
    "        return f\"({self.parcel_id}, {self.date.strftime('%Y-%m-%d')}, {self.priority})\"\n",
    "    \n",
    "    def storage_days(self):\n",
    "        return (datetime.now() - self.date).days\n",
    "\n",
    "class Robot:\n",
    "    def __init__(self, location, carried_parcels=None):\n",
    "        if carried_parcels is None:\n",
    "            carried_parcels = []\n",
    "        self.location = location\n",
    "        self.carried_parcels = carried_parcels\n",
    "\n",
    "    def __repr__(self):\n",
    "        return f\"Robot at {self.location}, Carrying: {self.carried_parcels}\"\n",
    "\n",
    "class ConveyorBelt:\n",
    "    def __init__(self, name):\n",
    "        capacity = 100\n",
    "        self.name = name\n",
    "        self.parcels = []\n",
    "        self.initial_capacity = capacity\n",
    "        self.capacity = capacity\n",
    "\n",
    "    def __repr__(self):\n",
    "        return f\"{self.name}: {self.parcels}, Capacity: {self.capacity}%\"\n",
    "    \n",
    "    def add_parcel(self, parcel):\n",
    "        \"\"\"Add a parcel to the conveyor if there's space.\"\"\"\n",
    "        if self.capacity > 0:\n",
    "            self.parcels.append(parcel)\n",
    "            self.capacity -= int(self.initial_capacity * 0.1)  # decrease capacity by 10% of the initial capacity\n",
    "        else:\n",
    "            print(f\"{self.name} is full! Cannot add {parcel.parcel_id}.\")\n",
    "    \n",
    "\n",
    "class State:\n",
    "    def __init__(self, robot, conveyor_belts, storage_room):\n",
    "        self.robot = robot\n",
    "        self.conveyor_belts = conveyor_belts\n",
    "        self.storage_room = storage_room\n",
    "\n",
    "\n",
    "    def __repr__(self):\n",
    "        return f\"Robot: {self.robot}, Storage: {self.storage_room}, Belts: {self.conveyor_belts}, Carried: {self.carried_parcels}\"\n",
    "    \n",
    "\n",
    "# randomised parcels\n",
    "STORAGE_ROOM = [\n",
    "    Parcel(str(i), generate_random_date().strftime('%Y-%m-%d'), random.choice([1, 2]))\n",
    "    for i in range(101, 133)\n",
    "]\n",
    "\n",
    "CONVEYOR_BELTS = [\n",
    "    ConveyorBelt('conveyorA'),\n",
    "    ConveyorBelt('conveyorB'),\n",
    "    ConveyorBelt('conveyorC')\n",
    "]\n",
    "\n",
    "class RobotWorker(SearchProblem):\n",
    "    def __init__(self, state, remaining_parcels):\n",
    "        self.initial_state = state\n",
    "        self.remaining_parcels = remaining_parcels\n",
    "\n",
    "    # def possible_actions(self, state):\n",
    "    #     actions = []\n",
    "\n",
    "    #     # pick up parcels from storage using heuristic\n",
    "    #     if state.robot.location == 'storage room' and (len(state.robot.carried_parcels) == 0):\n",
    "    #         sorted_parcels = sorted(state.storage_room, key=parcel_heuristic, reverse=True)\n",
    "    #         for i in range(0, len(sorted_parcels)-1):\n",
    "    #             if i < 5:\n",
    "    #                 actions.append((\"pick up\", sorted_parcels[i]))\n",
    "\n",
    "    #     # drop off parcels at conveyor belts\n",
    "    #     for parcel in state.robot.carried_parcels:\n",
    "    #         least_full = least_full_belt(state.conveyor_belts)\n",
    "    #         if least_full.capacity > 0:\n",
    "    #             print(f\"\\nMoving parcel {parcel.parcel_id} (Priority: {parcel.priority}, Date: {parcel.date}) to {least_full.name}\")\n",
    "    #             state.storage_room.remove(parcel)  # Remove parcel from storage\n",
    "    #             least_full.add_parcel(parcel)  # Add parcel to the conveyor\n",
    "    #         else:\n",
    "    #             print(f\"!!!All conveyors are full!!! Returning parcel {parcel.parcel_id} to storage.\")\n",
    "    #             state.storage_room.append(parcel)  # Return parcel to storage if all belts are full\n",
    "\n",
    "    #     # move between locations\n",
    "    #     for cb in state.conveyor_belts:\n",
    "    #         actions.append((\"move to\", cb.name))\n",
    "    #     actions.append((\"move to\", 'storage room'))\n",
    "\n",
    "    #     return actions\n",
    "    \n",
    "    def possible_actions(self, state):\n",
    "        actions = []\n",
    "\n",
    "        # pick up parcels from storage using heuristic\n",
    "        if state.robot.location == 'storage room' and (len(state.robot.carried_parcels) < 5):\n",
    "            sorted_parcels = sorted(state.storage_room, key=parcel_heuristic, reverse=True)\n",
    "            for i in range(min(5, len(sorted_parcels))):  # Limit to picking up up to 5 parcels\n",
    "                actions.append((\"pick up\", sorted_parcels[i]))\n",
    "\n",
    "        # drop off parcels at conveyor belts\n",
    "        for parcel in state.robot.carried_parcels:\n",
    "            least_full = least_full_belt(state.conveyor_belts)\n",
    "            if least_full.capacity > 0:\n",
    "                actions.append((\"drop off\", parcel))  # drop off parcel at the least full conveyor belt\n",
    "\n",
    "        # move between locations (storage room to conveyors)\n",
    "        if state.robot.location == 'storage room':\n",
    "            for cb in state.conveyor_belts:\n",
    "                actions.append((\"move to\", cb.name))  # move to conveyor belts\n",
    "        elif state.robot.location in [cb.name for cb in state.conveyor_belts]:\n",
    "            actions.append((\"move to\", 'storage room'))  # move back to storage room\n",
    "\n",
    "        return actions\n",
    "\n",
    "\n",
    "    # def successor(self, state, action):\n",
    "    #     next_state = deepcopy(state)\n",
    "    #     act, target = action\n",
    "        \n",
    "    #     if act == \"pick up\":\n",
    "    #         next_state.robot.carried_parcels.append(target)\n",
    "    #         # next_state.storage_room.remove(target)\n",
    "    #         if target.parcel_id in [p.parcel_id for p in state.storage_room]:\n",
    "    #             state.storage_room.remove(target)\n",
    "    #         else:\n",
    "    #             print(f\"Parcel {target.parcel_id} not in storage.\")\n",
    "    #         print(f\"\\nRobot picks up parcel {target.parcel_id} from storage.\")\n",
    "\n",
    "    #     elif act == \"drop off\":\n",
    "    #         next_state.robot.carried_parcels.remove(target)\n",
    "    #         best_belt = least_full_belt(next_state.conveyor_belts)\n",
    "    #         if best_belt.add_parcel(target):\n",
    "    #             print(f\"\\nRobot drops off parcel {target.parcel_id} at {best_belt.name}.\")\n",
    "    #         else:\n",
    "    #             print(f\"\\nAll conveyors full! Returning {target.parcel_id} to storage.\")\n",
    "    #             next_state.storage_room.add(target)\n",
    "\n",
    "    #     elif act == \"move to\":\n",
    "    #         next_state.robot.location = target\n",
    "    #         print(f\"\\nRobot moves to {target}.\")\n",
    "\n",
    "    #     return next_state\n",
    "    \n",
    "    def successor(self, state, action):\n",
    "        next_state = deepcopy(state)\n",
    "        act, target = action\n",
    "\n",
    "        print(STORAGE_ROOM)\n",
    "        \n",
    "        if act == \"pick up\":\n",
    "            matching_parcel = next((p for p in next_state.storage_room if p.parcel_id == target.parcel_id), None)\n",
    "            if matching_parcel:\n",
    "                next_state.robot.carried_parcels.append(matching_parcel)  # Append, not overwrite\n",
    "                next_state.storage_room.remove(matching_parcel)  # Remove from storage\n",
    "                print(f\"\\nRobot picks up parcel {matching_parcel.parcel_id} from storage.\")\n",
    "                print(f\"Updated carried parcels: {[p.parcel_id for p in next_state.robot.carried_parcels]}\")\n",
    "                print(f\"Remaining in storage: {[p.parcel_id for p in next_state.storage_room]}\")\n",
    "            else:\n",
    "                print(f\"Parcel {target.parcel_id} not found in storage.\")\n",
    "\n",
    "\n",
    "        elif act == \"drop off\":\n",
    "            next_state.robot.carried_parcels.remove(target)\n",
    "            best_belt = least_full_belt(next_state.conveyor_belts)\n",
    "            if best_belt.add_parcel(target):\n",
    "                print(f\"\\nRobot drops off parcel {target.parcel_id} at {best_belt.name}.\")\n",
    "            else:\n",
    "                print(f\"All conveyors are full! Returning {target.parcel_id} to storage.\")\n",
    "                next_state.storage_room.append(target)  # Return to storage if no space\n",
    "\n",
    "        elif act == \"move to\":\n",
    "            next_state.robot.location = target\n",
    "            print(f\"\\nRobot moves to {target}.\")\n",
    "\n",
    "        return next_state\n",
    "    \n",
    "\n",
    "    def goal_test(self, state):\n",
    "        if self.remaining_parcels == 0:\n",
    "            return True\n",
    "        else: \n",
    "            return False\n",
    "        \n",
    "\n",
    "    def display_state(self, state):\n",
    "        print(\"Robot location:\",state.robot.location)\n"
   ]
  },
  {
   "cell_type": "code",
   "execution_count": 48,
   "metadata": {},
   "outputs": [
    {
     "name": "stdout",
     "output_type": "stream",
     "text": [
      "[(101, 2025-02-18, 2), (102, 2025-02-15, 1), (103, 2025-02-19, 1), (104, 2025-02-13, 2), (105, 2025-02-16, 1), (106, 2025-02-17, 1), (107, 2025-02-17, 1), (108, 2025-02-18, 1), (109, 2025-02-17, 1), (110, 2025-02-13, 1), (111, 2025-02-13, 1), (112, 2025-02-14, 1), (113, 2025-02-19, 1), (114, 2025-02-16, 2), (115, 2025-02-17, 2), (116, 2025-02-19, 2), (117, 2025-02-17, 1), (118, 2025-02-18, 2), (119, 2025-02-19, 1), (120, 2025-02-19, 1), (121, 2025-02-18, 2), (122, 2025-02-18, 2), (123, 2025-02-18, 2), (124, 2025-02-19, 1), (125, 2025-02-13, 2), (126, 2025-02-13, 2), (127, 2025-02-18, 1), (128, 2025-02-13, 1), (129, 2025-02-16, 2), (130, 2025-02-19, 1), (131, 2025-02-18, 1), (132, 2025-02-16, 2)]\n",
      "\n",
      "Robot picks up parcel 102 from storage.\n",
      "Updated carried parcels: ['102']\n",
      "Remaining in storage: ['101', '103', '104', '105', '106', '107', '108', '109', '110', '111', '112', '113', '114', '115', '116', '117', '118', '119', '120', '121', '122', '123', '124', '125', '126', '127', '128', '129', '130', '131', '132']\n",
      "Robot location: storage room\n",
      "\n",
      "[(101, 2025-02-18, 2), (102, 2025-02-15, 1), (103, 2025-02-19, 1), (104, 2025-02-13, 2), (105, 2025-02-16, 1), (106, 2025-02-17, 1), (107, 2025-02-17, 1), (108, 2025-02-18, 1), (109, 2025-02-17, 1), (110, 2025-02-13, 1), (111, 2025-02-13, 1), (112, 2025-02-14, 1), (113, 2025-02-19, 1), (114, 2025-02-16, 2), (115, 2025-02-17, 2), (116, 2025-02-19, 2), (117, 2025-02-17, 1), (118, 2025-02-18, 2), (119, 2025-02-19, 1), (120, 2025-02-19, 1), (121, 2025-02-18, 2), (122, 2025-02-18, 2), (123, 2025-02-18, 2), (124, 2025-02-19, 1), (125, 2025-02-13, 2), (126, 2025-02-13, 2), (127, 2025-02-18, 1), (128, 2025-02-13, 1), (129, 2025-02-16, 2), (130, 2025-02-19, 1), (131, 2025-02-18, 1), (132, 2025-02-16, 2)]\n",
      "\n",
      "Robot picks up parcel 105 from storage.\n",
      "Updated carried parcels: ['105']\n",
      "Remaining in storage: ['101', '102', '103', '104', '106', '107', '108', '109', '110', '111', '112', '113', '114', '115', '116', '117', '118', '119', '120', '121', '122', '123', '124', '125', '126', '127', '128', '129', '130', '131', '132']\n",
      "Robot location: storage room\n",
      "\n",
      "[(101, 2025-02-18, 2), (102, 2025-02-15, 1), (103, 2025-02-19, 1), (104, 2025-02-13, 2), (105, 2025-02-16, 1), (106, 2025-02-17, 1), (107, 2025-02-17, 1), (108, 2025-02-18, 1), (109, 2025-02-17, 1), (110, 2025-02-13, 1), (111, 2025-02-13, 1), (112, 2025-02-14, 1), (113, 2025-02-19, 1), (114, 2025-02-16, 2), (115, 2025-02-17, 2), (116, 2025-02-19, 2), (117, 2025-02-17, 1), (118, 2025-02-18, 2), (119, 2025-02-19, 1), (120, 2025-02-19, 1), (121, 2025-02-18, 2), (122, 2025-02-18, 2), (123, 2025-02-18, 2), (124, 2025-02-19, 1), (125, 2025-02-13, 2), (126, 2025-02-13, 2), (127, 2025-02-18, 1), (128, 2025-02-13, 1), (129, 2025-02-16, 2), (130, 2025-02-19, 1), (131, 2025-02-18, 1), (132, 2025-02-16, 2)]\n",
      "\n",
      "Robot picks up parcel 106 from storage.\n",
      "Updated carried parcels: ['106']\n",
      "Remaining in storage: ['101', '102', '103', '104', '105', '107', '108', '109', '110', '111', '112', '113', '114', '115', '116', '117', '118', '119', '120', '121', '122', '123', '124', '125', '126', '127', '128', '129', '130', '131', '132']\n",
      "Robot location: storage room\n",
      "\n",
      "[(101, 2025-02-18, 2), (102, 2025-02-15, 1), (103, 2025-02-19, 1), (104, 2025-02-13, 2), (105, 2025-02-16, 1), (106, 2025-02-17, 1), (107, 2025-02-17, 1), (108, 2025-02-18, 1), (109, 2025-02-17, 1), (110, 2025-02-13, 1), (111, 2025-02-13, 1), (112, 2025-02-14, 1), (113, 2025-02-19, 1), (114, 2025-02-16, 2), (115, 2025-02-17, 2), (116, 2025-02-19, 2), (117, 2025-02-17, 1), (118, 2025-02-18, 2), (119, 2025-02-19, 1), (120, 2025-02-19, 1), (121, 2025-02-18, 2), (122, 2025-02-18, 2), (123, 2025-02-18, 2), (124, 2025-02-19, 1), (125, 2025-02-13, 2), (126, 2025-02-13, 2), (127, 2025-02-18, 1), (128, 2025-02-13, 1), (129, 2025-02-16, 2), (130, 2025-02-19, 1), (131, 2025-02-18, 1), (132, 2025-02-16, 2)]\n",
      "\n",
      "Robot picks up parcel 107 from storage.\n",
      "Updated carried parcels: ['107']\n",
      "Remaining in storage: ['101', '102', '103', '104', '105', '106', '108', '109', '110', '111', '112', '113', '114', '115', '116', '117', '118', '119', '120', '121', '122', '123', '124', '125', '126', '127', '128', '129', '130', '131', '132']\n",
      "Robot location: storage room\n",
      "\n",
      "[(101, 2025-02-18, 2), (102, 2025-02-15, 1), (103, 2025-02-19, 1), (104, 2025-02-13, 2), (105, 2025-02-16, 1), (106, 2025-02-17, 1), (107, 2025-02-17, 1), (108, 2025-02-18, 1), (109, 2025-02-17, 1), (110, 2025-02-13, 1), (111, 2025-02-13, 1), (112, 2025-02-14, 1), (113, 2025-02-19, 1), (114, 2025-02-16, 2), (115, 2025-02-17, 2), (116, 2025-02-19, 2), (117, 2025-02-17, 1), (118, 2025-02-18, 2), (119, 2025-02-19, 1), (120, 2025-02-19, 1), (121, 2025-02-18, 2), (122, 2025-02-18, 2), (123, 2025-02-18, 2), (124, 2025-02-19, 1), (125, 2025-02-13, 2), (126, 2025-02-13, 2), (127, 2025-02-18, 1), (128, 2025-02-13, 1), (129, 2025-02-16, 2), (130, 2025-02-19, 1), (131, 2025-02-18, 1), (132, 2025-02-16, 2)]\n",
      "\n",
      "Robot picks up parcel 109 from storage.\n",
      "Updated carried parcels: ['109']\n",
      "Remaining in storage: ['101', '102', '103', '104', '105', '106', '107', '108', '110', '111', '112', '113', '114', '115', '116', '117', '118', '119', '120', '121', '122', '123', '124', '125', '126', '127', '128', '129', '130', '131', '132']\n",
      "Robot location: storage room\n",
      "\n",
      "[(101, 2025-02-18, 2), (102, 2025-02-15, 1), (103, 2025-02-19, 1), (104, 2025-02-13, 2), (105, 2025-02-16, 1), (106, 2025-02-17, 1), (107, 2025-02-17, 1), (108, 2025-02-18, 1), (109, 2025-02-17, 1), (110, 2025-02-13, 1), (111, 2025-02-13, 1), (112, 2025-02-14, 1), (113, 2025-02-19, 1), (114, 2025-02-16, 2), (115, 2025-02-17, 2), (116, 2025-02-19, 2), (117, 2025-02-17, 1), (118, 2025-02-18, 2), (119, 2025-02-19, 1), (120, 2025-02-19, 1), (121, 2025-02-18, 2), (122, 2025-02-18, 2), (123, 2025-02-18, 2), (124, 2025-02-19, 1), (125, 2025-02-13, 2), (126, 2025-02-13, 2), (127, 2025-02-18, 1), (128, 2025-02-13, 1), (129, 2025-02-16, 2), (130, 2025-02-19, 1), (131, 2025-02-18, 1), (132, 2025-02-16, 2)]\n",
      "\n",
      "Robot moves to conveyorA.\n",
      "Robot location: conveyorA\n",
      "\n",
      "[(101, 2025-02-18, 2), (102, 2025-02-15, 1), (103, 2025-02-19, 1), (104, 2025-02-13, 2), (105, 2025-02-16, 1), (106, 2025-02-17, 1), (107, 2025-02-17, 1), (108, 2025-02-18, 1), (109, 2025-02-17, 1), (110, 2025-02-13, 1), (111, 2025-02-13, 1), (112, 2025-02-14, 1), (113, 2025-02-19, 1), (114, 2025-02-16, 2), (115, 2025-02-17, 2), (116, 2025-02-19, 2), (117, 2025-02-17, 1), (118, 2025-02-18, 2), (119, 2025-02-19, 1), (120, 2025-02-19, 1), (121, 2025-02-18, 2), (122, 2025-02-18, 2), (123, 2025-02-18, 2), (124, 2025-02-19, 1), (125, 2025-02-13, 2), (126, 2025-02-13, 2), (127, 2025-02-18, 1), (128, 2025-02-13, 1), (129, 2025-02-16, 2), (130, 2025-02-19, 1), (131, 2025-02-18, 1), (132, 2025-02-16, 2)]\n",
      "\n",
      "Robot moves to conveyorB.\n",
      "Robot location: conveyorB\n",
      "\n",
      "[(101, 2025-02-18, 2), (102, 2025-02-15, 1), (103, 2025-02-19, 1), (104, 2025-02-13, 2), (105, 2025-02-16, 1), (106, 2025-02-17, 1), (107, 2025-02-17, 1), (108, 2025-02-18, 1), (109, 2025-02-17, 1), (110, 2025-02-13, 1), (111, 2025-02-13, 1), (112, 2025-02-14, 1), (113, 2025-02-19, 1), (114, 2025-02-16, 2), (115, 2025-02-17, 2), (116, 2025-02-19, 2), (117, 2025-02-17, 1), (118, 2025-02-18, 2), (119, 2025-02-19, 1), (120, 2025-02-19, 1), (121, 2025-02-18, 2), (122, 2025-02-18, 2), (123, 2025-02-18, 2), (124, 2025-02-19, 1), (125, 2025-02-13, 2), (126, 2025-02-13, 2), (127, 2025-02-18, 1), (128, 2025-02-13, 1), (129, 2025-02-16, 2), (130, 2025-02-19, 1), (131, 2025-02-18, 1), (132, 2025-02-16, 2)]\n",
      "\n",
      "Robot moves to conveyorC.\n",
      "Robot location: conveyorC\n",
      "\n"
     ]
    }
   ],
   "source": [
    "rob = Robot('storage room', None)\n",
    "state = State(rob, CONVEYOR_BELTS, STORAGE_ROOM)\n",
    "RW_PROBLEM = RobotWorker(state, 0)\n",
    "\n",
    "poss_acts = RW_PROBLEM.possible_actions(RW_PROBLEM.initial_state)\n",
    "poss_acts\n",
    "\n",
    "for acts in poss_acts:\n",
    "    next_state = RW_PROBLEM.successor(RW_PROBLEM.initial_state, acts)\n",
    "    RW_PROBLEM.display_state(next_state)\n",
    "    print()\n",
    "\n",
    "# search(RW_PROBLEM, 'BF/FIFO', 10000, loop_check=True)\n",
    "\n",
    "# # sorted via heuristic\n",
    "# sorted_parcels = sorted(STORAGE_ROOM, key=parcel_heuristic, reverse=True)\n",
    "# print(\"Initial Parcel Order:\", [p.parcel_id for p in sorted_parcels])\n",
    "\n",
    "# # assign parcels to the conveyor belts\n",
    "# for parcel in sorted_parcels:\n",
    "#     # find most available capacity\n",
    "#     least_full = least_full_belt(CONVEYOR_BELTS)\n",
    "#     print(f\"-\" * 50)\n",
    "\n",
    "#     # check if current conveyor has capacity\n",
    "#     if least_full.capacity > 0:\n",
    "#         print(f\"\\nMoving parcel {parcel.parcel_id} (Priority: {parcel.priority}, Date: {parcel.date}) to {least_full.name}\")\n",
    "#         STORAGE_ROOM.remove(parcel)  # Remove parcel from storage\n",
    "#         least_full.add_parcel(parcel)  # Add parcel to the conveyor\n",
    "#     else:\n",
    "#         print(f\"!!!All conveyors are full!!! Returning parcel {parcel.parcel_id} to storage.\")\n",
    "#         STORAGE_ROOM.append(parcel)  # Return parcel to storage if all belts are full\n",
    "\n",
    "\n",
    "#     #current state of conveyor belts\n",
    "#     for belt in CONVEYOR_BELTS:\n",
    "#         print(f\"{belt.name} contents: {[f'({p.parcel_id}, {p.date}, {p.priority})' for p in belt.parcels]} Capacity: {belt.capacity}%\")\n",
    "\n",
    "#     # remaining parcels in storage\n",
    "#     print(\"Remaining in Storage:\", [p.parcel_id for p in STORAGE_ROOM],\"\\n\")\n",
    "\n",
    "# # output final state\n",
    "# print(\"\\n\\nFinal Parcel States:\")\n",
    "# for belt in CONVEYOR_BELTS:\n",
    "#     print(f\"{belt.name}: {[p.parcel_id for p in belt.parcels]}\")\n",
    "# print(\"Remaining in Storage:\", [p.parcel_id for p in STORAGE_ROOM],\"\\n\")\n"
   ]
  },
  {
   "cell_type": "markdown",
   "metadata": {},
   "source": [
    "### Heuristics"
   ]
  },
  {
   "cell_type": "code",
   "execution_count": null,
   "metadata": {},
   "outputs": [],
   "source": []
  },
  {
   "cell_type": "markdown",
   "metadata": {},
   "source": [
    "### Results"
   ]
  },
  {
   "cell_type": "code",
   "execution_count": null,
   "metadata": {},
   "outputs": [],
   "source": []
  },
  {
   "cell_type": "markdown",
   "metadata": {},
   "source": [
    "### Key Findings"
   ]
  }
 ],
 "metadata": {
  "kernelspec": {
   "display_name": "Python 3",
   "language": "python",
   "name": "python3"
  },
  "language_info": {
   "codemirror_mode": {
    "name": "ipython",
    "version": 3
   },
   "file_extension": ".py",
   "mimetype": "text/x-python",
   "name": "python",
   "nbconvert_exporter": "python",
   "pygments_lexer": "ipython3",
   "version": "3.12.1"
  }
 },
 "nbformat": 4,
 "nbformat_minor": 2
}
