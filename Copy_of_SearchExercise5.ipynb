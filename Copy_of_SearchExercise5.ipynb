{
  "cells": [
    {
      "cell_type": "markdown",
      "metadata": {
        "colab_type": "text",
        "id": "view-in-github"
      },
      "source": [
        "<a href=\"https://colab.research.google.com/github/DarshanSajeev/COMP2611/blob/main/Copy_of_SearchExercise5.ipynb\" target=\"_parent\"><img src=\"https://colab.research.google.com/assets/colab-badge.svg\" alt=\"Open In Colab\"/></a>"
      ]
    },
    {
      "cell_type": "code",
      "execution_count": null,
      "metadata": {
        "colab": {
          "base_uri": "https://localhost:8080/"
        },
        "id": "RnR9_Heq5nG_",
        "outputId": "0ed20914-994a-4b12-8ad9-4b27851729cb"
      },
      "outputs": [
        {
          "name": "stdout",
          "output_type": "stream",
          "text": [
            "  % Total    % Received % Xferd  Average Speed   Time    Time     Time  Current\n",
            "                                 Dload  Upload   Total   Spent    Left  Speed\n",
            "\r  0     0    0     0    0     0      0      0 --:--:-- --:--:-- --:--:--     0\r100 18767  100 18767    0     0   174k      0 --:--:-- --:--:-- --:--:--  174k\n",
            "Loading bbSearch Version 2.1 (at 13:57, Thu 15 Sep)\n",
            "Last module source code edit 9am Thursday 24th Feb 2022\n"
          ]
        }
      ],
      "source": [
        "!mkdir -p bbmodcache\n",
        "!curl http://bb-ai.net.s3.amazonaws.com/bb-python-modules/bbSearch.py > bbmodcache/bbSearch.py\n",
        "from bbmodcache.bbSearch import SearchProblem, search"
      ]
    },
    {
      "cell_type": "code",
      "execution_count": null,
      "metadata": {
        "id": "ngXq3qU75nHG"
      },
      "outputs": [],
      "source": [
        "class Robot:\n",
        "    def __init__(self, location, carried_items, strength):\n",
        "        self.location      = location\n",
        "        self.carried_items = carried_items\n",
        "        self.strength      = strength\n",
        "\n",
        "    def weight_carried(self):\n",
        "        return sum([ITEM_WEIGHT[i] for i in self.carried_items])\n",
        "\n",
        "    ## Define unique string representation for the state of the robot object\n",
        "    def __repr__(self):\n",
        "        return str( ( self.location,\n",
        "                      self.carried_items,\n",
        "                      self.strength ) )\n",
        "\n",
        "class Door:\n",
        "    def __init__(self, roomA, roomB, doorkey=None, locked=False):\n",
        "        self.goes_between = {roomA, roomB}\n",
        "        self.doorkey      = doorkey\n",
        "        self.locked       = locked\n",
        "        # Define handy dictionary to get room on other side of a door\n",
        "        self.other_loc = {roomA:roomB, roomB:roomA}\n",
        "\n",
        "    ## Define a unique string representation for a door object\n",
        "    def __repr__(self):\n",
        "        return str( (\"door\", self.goes_between, self.doorkey, self.locked) )"
      ]
    },
    {
      "cell_type": "code",
      "execution_count": null,
      "metadata": {
        "id": "YAPNtW105nHJ"
      },
      "outputs": [],
      "source": [
        "class State:\n",
        "    def __init__( self, robot, doors, room_contents ):\n",
        "        self.robot = robot\n",
        "        self.doors = doors\n",
        "        self.room_contents = room_contents\n",
        "\n",
        "    ## Define a string representation that will be uniquely identify the state.\n",
        "    ## An easy way is to form a tuple of representations of the components of\n",
        "    ## the state, then form a string from that:\n",
        "    def __repr__(self):\n",
        "        return str( ( self.robot.__repr__(),\n",
        "                      [d.__repr__() for d in self.doors],\n",
        "                      self.room_contents ) )\n"
      ]
    },
    {
      "cell_type": "code",
      "execution_count": null,
      "metadata": {
        "id": "5k_U8vNi5nHM"
      },
      "outputs": [],
      "source": [
        "ROOM_CONTENTS = {\n",
        "    'workshop'     : {'rusty key'},\n",
        "    'store room'   : {'bucket', 'suitcase'},\n",
        "    'tool cupboard' : {'sledge hammer', 'anvil', 'saw', 'screwdriver'},\n",
        "}\n",
        "\n",
        "ITEM_WEIGHT = {\n",
        "      'rusty key' : 0,\n",
        "         'bucket' : 2,\n",
        "       'suitcase' : 4,\n",
        "    'screwdriver' : 1,\n",
        "  'sledge hammer' : 5,\n",
        "          'anvil' : 12,\n",
        "            'saw' : 2,\n",
        "}\n",
        "\n",
        "DOORS = [\n",
        "    Door('workshop', 'store room' ),\n",
        "    Door( 'store room', 'tool cupboard', doorkey='rusty key', locked=False )\n",
        "]\n"
      ]
    },
    {
      "cell_type": "code",
      "execution_count": null,
      "metadata": {
        "id": "cGVcn1h35nHP"
      },
      "outputs": [],
      "source": [
        "from copy import deepcopy\n",
        "\n",
        "class RobotWorker( SearchProblem ):\n",
        "\n",
        "    def __init__( self, state, goal_item_locations ):\n",
        "        self.initial_state = state\n",
        "        self.goal_item_locations = goal_item_locations\n",
        "\n",
        "    def possible_actions( self, state ):\n",
        "\n",
        "        robot_location = state.robot.location\n",
        "        strength       = state.robot.strength\n",
        "        weight_carried = state.robot.weight_carried()\n",
        "\n",
        "        actions = []\n",
        "        # Can put down any carried item\n",
        "        for i in state.robot.carried_items:\n",
        "            actions.append( (\"put down\", i) )\n",
        "\n",
        "        # Can pick up any item in room if strong enough\n",
        "        for i in state.room_contents[robot_location]:\n",
        "            if strength >= weight_carried + ITEM_WEIGHT[i]:\n",
        "                actions.append( (\"pick up\", i))\n",
        "\n",
        "        # If there is an unlocked door between robot location and\n",
        "        # another location can move to that location\n",
        "        for door in state.doors:\n",
        "            if  door.locked==False and robot_location in door.goes_between:\n",
        "                actions.append( (\"move to\", door.other_loc[robot_location]) )\n",
        "\n",
        "        # Now the actions list should contain all possible actions\n",
        "        return actions\n",
        "\n",
        "    def successor( self, state, action):\n",
        "        next_state = deepcopy(state)\n",
        "        act, target = action\n",
        "        if act== \"put down\":\n",
        "            next_state.robot.carried_items.remove(target)\n",
        "            next_state.room_contents[state.robot.location].add(target)\n",
        "\n",
        "        if act == \"pick up\":\n",
        "            next_state.robot.carried_items.append(target)\n",
        "            next_state.room_contents[state.robot.location].remove(target)\n",
        "\n",
        "        if act == \"move to\":\n",
        "            next_state.robot.location = target\n",
        "\n",
        "        return next_state\n",
        "\n",
        "    def goal_test(self, state):\n",
        "        #print(state.room_contents)\n",
        "        for room, contents in self.goal_item_locations.items():\n",
        "            for i in contents:\n",
        "                if not i in state.room_contents[room]:\n",
        "                    return False\n",
        "        return True\n",
        "\n",
        "    def display_state(self,state):\n",
        "        print(\"Robot location:\", state.robot.location)\n",
        "        print(\"Robot carrying:\", state.robot.carried_items)\n",
        "        print(\"Room contents:\", state.room_contents)"
      ]
    },
    {
      "cell_type": "code",
      "execution_count": null,
      "metadata": {
        "id": "ehyAUj0_5nHR"
      },
      "outputs": [],
      "source": []
    },
    {
      "cell_type": "code",
      "execution_count": null,
      "metadata": {
        "id": "GhVuYfAF5nHS"
      },
      "outputs": [],
      "source": [
        "rob = Robot('store room', [], 15 )\n",
        "\n",
        "state = State(rob, DOORS, ROOM_CONTENTS)\n",
        "\n",
        "goal_item_locations =  {\"store room\":{\"sledge hammer\", \"screwdriver\", \"anvil\"}}\n",
        "\n",
        "RW_PROBLEM_1 = RobotWorker( state, goal_item_locations )"
      ]
    },
    {
      "cell_type": "code",
      "execution_count": null,
      "metadata": {
        "colab": {
          "base_uri": "https://localhost:8080/"
        },
        "id": "cwWnFLy65nHU",
        "outputId": "23cf2b73-83f4-4a97-abdd-65ac0dc63805"
      },
      "outputs": [
        {
          "data": {
            "text/plain": [
              "[('pick up', 'suitcase'),\n",
              " ('pick up', 'bucket'),\n",
              " ('move to', 'workshop'),\n",
              " ('move to', 'tool cupboard')]"
            ]
          },
          "execution_count": 7,
          "metadata": {},
          "output_type": "execute_result"
        }
      ],
      "source": [
        "poss_acts = RW_PROBLEM_1.possible_actions( RW_PROBLEM_1.initial_state )\n",
        "poss_acts"
      ]
    },
    {
      "cell_type": "code",
      "execution_count": null,
      "metadata": {
        "colab": {
          "base_uri": "https://localhost:8080/"
        },
        "id": "oNag3W0A5nHW",
        "outputId": "0fafa893-68f5-48a2-e807-c16b026c76ff"
      },
      "outputs": [
        {
          "name": "stdout",
          "output_type": "stream",
          "text": [
            "Action ('pick up', 'suitcase') leads to the following state:\n",
            "Robot location: store room\n",
            "Robot carrying: ['suitcase']\n",
            "Room contents: {'workshop': {'rusty key'}, 'store room': {'bucket'}, 'tool cupboard': {'sledge hammer', 'saw', 'anvil', 'screwdriver'}}\n",
            "\n",
            "Action ('pick up', 'bucket') leads to the following state:\n",
            "Robot location: store room\n",
            "Robot carrying: ['bucket']\n",
            "Room contents: {'workshop': {'rusty key'}, 'store room': {'suitcase'}, 'tool cupboard': {'sledge hammer', 'saw', 'anvil', 'screwdriver'}}\n",
            "\n",
            "Action ('move to', 'workshop') leads to the following state:\n",
            "Robot location: workshop\n",
            "Robot carrying: []\n",
            "Room contents: {'workshop': {'rusty key'}, 'store room': {'suitcase', 'bucket'}, 'tool cupboard': {'sledge hammer', 'saw', 'anvil', 'screwdriver'}}\n",
            "\n",
            "Action ('move to', 'tool cupboard') leads to the following state:\n",
            "Robot location: tool cupboard\n",
            "Robot carrying: []\n",
            "Room contents: {'workshop': {'rusty key'}, 'store room': {'suitcase', 'bucket'}, 'tool cupboard': {'sledge hammer', 'saw', 'anvil', 'screwdriver'}}\n",
            "\n"
          ]
        }
      ],
      "source": [
        "for act in poss_acts:\n",
        "    print(\"Action\", act, \"leads to the following state:\")\n",
        "    next_state = RW_PROBLEM_1.successor( RW_PROBLEM_1.initial_state, act )\n",
        "    RW_PROBLEM_1.display_state(next_state)\n",
        "    print()"
      ]
    },
    {
      "cell_type": "code",
      "execution_count": null,
      "metadata": {
        "colab": {
          "base_uri": "https://localhost:8080/",
          "height": 680
        },
        "id": "kSbvvWPA5nHY",
        "outputId": "7933c83c-f5c4-4d95-ebfc-689d729ea775"
      },
      "outputs": [
        {
          "name": "stdout",
          "output_type": "stream",
          "text": [
            "This is the general SearchProblem parent class\n",
            "You must extend this class to encode a particular search problem.\n",
            "\n",
            "** Running Brandon's Search Algorithm **\n",
            "Strategy: mode=BF/FIFO, cost=None, heuristic=None\n",
            "Max search nodes: 100000  (max number added to queue)\n",
            "Searching (will output '.' each 1000 goal_tests)\n",
            "...................\n",
            ":-)) *SUCCESS* ((-:\n",
            "\n",
            "Path length = 10\n",
            "Goal state is:\n",
            "Robot location: store room\n",
            "Robot carrying: []\n",
            "Room contents: {'workshop': {'rusty key'}, 'store room': {'screwdriver', 'anvil', 'bucket', 'suitcase', 'sledge hammer'}, 'tool cupboard': {'saw'}}\n",
            "The action path to the solution is:\n",
            "    ('move to', 'tool cupboard')\n",
            "    ('pick up', 'sledge hammer')\n",
            "    ('pick up', 'screwdriver')\n",
            "    ('move to', 'store room')\n",
            "    ('put down', 'sledge hammer')\n",
            "    ('put down', 'screwdriver')\n",
            "    ('move to', 'tool cupboard')\n",
            "    ('pick up', 'anvil')\n",
            "    ('move to', 'store room')\n",
            "    ('put down', 'anvil')\n",
            "\n",
            "\n",
            "SEARCH SPACE STATS:\n",
            "Total nodes generated          =   101789  (includes start)\n",
            "Nodes discarded by loop_check  =    67689  (34100 distinct states added to queue)\n",
            "Nodes tested (by goal_test)    =    19620  (19619 expanded + 1 goal)\n",
            "Nodes left in queue            =    14480\n",
            "\n",
            "Time taken = 12.0332 seconds\n",
            "\n"
          ]
        },
        {
          "data": {
            "application/vnd.google.colaboratory.intrinsic+json": {
              "type": "string"
            },
            "text/plain": [
              "'GOAL_STATE_FOUND'"
            ]
          },
          "execution_count": 9,
          "metadata": {},
          "output_type": "execute_result"
        }
      ],
      "source": [
        "search( RW_PROBLEM_1, 'BF/FIFO', 100000, loop_check=True)"
      ]
    }
  ],
  "metadata": {
    "colab": {
      "include_colab_link": true,
      "provenance": []
    },
    "kernelspec": {
      "display_name": "Python 3",
      "language": "python",
      "name": "python3"
    },
    "language_info": {
      "codemirror_mode": {
        "name": "ipython",
        "version": 3
      },
      "file_extension": ".py",
      "mimetype": "text/x-python",
      "name": "python",
      "nbconvert_exporter": "python",
      "pygments_lexer": "ipython3",
      "version": "3.7.8"
    }
  },
  "nbformat": 4,
  "nbformat_minor": 0
}
