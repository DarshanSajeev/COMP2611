{
  "cells": [
    {
      "cell_type": "markdown",
      "metadata": {
        "colab_type": "text",
        "id": "view-in-github"
      },
      "source": [
        "<a href=\"https://colab.research.google.com/github/DarshanSajeev/COMP2611/blob/main/Copy_of_SearchExercise5.ipynb\" target=\"_parent\"><img src=\"https://colab.research.google.com/assets/colab-badge.svg\" alt=\"Open In Colab\"/></a>"
      ]
    },
    {
      "cell_type": "code",
      "execution_count": 29,
      "metadata": {
        "colab": {
          "base_uri": "https://localhost:8080/"
        },
        "id": "RnR9_Heq5nG_",
        "outputId": "0ed20914-994a-4b12-8ad9-4b27851729cb"
      },
      "outputs": [
        {
          "name": "stdout",
          "output_type": "stream",
          "text": [
            "  % Total    % Received % Xferd  Average Speed   Time    Time     Time  Current\n",
            "                                 Dload  Upload   Total   Spent    Left  Speed\n",
            "100 18767  100 18767    0     0   389k      0 --:--:-- --:--:-- --:--:--  389k\n"
          ]
        }
      ],
      "source": [
        "!mkdir -p bbmodcache\n",
        "!curl http://bb-ai.net.s3.amazonaws.com/bb-python-modules/bbSearch.py > bbmodcache/bbSearch.py\n",
        "from bbmodcache.bbSearch import SearchProblem, search"
      ]
    },
    {
      "cell_type": "code",
      "execution_count": 30,
      "metadata": {},
      "outputs": [],
      "source": [
        "# def cost(path, state):\n",
        "#         return len(path)\n",
        "\n",
        "# small_cost = search( RW_PROBLEM, 'BF/FIFO', 30000, cost=cost, loop_check=True, return_info=True)\n",
        "\n",
        "# def manhattan_heuristic(state):\n",
        "#     goal_r, goal_c = len(state.blockstate) - 1, len(state.blockstate[0]) - 1  # Bottom-right corner\n",
        "    \n",
        "#     total = 0\n",
        "#     for row in range(state.nrows):\n",
        "#         for col in range(state.ncols):\n",
        "#             if state.blockstate[row][col] == 1:  # Find red block tiles\n",
        "#                 total += abs(goal_r - row) + abs(goal_c - col)\n",
        "    \n",
        "#     return total\n",
        "\n",
        "# small_manhattan = search( RW_PROBLEM, 'DF/LIFO', 30000, loop_check=True, randomise=True, return_info=True, cost=cost, heuristic=manhattan_heuristic)"
      ]
    },
    {
      "cell_type": "code",
      "execution_count": 31,
      "metadata": {
        "id": "ngXq3qU75nHG"
      },
      "outputs": [],
      "source": [
        "class Robot:\n",
        "    def __init__(self, location, carried_items=None):\n",
        "        if carried_items is None:\n",
        "            carried_items = []  # Default to an empty list if no items are specified\n",
        "        self.location = location\n",
        "        self.carried_items = carried_items\n",
        "\n",
        "    ## Define unique string representation for the state of the robot object\n",
        "    def __repr__(self):\n",
        "        return str( ( self.location, self.carried_items ) )\n",
        "\n",
        "class Door:\n",
        "    def __init__(self, roomA, roomB, doorkey=None, locked=False):\n",
        "        self.goes_between = {roomA, roomB}\n",
        "        self.doorkey      = doorkey\n",
        "        self.locked       = locked\n",
        "        # Define handy dictionary to get room on other side of a door\n",
        "        self.other_loc = {roomA:roomB, roomB:roomA}\n",
        "\n",
        "    ## Define a unique string representation for a door object\n",
        "    def __repr__(self):\n",
        "        return str( (\"door\", self.goes_between, self.doorkey, self.locked) )\n",
        "    \n",
        "class State:\n",
        "    def __init__(self, robot, doors, room_contents):\n",
        "        self.robot = robot\n",
        "        self.doors = doors\n",
        "        self.room_contents = room_contents  # Ensure this attribute is passed and initialized\n",
        "\n",
        "    def __repr__(self):\n",
        "        return str( ( self.robot.__repr__(),\n",
        "                      [d.__repr__() for d in self.doors],\n",
        "                      self.room_contents ) )"
      ]
    },
    {
      "cell_type": "code",
      "execution_count": 32,
      "metadata": {
        "id": "5k_U8vNi5nHM"
      },
      "outputs": [
        {
          "name": "stdout",
          "output_type": "stream",
          "text": [
            "('door', {'Physics', 'Storage'}, 'keycard', True)\n",
            "('door', {'History', 'Storage'}, 'keycard', True)\n",
            "('door', {'Office', 'Storage'}, 'keycard', False)\n",
            "('door', {'English', 'Storage'}, None, False)\n",
            "('door', {'Maths', 'Storage'}, None, False)\n"
          ]
        }
      ],
      "source": [
        "ROOM_CONTENTS = {\n",
        "    'Storage' : {'M3','P1','H2','E2'},\n",
        "    'Office' :{'keycard'},\n",
        "    'English' : {'E1', 'E3'},\n",
        "    'Maths' : {'M1', 'M2'},\n",
        "    'History' : {'H1'},\n",
        "    'Physics' : {'P2'},\n",
        "}\n",
        "\n",
        "\n",
        "# Define the rooms that need to be unlocked and locked\n",
        "storage_rooms = ['History', 'English', 'Maths', 'Physics']\n",
        "subject_rooms = ['History', 'English', 'Maths', 'Physics']\n",
        "\n",
        "# Initialize the doors list with the locked rooms (History and Physics)\n",
        "# Initialize the doors list with the locked rooms (History and Physics)\n",
        "DOORS = [\n",
        "    # History and Physics are locked and need the keycard to access\n",
        "    Door('Storage', 'Physics', doorkey='keycard', locked=True),\n",
        "    Door('Storage', 'History', doorkey='keycard', locked=True),\n",
        "    Door('Storage', 'Office', doorkey='keycard', locked=False)\n",
        "]\n",
        "\n",
        "# Add doors for Storage to all other rooms (unlocked), except History and Physics\n",
        "for room in storage_rooms:\n",
        "    if room not in ['History', 'Physics']:  # Exclude History and Physics\n",
        "        DOORS.append(Door('Storage', room, locked=False))\n",
        "\n",
        "# Output the doors to verify\n",
        "for door in DOORS:\n",
        "    print(door)\n",
        "\n"
      ]
    },
    {
      "cell_type": "code",
      "execution_count": 33,
      "metadata": {
        "id": "cGVcn1h35nHP"
      },
      "outputs": [],
      "source": [
        "from copy import deepcopy\n",
        "\n",
        "class RobotWorker(SearchProblem):\n",
        "\n",
        "    def __init__(self, state, goal_item_locations):\n",
        "        self.initial_state = state\n",
        "        self.goal_item_locations = goal_item_locations\n",
        "\n",
        "    def possible_actions(self, state):\n",
        "        robot_location = state.robot.location\n",
        "        actions = []\n",
        "\n",
        "        # Can put down any carried item if it's the correct room\n",
        "        for item in state.robot.carried_items:\n",
        "            # Check if the item belongs to the current room\n",
        "            if item in self.goal_item_locations.get(robot_location, set()):\n",
        "                actions.append((\"put down\", item))\n",
        "\n",
        "        # Can pick up any item in the current room\n",
        "        for item in state.room_contents[robot_location]:\n",
        "            # If the item needs to be sorted, it can be picked up\n",
        "            if item not in state.robot.carried_items:\n",
        "                actions.append((\"pick up\", item))\n",
        "\n",
        "        # If there is an unlocked door between robot location and another location, robot can move\n",
        "        for door in state.doors:\n",
        "            if not door.locked and robot_location in door.goes_between:\n",
        "                actions.append((\"move to\", door.other_loc[robot_location]))\n",
        "\n",
        "        # Return the list of possible actions\n",
        "        return actions\n",
        "\n",
        "    def successor(self, state, action):\n",
        "        next_state = deepcopy(state)\n",
        "        act, target = action\n",
        "\n",
        "        if act == \"put down\":\n",
        "            next_state.robot.carried_items.remove(target)\n",
        "            next_state.room_contents[state.robot.location].add(target)\n",
        "        \n",
        "        if act == \"pick up\":\n",
        "            next_state.robot.carried_items.append(target)\n",
        "            next_state.room_contents[state.robot.location].remove(target)\n",
        "\n",
        "        if act == \"move to\":\n",
        "            next_state.robot.location = target\n",
        "\n",
        "        return next_state\n",
        "\n",
        "    def goal_test(self, state):\n",
        "        for room, contents in self.goal_item_locations.items():\n",
        "            for item in contents:\n",
        "                if item not in state.room_contents[room]:\n",
        "                    return False\n",
        "        return True\n",
        "\n",
        "    def display_state(self, state):\n",
        "        print(\"Robot location:\", state.robot.location)\n",
        "        print(\"Robot carrying:\", state.robot.carried_items)\n",
        "        print(\"Room contents:\", state.room_contents)\n"
      ]
    },
    {
      "cell_type": "code",
      "execution_count": 34,
      "metadata": {
        "id": "GhVuYfAF5nHS"
      },
      "outputs": [
        {
          "name": "stdout",
          "output_type": "stream",
          "text": [
            "Action ('pick up', 'M3') leads to the following state:\n",
            "Robot location: Storage\n",
            "Robot carrying: ['M3']\n",
            "Room contents: {'Storage': {'P1', 'E2', 'H2'}, 'Office': {'keycard'}, 'English': {'E1', 'E3'}, 'Maths': {'M2', 'M1'}, 'History': {'H1'}, 'Physics': {'P2'}}\n",
            "\n",
            "Action ('pick up', 'H2') leads to the following state:\n",
            "Robot location: Storage\n",
            "Robot carrying: ['H2']\n",
            "Room contents: {'Storage': {'M3', 'P1', 'E2'}, 'Office': {'keycard'}, 'English': {'E1', 'E3'}, 'Maths': {'M2', 'M1'}, 'History': {'H1'}, 'Physics': {'P2'}}\n",
            "\n",
            "Action ('pick up', 'E2') leads to the following state:\n",
            "Robot location: Storage\n",
            "Robot carrying: ['E2']\n",
            "Room contents: {'Storage': {'M3', 'P1', 'H2'}, 'Office': {'keycard'}, 'English': {'E1', 'E3'}, 'Maths': {'M2', 'M1'}, 'History': {'H1'}, 'Physics': {'P2'}}\n",
            "\n",
            "Action ('pick up', 'P1') leads to the following state:\n",
            "Robot location: Storage\n",
            "Robot carrying: ['P1']\n",
            "Room contents: {'Storage': {'M3', 'E2', 'H2'}, 'Office': {'keycard'}, 'English': {'E1', 'E3'}, 'Maths': {'M2', 'M1'}, 'History': {'H1'}, 'Physics': {'P2'}}\n",
            "\n",
            "Action ('move to', 'Office') leads to the following state:\n",
            "Robot location: Office\n",
            "Robot carrying: []\n",
            "Room contents: {'Storage': {'M3', 'P1', 'E2', 'H2'}, 'Office': {'keycard'}, 'English': {'E1', 'E3'}, 'Maths': {'M2', 'M1'}, 'History': {'H1'}, 'Physics': {'P2'}}\n",
            "\n",
            "Action ('move to', 'English') leads to the following state:\n",
            "Robot location: English\n",
            "Robot carrying: []\n",
            "Room contents: {'Storage': {'M3', 'P1', 'E2', 'H2'}, 'Office': {'keycard'}, 'English': {'E1', 'E3'}, 'Maths': {'M2', 'M1'}, 'History': {'H1'}, 'Physics': {'P2'}}\n",
            "\n",
            "Action ('move to', 'Maths') leads to the following state:\n",
            "Robot location: Maths\n",
            "Robot carrying: []\n",
            "Room contents: {'Storage': {'M3', 'P1', 'E2', 'H2'}, 'Office': {'keycard'}, 'English': {'E1', 'E3'}, 'Maths': {'M2', 'M1'}, 'History': {'H1'}, 'Physics': {'P2'}}\n",
            "\n"
          ]
        }
      ],
      "source": [
        "# Initial State Setup\n",
        "initial_robot = Robot('Storage')\n",
        "initial_state = State(initial_robot, DOORS, ROOM_CONTENTS)\n",
        "\n",
        "# Goal Locations Setup\n",
        "goal_item_locations = {\n",
        "    'Storage': {'M2', 'H1', 'D1', 'E2'},\n",
        "    'Maths': {'M3'},\n",
        "    'English': {'E3'},\n",
        "    'History': {'H2'},\n",
        "    'Physics': {'P2'},\n",
        "    'Business': {'B2'},\n",
        "}\n",
        "\n",
        "# Instantiate the RobotWorker with the initial state and goal\n",
        "RW_PROBLEM = RobotWorker(initial_state, goal_item_locations)\n",
        "\n",
        "poss_acts = RW_PROBLEM.possible_actions( RW_PROBLEM.initial_state )\n",
        "poss_acts\n",
        "\n",
        "for act in poss_acts:\n",
        "    print(\"Action\", act, \"leads to the following state:\")\n",
        "    next_state = RW_PROBLEM.successor( RW_PROBLEM.initial_state, act )\n",
        "    RW_PROBLEM.display_state(next_state)\n",
        "    print()"
      ]
    },
    {
      "cell_type": "code",
      "execution_count": null,
      "metadata": {
        "colab": {
          "base_uri": "https://localhost:8080/",
          "height": 680
        },
        "id": "kSbvvWPA5nHY",
        "outputId": "7933c83c-f5c4-4d95-ebfc-689d729ea775"
      },
      "outputs": [
        {
          "name": "stdout",
          "output_type": "stream",
          "text": [
            "This is the general SearchProblem parent class\n",
            "You must extend this class to encode a particular search problem.\n",
            "\n",
            "** Running Brandon's Search Algorithm **\n",
            "Strategy: mode=BF/FIFO, cost=None, heuristic=None\n",
            "Max search nodes: 1000000  (max number added to queue)\n",
            "Searching (will output '.' each 1000 goal_tests)\n",
            ".................................................................................................... (100000)\n",
            ".................................................................................................... (200000)\n",
            ".................................................................................................... (300000)\n",
            ".................................................................................."
          ]
        }
      ],
      "source": [
        "search( RW_PROBLEM, 'BF/FIFO', 1000000, loop_check=True, return_info=True)"
      ]
    }
  ],
  "metadata": {
    "colab": {
      "include_colab_link": true,
      "provenance": []
    },
    "kernelspec": {
      "display_name": "Python 3",
      "language": "python",
      "name": "python3"
    },
    "language_info": {
      "codemirror_mode": {
        "name": "ipython",
        "version": 3
      },
      "file_extension": ".py",
      "mimetype": "text/x-python",
      "name": "python",
      "nbconvert_exporter": "python",
      "pygments_lexer": "ipython3",
      "version": "3.12.1"
    }
  },
  "nbformat": 4,
  "nbformat_minor": 0
}
